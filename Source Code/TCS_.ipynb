{
  "nbformat": 4,
  "nbformat_minor": 0,
  "metadata": {
    "colab": {
      "name": "TCS:.ipynb",
      "provenance": [],
      "collapsed_sections": []
    },
    "kernelspec": {
      "name": "python3",
      "display_name": "Python 3"
    },
    "language_info": {
      "name": "python"
    }
  },
  "cells": [
    {
      "cell_type": "code",
      "metadata": {
        "colab": {
          "base_uri": "https://localhost:8080/"
        },
        "id": "nR34pB3lsVC8",
        "outputId": "12dbc7ee-8a2c-49bb-f495-4cc7571613e2"
      },
      "source": [
        "import os\n",
        "os.getcwd()\n",
        "from google.colab import drive\n",
        "drive.mount('/content/gdrive')\n",
        "os.chdir('/content/gdrive/My Drive')"
      ],
      "execution_count": null,
      "outputs": [
        {
          "output_type": "stream",
          "name": "stdout",
          "text": [
            "Mounted at /content/gdrive\n"
          ]
        }
      ]
    },
    {
      "cell_type": "code",
      "metadata": {
        "id": "j7NsICtPsY25"
      },
      "source": [
        "import pandas as pd\n",
        "import numpy as np\n",
        "import matplotlib.pyplot as plt\n",
        "import seaborn as sns\n",
        "import warnings\n",
        "warnings.filterwarnings(\"ignore\")\n",
        "\n",
        "FileName = 'TCS.NS.csv'\n",
        "TCS=pd.read_csv(FileName)"
      ],
      "execution_count": null,
      "outputs": []
    },
    {
      "cell_type": "code",
      "metadata": {
        "colab": {
          "base_uri": "https://localhost:8080/",
          "height": 204
        },
        "id": "VHqN5qxmsdtL",
        "outputId": "119d879b-3866-4036-f0f6-70dd496ff498"
      },
      "source": [
        "TCS.head()"
      ],
      "execution_count": null,
      "outputs": [
        {
          "output_type": "execute_result",
          "data": {
            "text/html": [
              "<div>\n",
              "<style scoped>\n",
              "    .dataframe tbody tr th:only-of-type {\n",
              "        vertical-align: middle;\n",
              "    }\n",
              "\n",
              "    .dataframe tbody tr th {\n",
              "        vertical-align: top;\n",
              "    }\n",
              "\n",
              "    .dataframe thead th {\n",
              "        text-align: right;\n",
              "    }\n",
              "</style>\n",
              "<table border=\"1\" class=\"dataframe\">\n",
              "  <thead>\n",
              "    <tr style=\"text-align: right;\">\n",
              "      <th></th>\n",
              "      <th>Date</th>\n",
              "      <th>Open</th>\n",
              "      <th>High</th>\n",
              "      <th>Low</th>\n",
              "      <th>Close</th>\n",
              "      <th>Adj Close</th>\n",
              "      <th>Volume</th>\n",
              "    </tr>\n",
              "  </thead>\n",
              "  <tbody>\n",
              "    <tr>\n",
              "      <th>0</th>\n",
              "      <td>12/08/2002</td>\n",
              "      <td>38.724998</td>\n",
              "      <td>40.000000</td>\n",
              "      <td>38.724998</td>\n",
              "      <td>39.700001</td>\n",
              "      <td>29.519140</td>\n",
              "      <td>212976</td>\n",
              "    </tr>\n",
              "    <tr>\n",
              "      <th>1</th>\n",
              "      <td>13/08/2002</td>\n",
              "      <td>39.750000</td>\n",
              "      <td>40.387501</td>\n",
              "      <td>38.875000</td>\n",
              "      <td>39.162498</td>\n",
              "      <td>29.119476</td>\n",
              "      <td>153576</td>\n",
              "    </tr>\n",
              "    <tr>\n",
              "      <th>2</th>\n",
              "      <td>14/08/2002</td>\n",
              "      <td>39.250000</td>\n",
              "      <td>39.250000</td>\n",
              "      <td>35.724998</td>\n",
              "      <td>36.462502</td>\n",
              "      <td>27.111877</td>\n",
              "      <td>822776</td>\n",
              "    </tr>\n",
              "    <tr>\n",
              "      <th>3</th>\n",
              "      <td>15/08/2002</td>\n",
              "      <td>36.462502</td>\n",
              "      <td>36.462502</td>\n",
              "      <td>36.462502</td>\n",
              "      <td>36.462502</td>\n",
              "      <td>27.111877</td>\n",
              "      <td>0</td>\n",
              "    </tr>\n",
              "    <tr>\n",
              "      <th>4</th>\n",
              "      <td>16/08/2002</td>\n",
              "      <td>36.275002</td>\n",
              "      <td>38.000000</td>\n",
              "      <td>35.750000</td>\n",
              "      <td>36.375000</td>\n",
              "      <td>27.046812</td>\n",
              "      <td>811856</td>\n",
              "    </tr>\n",
              "  </tbody>\n",
              "</table>\n",
              "</div>"
            ],
            "text/plain": [
              "         Date       Open       High        Low      Close  Adj Close  Volume\n",
              "0  12/08/2002  38.724998  40.000000  38.724998  39.700001  29.519140  212976\n",
              "1  13/08/2002  39.750000  40.387501  38.875000  39.162498  29.119476  153576\n",
              "2  14/08/2002  39.250000  39.250000  35.724998  36.462502  27.111877  822776\n",
              "3  15/08/2002  36.462502  36.462502  36.462502  36.462502  27.111877       0\n",
              "4  16/08/2002  36.275002  38.000000  35.750000  36.375000  27.046812  811856"
            ]
          },
          "metadata": {},
          "execution_count": 5
        }
      ]
    },
    {
      "cell_type": "code",
      "metadata": {
        "colab": {
          "base_uri": "https://localhost:8080/",
          "height": 204
        },
        "id": "8RFQUgbQsliu",
        "outputId": "db1ae545-6aa3-4aca-a8dd-2e777ca73ce6"
      },
      "source": [
        "TCS.tail()"
      ],
      "execution_count": null,
      "outputs": [
        {
          "output_type": "execute_result",
          "data": {
            "text/html": [
              "<div>\n",
              "<style scoped>\n",
              "    .dataframe tbody tr th:only-of-type {\n",
              "        vertical-align: middle;\n",
              "    }\n",
              "\n",
              "    .dataframe tbody tr th {\n",
              "        vertical-align: top;\n",
              "    }\n",
              "\n",
              "    .dataframe thead th {\n",
              "        text-align: right;\n",
              "    }\n",
              "</style>\n",
              "<table border=\"1\" class=\"dataframe\">\n",
              "  <thead>\n",
              "    <tr style=\"text-align: right;\">\n",
              "      <th></th>\n",
              "      <th>Date</th>\n",
              "      <th>Open</th>\n",
              "      <th>High</th>\n",
              "      <th>Low</th>\n",
              "      <th>Close</th>\n",
              "      <th>Adj Close</th>\n",
              "      <th>Volume</th>\n",
              "    </tr>\n",
              "  </thead>\n",
              "  <tbody>\n",
              "    <tr>\n",
              "      <th>4721</th>\n",
              "      <td>23/08/2021</td>\n",
              "      <td>3580.0</td>\n",
              "      <td>3673.000000</td>\n",
              "      <td>3561.899902</td>\n",
              "      <td>3637.399902</td>\n",
              "      <td>3637.399902</td>\n",
              "      <td>3744176</td>\n",
              "    </tr>\n",
              "    <tr>\n",
              "      <th>4722</th>\n",
              "      <td>24/08/2021</td>\n",
              "      <td>3657.0</td>\n",
              "      <td>3667.350098</td>\n",
              "      <td>3594.399902</td>\n",
              "      <td>3613.199951</td>\n",
              "      <td>3613.199951</td>\n",
              "      <td>2511141</td>\n",
              "    </tr>\n",
              "    <tr>\n",
              "      <th>4723</th>\n",
              "      <td>25/08/2021</td>\n",
              "      <td>3610.0</td>\n",
              "      <td>3697.750000</td>\n",
              "      <td>3607.050049</td>\n",
              "      <td>3659.000000</td>\n",
              "      <td>3659.000000</td>\n",
              "      <td>2123263</td>\n",
              "    </tr>\n",
              "    <tr>\n",
              "      <th>4724</th>\n",
              "      <td>26/08/2021</td>\n",
              "      <td>3660.0</td>\n",
              "      <td>3687.600098</td>\n",
              "      <td>3647.899902</td>\n",
              "      <td>3671.850098</td>\n",
              "      <td>3671.850098</td>\n",
              "      <td>1902533</td>\n",
              "    </tr>\n",
              "    <tr>\n",
              "      <th>4725</th>\n",
              "      <td>27/08/2021</td>\n",
              "      <td>3666.0</td>\n",
              "      <td>3729.500000</td>\n",
              "      <td>3651.100098</td>\n",
              "      <td>3720.149902</td>\n",
              "      <td>3720.149902</td>\n",
              "      <td>3944728</td>\n",
              "    </tr>\n",
              "  </tbody>\n",
              "</table>\n",
              "</div>"
            ],
            "text/plain": [
              "            Date    Open         High  ...        Close    Adj Close   Volume\n",
              "4721  23/08/2021  3580.0  3673.000000  ...  3637.399902  3637.399902  3744176\n",
              "4722  24/08/2021  3657.0  3667.350098  ...  3613.199951  3613.199951  2511141\n",
              "4723  25/08/2021  3610.0  3697.750000  ...  3659.000000  3659.000000  2123263\n",
              "4724  26/08/2021  3660.0  3687.600098  ...  3671.850098  3671.850098  1902533\n",
              "4725  27/08/2021  3666.0  3729.500000  ...  3720.149902  3720.149902  3944728\n",
              "\n",
              "[5 rows x 7 columns]"
            ]
          },
          "metadata": {},
          "execution_count": 6
        }
      ]
    },
    {
      "cell_type": "code",
      "metadata": {
        "colab": {
          "base_uri": "https://localhost:8080/"
        },
        "id": "X0v6GFO8tbcg",
        "outputId": "9b2cf84f-b26e-4ff8-9710-ed4784b1af02"
      },
      "source": [
        "TCS.info()"
      ],
      "execution_count": null,
      "outputs": [
        {
          "output_type": "stream",
          "name": "stdout",
          "text": [
            "<class 'pandas.core.frame.DataFrame'>\n",
            "RangeIndex: 4726 entries, 0 to 4725\n",
            "Data columns (total 7 columns):\n",
            " #   Column     Non-Null Count  Dtype  \n",
            "---  ------     --------------  -----  \n",
            " 0   Date       4726 non-null   object \n",
            " 1   Open       4726 non-null   float64\n",
            " 2   High       4726 non-null   float64\n",
            " 3   Low        4726 non-null   float64\n",
            " 4   Close      4726 non-null   float64\n",
            " 5   Adj Close  4726 non-null   float64\n",
            " 6   Volume     4726 non-null   int64  \n",
            "dtypes: float64(5), int64(1), object(1)\n",
            "memory usage: 258.6+ KB\n"
          ]
        }
      ]
    },
    {
      "cell_type": "code",
      "metadata": {
        "colab": {
          "base_uri": "https://localhost:8080/"
        },
        "id": "ZJkeRL9mt4qh",
        "outputId": "32babe68-18d2-44f7-88fd-633b5a6d7f23"
      },
      "source": [
        "TCS.Date = pd.to_datetime(TCS.Date)\n",
        "TCS.info()"
      ],
      "execution_count": null,
      "outputs": [
        {
          "output_type": "stream",
          "name": "stdout",
          "text": [
            "<class 'pandas.core.frame.DataFrame'>\n",
            "RangeIndex: 4726 entries, 0 to 4725\n",
            "Data columns (total 7 columns):\n",
            " #   Column     Non-Null Count  Dtype         \n",
            "---  ------     --------------  -----         \n",
            " 0   Date       4726 non-null   datetime64[ns]\n",
            " 1   Open       4726 non-null   float64       \n",
            " 2   High       4726 non-null   float64       \n",
            " 3   Low        4726 non-null   float64       \n",
            " 4   Close      4726 non-null   float64       \n",
            " 5   Adj Close  4726 non-null   float64       \n",
            " 6   Volume     4726 non-null   int64         \n",
            "dtypes: datetime64[ns](1), float64(5), int64(1)\n",
            "memory usage: 258.6 KB\n"
          ]
        }
      ]
    },
    {
      "cell_type": "code",
      "metadata": {
        "id": "dNmMMxCYudjg"
      },
      "source": [
        "TCS = TCS.set_index('Date')"
      ],
      "execution_count": null,
      "outputs": []
    },
    {
      "cell_type": "code",
      "metadata": {
        "colab": {
          "base_uri": "https://localhost:8080/",
          "height": 450
        },
        "id": "Jf5DOEWbulSE",
        "outputId": "0cbbb186-8579-4136-bc2f-9e11e1035254"
      },
      "source": [
        "TCS"
      ],
      "execution_count": null,
      "outputs": [
        {
          "output_type": "execute_result",
          "data": {
            "text/html": [
              "<div>\n",
              "<style scoped>\n",
              "    .dataframe tbody tr th:only-of-type {\n",
              "        vertical-align: middle;\n",
              "    }\n",
              "\n",
              "    .dataframe tbody tr th {\n",
              "        vertical-align: top;\n",
              "    }\n",
              "\n",
              "    .dataframe thead th {\n",
              "        text-align: right;\n",
              "    }\n",
              "</style>\n",
              "<table border=\"1\" class=\"dataframe\">\n",
              "  <thead>\n",
              "    <tr style=\"text-align: right;\">\n",
              "      <th></th>\n",
              "      <th>Open</th>\n",
              "      <th>High</th>\n",
              "      <th>Low</th>\n",
              "      <th>Close</th>\n",
              "      <th>Adj Close</th>\n",
              "      <th>Volume</th>\n",
              "    </tr>\n",
              "    <tr>\n",
              "      <th>Date</th>\n",
              "      <th></th>\n",
              "      <th></th>\n",
              "      <th></th>\n",
              "      <th></th>\n",
              "      <th></th>\n",
              "      <th></th>\n",
              "    </tr>\n",
              "  </thead>\n",
              "  <tbody>\n",
              "    <tr>\n",
              "      <th>2002-12-08</th>\n",
              "      <td>38.724998</td>\n",
              "      <td>40.000000</td>\n",
              "      <td>38.724998</td>\n",
              "      <td>39.700001</td>\n",
              "      <td>29.519140</td>\n",
              "      <td>212976</td>\n",
              "    </tr>\n",
              "    <tr>\n",
              "      <th>2002-08-13</th>\n",
              "      <td>39.750000</td>\n",
              "      <td>40.387501</td>\n",
              "      <td>38.875000</td>\n",
              "      <td>39.162498</td>\n",
              "      <td>29.119476</td>\n",
              "      <td>153576</td>\n",
              "    </tr>\n",
              "    <tr>\n",
              "      <th>2002-08-14</th>\n",
              "      <td>39.250000</td>\n",
              "      <td>39.250000</td>\n",
              "      <td>35.724998</td>\n",
              "      <td>36.462502</td>\n",
              "      <td>27.111877</td>\n",
              "      <td>822776</td>\n",
              "    </tr>\n",
              "    <tr>\n",
              "      <th>2002-08-15</th>\n",
              "      <td>36.462502</td>\n",
              "      <td>36.462502</td>\n",
              "      <td>36.462502</td>\n",
              "      <td>36.462502</td>\n",
              "      <td>27.111877</td>\n",
              "      <td>0</td>\n",
              "    </tr>\n",
              "    <tr>\n",
              "      <th>2002-08-16</th>\n",
              "      <td>36.275002</td>\n",
              "      <td>38.000000</td>\n",
              "      <td>35.750000</td>\n",
              "      <td>36.375000</td>\n",
              "      <td>27.046812</td>\n",
              "      <td>811856</td>\n",
              "    </tr>\n",
              "    <tr>\n",
              "      <th>...</th>\n",
              "      <td>...</td>\n",
              "      <td>...</td>\n",
              "      <td>...</td>\n",
              "      <td>...</td>\n",
              "      <td>...</td>\n",
              "      <td>...</td>\n",
              "    </tr>\n",
              "    <tr>\n",
              "      <th>2021-08-23</th>\n",
              "      <td>3580.000000</td>\n",
              "      <td>3673.000000</td>\n",
              "      <td>3561.899902</td>\n",
              "      <td>3637.399902</td>\n",
              "      <td>3637.399902</td>\n",
              "      <td>3744176</td>\n",
              "    </tr>\n",
              "    <tr>\n",
              "      <th>2021-08-24</th>\n",
              "      <td>3657.000000</td>\n",
              "      <td>3667.350098</td>\n",
              "      <td>3594.399902</td>\n",
              "      <td>3613.199951</td>\n",
              "      <td>3613.199951</td>\n",
              "      <td>2511141</td>\n",
              "    </tr>\n",
              "    <tr>\n",
              "      <th>2021-08-25</th>\n",
              "      <td>3610.000000</td>\n",
              "      <td>3697.750000</td>\n",
              "      <td>3607.050049</td>\n",
              "      <td>3659.000000</td>\n",
              "      <td>3659.000000</td>\n",
              "      <td>2123263</td>\n",
              "    </tr>\n",
              "    <tr>\n",
              "      <th>2021-08-26</th>\n",
              "      <td>3660.000000</td>\n",
              "      <td>3687.600098</td>\n",
              "      <td>3647.899902</td>\n",
              "      <td>3671.850098</td>\n",
              "      <td>3671.850098</td>\n",
              "      <td>1902533</td>\n",
              "    </tr>\n",
              "    <tr>\n",
              "      <th>2021-08-27</th>\n",
              "      <td>3666.000000</td>\n",
              "      <td>3729.500000</td>\n",
              "      <td>3651.100098</td>\n",
              "      <td>3720.149902</td>\n",
              "      <td>3720.149902</td>\n",
              "      <td>3944728</td>\n",
              "    </tr>\n",
              "  </tbody>\n",
              "</table>\n",
              "<p>4726 rows × 6 columns</p>\n",
              "</div>"
            ],
            "text/plain": [
              "                   Open         High  ...    Adj Close   Volume\n",
              "Date                                  ...                      \n",
              "2002-12-08    38.724998    40.000000  ...    29.519140   212976\n",
              "2002-08-13    39.750000    40.387501  ...    29.119476   153576\n",
              "2002-08-14    39.250000    39.250000  ...    27.111877   822776\n",
              "2002-08-15    36.462502    36.462502  ...    27.111877        0\n",
              "2002-08-16    36.275002    38.000000  ...    27.046812   811856\n",
              "...                 ...          ...  ...          ...      ...\n",
              "2021-08-23  3580.000000  3673.000000  ...  3637.399902  3744176\n",
              "2021-08-24  3657.000000  3667.350098  ...  3613.199951  2511141\n",
              "2021-08-25  3610.000000  3697.750000  ...  3659.000000  2123263\n",
              "2021-08-26  3660.000000  3687.600098  ...  3671.850098  1902533\n",
              "2021-08-27  3666.000000  3729.500000  ...  3720.149902  3944728\n",
              "\n",
              "[4726 rows x 6 columns]"
            ]
          },
          "metadata": {},
          "execution_count": 10
        }
      ]
    },
    {
      "cell_type": "code",
      "metadata": {
        "colab": {
          "base_uri": "https://localhost:8080/"
        },
        "id": "Fo9_F4b8vPOV",
        "outputId": "9cf3901a-e7bf-4152-faa1-365a9462b96f"
      },
      "source": [
        "!pip install matplotlib-venn"
      ],
      "execution_count": null,
      "outputs": [
        {
          "output_type": "stream",
          "name": "stdout",
          "text": [
            "Requirement already satisfied: matplotlib-venn in /usr/local/lib/python3.7/dist-packages (0.11.6)\n",
            "Requirement already satisfied: matplotlib in /usr/local/lib/python3.7/dist-packages (from matplotlib-venn) (3.2.2)\n",
            "Requirement already satisfied: scipy in /usr/local/lib/python3.7/dist-packages (from matplotlib-venn) (1.4.1)\n",
            "Requirement already satisfied: numpy in /usr/local/lib/python3.7/dist-packages (from matplotlib-venn) (1.19.5)\n",
            "Requirement already satisfied: python-dateutil>=2.1 in /usr/local/lib/python3.7/dist-packages (from matplotlib->matplotlib-venn) (2.8.2)\n",
            "Requirement already satisfied: kiwisolver>=1.0.1 in /usr/local/lib/python3.7/dist-packages (from matplotlib->matplotlib-venn) (1.3.1)\n",
            "Requirement already satisfied: cycler>=0.10 in /usr/local/lib/python3.7/dist-packages (from matplotlib->matplotlib-venn) (0.10.0)\n",
            "Requirement already satisfied: pyparsing!=2.0.4,!=2.1.2,!=2.1.6,>=2.0.1 in /usr/local/lib/python3.7/dist-packages (from matplotlib->matplotlib-venn) (2.4.7)\n",
            "Requirement already satisfied: six in /usr/local/lib/python3.7/dist-packages (from cycler>=0.10->matplotlib->matplotlib-venn) (1.15.0)\n"
          ]
        }
      ]
    },
    {
      "cell_type": "code",
      "metadata": {
        "colab": {
          "base_uri": "https://localhost:8080/"
        },
        "id": "0UWIIRBZvaeS",
        "outputId": "ee2956db-eeb9-4ab1-cf6e-c9dfd3e1c3c1"
      },
      "source": [
        "pip install https://github.com/matplotlib/mpl_finance/archive/master.zip"
      ],
      "execution_count": null,
      "outputs": [
        {
          "output_type": "stream",
          "name": "stdout",
          "text": [
            "Collecting https://github.com/matplotlib/mpl_finance/archive/master.zip\n",
            "  Downloading https://github.com/matplotlib/mpl_finance/archive/master.zip\n",
            "\u001b[K     | 306 kB 3.7 MB/s\n",
            "\u001b[?25hRequirement already satisfied: matplotlib in /usr/local/lib/python3.7/dist-packages (from mpl-finance==0.10.1) (3.2.2)\n",
            "Requirement already satisfied: python-dateutil>=2.1 in /usr/local/lib/python3.7/dist-packages (from matplotlib->mpl-finance==0.10.1) (2.8.2)\n",
            "Requirement already satisfied: kiwisolver>=1.0.1 in /usr/local/lib/python3.7/dist-packages (from matplotlib->mpl-finance==0.10.1) (1.3.1)\n",
            "Requirement already satisfied: cycler>=0.10 in /usr/local/lib/python3.7/dist-packages (from matplotlib->mpl-finance==0.10.1) (0.10.0)\n",
            "Requirement already satisfied: pyparsing!=2.0.4,!=2.1.2,!=2.1.6,>=2.0.1 in /usr/local/lib/python3.7/dist-packages (from matplotlib->mpl-finance==0.10.1) (2.4.7)\n",
            "Requirement already satisfied: numpy>=1.11 in /usr/local/lib/python3.7/dist-packages (from matplotlib->mpl-finance==0.10.1) (1.19.5)\n",
            "Requirement already satisfied: six in /usr/local/lib/python3.7/dist-packages (from cycler>=0.10->matplotlib->mpl-finance==0.10.1) (1.15.0)\n",
            "Building wheels for collected packages: mpl-finance\n",
            "  Building wheel for mpl-finance (setup.py) ... \u001b[?25l\u001b[?25hdone\n",
            "  Created wheel for mpl-finance: filename=mpl_finance-0.10.1-py3-none-any.whl size=8435 sha256=322039e3ce42a0bd1c241726644643cbf213f3a08e0dfc2a1def858dd1748174\n",
            "  Stored in directory: /tmp/pip-ephem-wheel-cache-z1ddobmn/wheels/eb/17/99/0f3929e635912eb25fc346aaf43b4ee3da4a80dee8ce3d2e4f\n",
            "Successfully built mpl-finance\n",
            "Installing collected packages: mpl-finance\n",
            "Successfully installed mpl-finance-0.10.1\n"
          ]
        }
      ]
    },
    {
      "cell_type": "code",
      "metadata": {
        "colab": {
          "base_uri": "https://localhost:8080/"
        },
        "id": "2MucvMAMvkJB",
        "outputId": "f18595db-e80b-487d-93f7-db092bf4fff0"
      },
      "source": [
        "pip install --upgrade mplfinance"
      ],
      "execution_count": null,
      "outputs": [
        {
          "output_type": "stream",
          "name": "stdout",
          "text": [
            "Collecting mplfinance\n",
            "  Downloading mplfinance-0.12.7a17-py3-none-any.whl (62 kB)\n",
            "\u001b[?25l\r\u001b[K     |█████▎                          | 10 kB 25.6 MB/s eta 0:00:01\r\u001b[K     |██████████▌                     | 20 kB 28.1 MB/s eta 0:00:01\r\u001b[K     |███████████████▊                | 30 kB 32.9 MB/s eta 0:00:01\r\u001b[K     |█████████████████████           | 40 kB 37.1 MB/s eta 0:00:01\r\u001b[K     |██████████████████████████▎     | 51 kB 24.9 MB/s eta 0:00:01\r\u001b[K     |███████████████████████████████▌| 61 kB 27.1 MB/s eta 0:00:01\r\u001b[K     |████████████████████████████████| 62 kB 933 kB/s \n",
            "\u001b[?25hRequirement already satisfied: pandas in /usr/local/lib/python3.7/dist-packages (from mplfinance) (1.1.5)\n",
            "Requirement already satisfied: matplotlib in /usr/local/lib/python3.7/dist-packages (from mplfinance) (3.2.2)\n",
            "Requirement already satisfied: pyparsing!=2.0.4,!=2.1.2,!=2.1.6,>=2.0.1 in /usr/local/lib/python3.7/dist-packages (from matplotlib->mplfinance) (2.4.7)\n",
            "Requirement already satisfied: numpy>=1.11 in /usr/local/lib/python3.7/dist-packages (from matplotlib->mplfinance) (1.19.5)\n",
            "Requirement already satisfied: python-dateutil>=2.1 in /usr/local/lib/python3.7/dist-packages (from matplotlib->mplfinance) (2.8.2)\n",
            "Requirement already satisfied: kiwisolver>=1.0.1 in /usr/local/lib/python3.7/dist-packages (from matplotlib->mplfinance) (1.3.1)\n",
            "Requirement already satisfied: cycler>=0.10 in /usr/local/lib/python3.7/dist-packages (from matplotlib->mplfinance) (0.10.0)\n",
            "Requirement already satisfied: six in /usr/local/lib/python3.7/dist-packages (from cycler>=0.10->matplotlib->mplfinance) (1.15.0)\n",
            "Requirement already satisfied: pytz>=2017.2 in /usr/local/lib/python3.7/dist-packages (from pandas->mplfinance) (2018.9)\n",
            "Installing collected packages: mplfinance\n",
            "Successfully installed mplfinance-0.12.7a17\n"
          ]
        }
      ]
    },
    {
      "cell_type": "code",
      "metadata": {
        "colab": {
          "base_uri": "https://localhost:8080/",
          "height": 425
        },
        "id": "n27JMkDCwaw2",
        "outputId": "81c35b32-53d0-4e02-ba72-db6bf6fee5ef"
      },
      "source": [
        "import mplfinance as mpf\n",
        "mpf.plot(TCS['2020'], \n",
        "         type='candle', mav=(20), \n",
        "         volume=True, \n",
        "         title = 'TCS Share Price of 2020', \n",
        "         figratio=(20,6), tight_layout = True, \n",
        "         style = 'yahoo')"
      ],
      "execution_count": null,
      "outputs": [
        {
          "output_type": "display_data",
          "data": {
            "image/png": "[encoded data removed]",
            "text/plain": [
              "<Figure size 1916.67x575 with 4 Axes>"
            ]
          },
          "metadata": {}
        }
      ]
    },
    {
      "cell_type": "code",
      "metadata": {
        "id": "rEZ7LUoQstCX"
      },
      "source": [
        "df1=TCS.reset_index()['Close']"
      ],
      "execution_count": null,
      "outputs": []
    },
    {
      "cell_type": "code",
      "metadata": {
        "colab": {
          "base_uri": "https://localhost:8080/"
        },
        "id": "6QiqnOOIs_9e",
        "outputId": "93b7ec18-148f-4a9a-9fba-5ca2c6c3168f"
      },
      "source": [
        "df1.shape"
      ],
      "execution_count": null,
      "outputs": [
        {
          "output_type": "execute_result",
          "data": {
            "text/plain": [
              "(4726,)"
            ]
          },
          "metadata": {},
          "execution_count": 16
        }
      ]
    },
    {
      "cell_type": "code",
      "metadata": {
        "colab": {
          "base_uri": "https://localhost:8080/"
        },
        "id": "bGBroGQVtHM8",
        "outputId": "9818ed17-dc2c-4224-c227-24d268510407"
      },
      "source": [
        "df1"
      ],
      "execution_count": null,
      "outputs": [
        {
          "output_type": "execute_result",
          "data": {
            "text/plain": [
              "0         39.700001\n",
              "1         39.162498\n",
              "2         36.462502\n",
              "3         36.462502\n",
              "4         36.375000\n",
              "           ...     \n",
              "4721    3637.399902\n",
              "4722    3613.199951\n",
              "4723    3659.000000\n",
              "4724    3671.850098\n",
              "4725    3720.149902\n",
              "Name: Close, Length: 4726, dtype: float64"
            ]
          },
          "metadata": {},
          "execution_count": 17
        }
      ]
    },
    {
      "cell_type": "code",
      "metadata": {
        "colab": {
          "base_uri": "https://localhost:8080/",
          "height": 450
        },
        "id": "86bXNskKtJcq",
        "outputId": "877af094-94ff-4902-bc7e-6af1581ea41e"
      },
      "source": [
        "import matplotlib.pyplot as plt\n",
        "plt.figure(figsize=(20,6))\n",
        "plt.title('TCS Share Price of 2002 - 2021')\n",
        "plt.plot(df1)"
      ],
      "execution_count": null,
      "outputs": [
        {
          "output_type": "execute_result",
          "data": {
            "text/plain": [
              "[<matplotlib.lines.Line2D at 0x7f57a5088310>]"
            ]
          },
          "metadata": {},
          "execution_count": 70
        },
        {
          "output_type": "display_data",
          "data": {
            "image/png": "[encoded data removed]",
            "text/plain": [
              "<Figure size 2000x600 with 1 Axes>"
            ]
          },
          "metadata": {}
        }
      ]
    },
    {
      "cell_type": "code",
      "metadata": {
        "id": "KhmzK0wQtjLc"
      },
      "source": [
        "import numpy as np"
      ],
      "execution_count": null,
      "outputs": []
    },
    {
      "cell_type": "code",
      "metadata": {
        "id": "11F8IoZWtpSq"
      },
      "source": [
        "from sklearn.preprocessing import MinMaxScaler\n",
        "scaler = MinMaxScaler(feature_range=(0,1))\n",
        "df1=scaler.fit_transform(np.array(df1).reshape(-1,1))"
      ],
      "execution_count": null,
      "outputs": []
    },
    {
      "cell_type": "code",
      "metadata": {
        "colab": {
          "base_uri": "https://localhost:8080/"
        },
        "id": "yZaN017SuDfy",
        "outputId": "48eda0a6-8843-49b6-b880-3969ee9e68e2"
      },
      "source": [
        "df1"
      ],
      "execution_count": null,
      "outputs": [
        {
          "output_type": "execute_result",
          "data": {
            "text/plain": [
              "array([[1.14664200e-03],\n",
              "       [1.00076672e-03],\n",
              "       [2.68003019e-04],\n",
              "       ...,\n",
              "       [9.83404261e-01],\n",
              "       [9.86891705e-01],\n",
              "       [1.00000000e+00]])"
            ]
          },
          "metadata": {},
          "execution_count": 21
        }
      ]
    },
    {
      "cell_type": "code",
      "metadata": {
        "id": "v8nlDnRtuIUJ"
      },
      "source": [
        "training_size=int(len(df1)*0.75)\n",
        "test_size=len(df1)-training_size\n",
        "train_data,test_data=df1[0:training_size,:],df1[training_size:len(df1),:1]"
      ],
      "execution_count": null,
      "outputs": []
    },
    {
      "cell_type": "code",
      "metadata": {
        "colab": {
          "base_uri": "https://localhost:8080/"
        },
        "id": "7BE7WAuPuhZB",
        "outputId": "55d56494-2077-4716-b1e6-5a24b207a981"
      },
      "source": [
        "training_size, test_size"
      ],
      "execution_count": null,
      "outputs": [
        {
          "output_type": "execute_result",
          "data": {
            "text/plain": [
              "(3544, 1182)"
            ]
          },
          "metadata": {},
          "execution_count": 72
        }
      ]
    },
    {
      "cell_type": "code",
      "metadata": {
        "colab": {
          "base_uri": "https://localhost:8080/"
        },
        "id": "l22HaDOrvDlY",
        "outputId": "ee7b10e8-f9c5-4d9e-ce84-8bd35ba8a4e4"
      },
      "source": [
        "len(train_data), len(test_data)"
      ],
      "execution_count": null,
      "outputs": [
        {
          "output_type": "execute_result",
          "data": {
            "text/plain": [
              "(3544, 1182)"
            ]
          },
          "metadata": {},
          "execution_count": 73
        }
      ]
    },
    {
      "cell_type": "code",
      "metadata": {
        "id": "Wfb3iGg8vNYX"
      },
      "source": [
        "import numpy \n",
        "def create_dataset(dataset, time_step=1):\n",
        "  dataX, dataY = [], []\n",
        "  for i in range (len(dataset)-time_step-1):\n",
        "    a = dataset[i:(i+time_step), 0]\n",
        "    dataX.append(a)\n",
        "    dataY.append(dataset[i + time_step, 0])\n",
        "  return numpy.array(dataX), numpy.array(dataY)"
      ],
      "execution_count": null,
      "outputs": []
    },
    {
      "cell_type": "code",
      "metadata": {
        "id": "HbGS_OF4wMHh"
      },
      "source": [
        "time_step = 100\n",
        "X_train, y_train = create_dataset(train_data, time_step)\n",
        "X_test, y_test = create_dataset(test_data, time_step)"
      ],
      "execution_count": null,
      "outputs": []
    },
    {
      "cell_type": "code",
      "metadata": {
        "colab": {
          "base_uri": "https://localhost:8080/"
        },
        "id": "iKr4-5H0we3U",
        "outputId": "dad93ebc-e8cb-45bf-96ce-bdf58a5aa214"
      },
      "source": [
        "print(X_train)"
      ],
      "execution_count": null,
      "outputs": [
        {
          "output_type": "stream",
          "name": "stdout",
          "text": [
            "[[1.14664200e-03 1.00076672e-03 2.68003019e-04 ... 4.95633983e-03\n",
            "  5.37021678e-03 5.03097383e-03]\n",
            " [1.00076672e-03 2.68003019e-04 2.68003019e-04 ... 5.37021678e-03\n",
            "  5.03097383e-03 5.88247391e-03]\n",
            " [2.68003019e-04 2.68003019e-04 2.44255470e-04 ... 5.03097383e-03\n",
            "  5.88247391e-03 6.68647890e-03]\n",
            " ...\n",
            " [3.37180358e-01 3.35993007e-01 3.34344300e-01 ... 3.05115107e-01\n",
            "  3.06621359e-01 2.99361560e-01]\n",
            " [3.35993007e-01 3.34344300e-01 3.37329638e-01 ... 3.06621359e-01\n",
            "  2.99361560e-01 3.00196084e-01]\n",
            " [3.34344300e-01 3.37329638e-01 3.37526392e-01 ... 2.99361560e-01\n",
            "  3.00196084e-01 2.84814829e-01]]\n"
          ]
        }
      ]
    },
    {
      "cell_type": "code",
      "metadata": {
        "colab": {
          "base_uri": "https://localhost:8080/"
        },
        "id": "BKBYRqekw6pj",
        "outputId": "6fd59124-2dfc-426d-ba1a-6a4dbaa7f4dc"
      },
      "source": [
        "print(X_train.shape), print(y_train.shape)"
      ],
      "execution_count": null,
      "outputs": [
        {
          "output_type": "stream",
          "name": "stdout",
          "text": [
            "(3443, 100)\n",
            "(3443,)\n"
          ]
        },
        {
          "output_type": "execute_result",
          "data": {
            "text/plain": [
              "(None, None)"
            ]
          },
          "metadata": {},
          "execution_count": 77
        }
      ]
    },
    {
      "cell_type": "code",
      "metadata": {
        "colab": {
          "base_uri": "https://localhost:8080/"
        },
        "id": "_sIswsCTwiMV",
        "outputId": "a0101e84-6178-40b5-eda5-c44665e1bcbf"
      },
      "source": [
        "print(X_test.shape), print(y_test.shape)"
      ],
      "execution_count": null,
      "outputs": [
        {
          "output_type": "stream",
          "name": "stdout",
          "text": [
            "(1081, 100)\n",
            "(1081,)\n"
          ]
        },
        {
          "output_type": "execute_result",
          "data": {
            "text/plain": [
              "(None, None)"
            ]
          },
          "metadata": {},
          "execution_count": 78
        }
      ]
    },
    {
      "cell_type": "code",
      "metadata": {
        "id": "2QsJz9xPw92t"
      },
      "source": [
        "X_train =X_train.reshape(X_train.shape[0],X_train.shape[1] , 1)\n",
        "X_test = X_test.reshape(X_test.shape[0],X_test.shape[1] , 1)"
      ],
      "execution_count": null,
      "outputs": []
    },
    {
      "cell_type": "code",
      "metadata": {
        "id": "YY-0K12vytcx"
      },
      "source": [
        "from tensorflow.keras.models import Sequential\n",
        "from tensorflow.keras.layers import Dense\n",
        "from tensorflow.keras.layers import LSTM"
      ],
      "execution_count": null,
      "outputs": []
    },
    {
      "cell_type": "code",
      "metadata": {
        "id": "_V5wKTh7yzKN"
      },
      "source": [
        "model=Sequential()\n",
        "model.add(LSTM(50,return_sequences=True,input_shape=(100,1)))\n",
        "model.add(LSTM(60,return_sequences=True))\n",
        "model.add(LSTM(80))\n",
        "model.add(Dense(1))\n",
        "model.compile(loss='mean_squared_error', optimizer='adam')"
      ],
      "execution_count": null,
      "outputs": []
    },
    {
      "cell_type": "code",
      "metadata": {
        "colab": {
          "base_uri": "https://localhost:8080/"
        },
        "id": "qBPJ3FOXy_H_",
        "outputId": "b496928d-5664-432c-c488-f42ce26dc801"
      },
      "source": [
        "model.summary()"
      ],
      "execution_count": null,
      "outputs": [
        {
          "output_type": "stream",
          "name": "stdout",
          "text": [
            "Model: \"sequential_1\"\n",
            "_________________________________________________________________\n",
            "Layer (type)                 Output Shape              Param #   \n",
            "=================================================================\n",
            "lstm_3 (LSTM)                (None, 100, 50)           10400     \n",
            "_________________________________________________________________\n",
            "lstm_4 (LSTM)                (None, 100, 60)           26640     \n",
            "_________________________________________________________________\n",
            "lstm_5 (LSTM)                (None, 80)                45120     \n",
            "_________________________________________________________________\n",
            "dense_1 (Dense)              (None, 1)                 81        \n",
            "=================================================================\n",
            "Total params: 82,241\n",
            "Trainable params: 82,241\n",
            "Non-trainable params: 0\n",
            "_________________________________________________________________\n"
          ]
        }
      ]
    },
    {
      "cell_type": "code",
      "metadata": {
        "colab": {
          "base_uri": "https://localhost:8080/"
        },
        "id": "nVPrvBSvziFh",
        "outputId": "c15f6195-6038-4963-e94b-cb45f503506d"
      },
      "source": [
        "model.fit(X_train, y_train, validation_data=(X_test, y_test), epochs=100, batch_size=64, verbose=1)"
      ],
      "execution_count": null,
      "outputs": [
        {
          "output_type": "stream",
          "name": "stdout",
          "text": [
            "Epoch 1/100\n",
            "54/54 [==============================] - 17s 237ms/step - loss: 0.0017 - val_loss: 7.5773e-04\n",
            "Epoch 2/100\n",
            "54/54 [==============================] - 12s 214ms/step - loss: 5.5075e-05 - val_loss: 0.0012\n",
            "Epoch 3/100\n",
            "54/54 [==============================] - 12s 214ms/step - loss: 5.3276e-05 - val_loss: 0.0015\n",
            "Epoch 4/100\n",
            "54/54 [==============================] - 11s 213ms/step - loss: 5.0269e-05 - val_loss: 0.0018\n",
            "Epoch 5/100\n",
            "54/54 [==============================] - 12s 214ms/step - loss: 5.4481e-05 - val_loss: 0.0024\n",
            "Epoch 6/100\n",
            "54/54 [==============================] - 11s 213ms/step - loss: 5.3702e-05 - val_loss: 0.0026\n",
            "Epoch 7/100\n",
            "54/54 [==============================] - 12s 215ms/step - loss: 5.4538e-05 - val_loss: 0.0031\n",
            "Epoch 8/100\n",
            "54/54 [==============================] - 12s 216ms/step - loss: 4.8479e-05 - val_loss: 0.0024\n",
            "Epoch 9/100\n",
            "54/54 [==============================] - 12s 217ms/step - loss: 4.7158e-05 - val_loss: 0.0026\n",
            "Epoch 10/100\n",
            "54/54 [==============================] - 12s 217ms/step - loss: 5.3864e-05 - val_loss: 0.0016\n",
            "Epoch 11/100\n",
            "54/54 [==============================] - 12s 217ms/step - loss: 5.7882e-05 - val_loss: 0.0030\n",
            "Epoch 12/100\n",
            "54/54 [==============================] - 12s 217ms/step - loss: 5.2516e-05 - val_loss: 0.0021\n",
            "Epoch 13/100\n",
            "54/54 [==============================] - 12s 217ms/step - loss: 4.9087e-05 - val_loss: 0.0018\n",
            "Epoch 14/100\n",
            "54/54 [==============================] - 12s 217ms/step - loss: 4.6292e-05 - val_loss: 0.0022\n",
            "Epoch 15/100\n",
            "54/54 [==============================] - 12s 220ms/step - loss: 4.4010e-05 - val_loss: 0.0023\n",
            "Epoch 16/100\n",
            "54/54 [==============================] - 12s 223ms/step - loss: 6.2230e-05 - val_loss: 0.0033\n",
            "Epoch 17/100\n",
            "54/54 [==============================] - 12s 223ms/step - loss: 4.6873e-05 - val_loss: 0.0022\n",
            "Epoch 18/100\n",
            "54/54 [==============================] - 12s 221ms/step - loss: 4.4721e-05 - val_loss: 0.0017\n",
            "Epoch 19/100\n",
            "54/54 [==============================] - 12s 219ms/step - loss: 4.5510e-05 - val_loss: 0.0014\n",
            "Epoch 20/100\n",
            "54/54 [==============================] - 12s 221ms/step - loss: 4.3459e-05 - val_loss: 0.0013\n",
            "Epoch 21/100\n",
            "54/54 [==============================] - 12s 225ms/step - loss: 4.5097e-05 - val_loss: 0.0011\n",
            "Epoch 22/100\n",
            "54/54 [==============================] - 12s 225ms/step - loss: 4.2193e-05 - val_loss: 0.0017\n",
            "Epoch 23/100\n",
            "54/54 [==============================] - 12s 229ms/step - loss: 4.4459e-05 - val_loss: 0.0015\n",
            "Epoch 24/100\n",
            "54/54 [==============================] - 12s 226ms/step - loss: 4.4930e-05 - val_loss: 0.0011\n",
            "Epoch 25/100\n",
            "54/54 [==============================] - 12s 227ms/step - loss: 3.9659e-05 - val_loss: 0.0014\n",
            "Epoch 26/100\n",
            "54/54 [==============================] - 12s 226ms/step - loss: 3.8671e-05 - val_loss: 0.0013\n",
            "Epoch 27/100\n",
            "54/54 [==============================] - 12s 226ms/step - loss: 3.8445e-05 - val_loss: 0.0011\n",
            "Epoch 28/100\n",
            "54/54 [==============================] - 12s 229ms/step - loss: 3.6223e-05 - val_loss: 0.0024\n",
            "Epoch 29/100\n",
            "54/54 [==============================] - 12s 230ms/step - loss: 4.1674e-05 - val_loss: 0.0016\n",
            "Epoch 30/100\n",
            "54/54 [==============================] - 12s 227ms/step - loss: 4.7471e-05 - val_loss: 5.8379e-04\n",
            "Epoch 31/100\n",
            "54/54 [==============================] - 12s 227ms/step - loss: 3.5713e-05 - val_loss: 0.0013\n",
            "Epoch 32/100\n",
            "54/54 [==============================] - 12s 227ms/step - loss: 3.9769e-05 - val_loss: 7.4893e-04\n",
            "Epoch 33/100\n",
            "54/54 [==============================] - 12s 227ms/step - loss: 3.2157e-05 - val_loss: 0.0014\n",
            "Epoch 34/100\n",
            "54/54 [==============================] - 12s 227ms/step - loss: 3.1705e-05 - val_loss: 7.3583e-04\n",
            "Epoch 35/100\n",
            "54/54 [==============================] - 12s 228ms/step - loss: 3.0414e-05 - val_loss: 6.5090e-04\n",
            "Epoch 36/100\n",
            "54/54 [==============================] - 12s 227ms/step - loss: 3.2137e-05 - val_loss: 8.9619e-04\n",
            "Epoch 37/100\n",
            "54/54 [==============================] - 12s 226ms/step - loss: 3.4438e-05 - val_loss: 8.5980e-04\n",
            "Epoch 38/100\n",
            "54/54 [==============================] - 12s 226ms/step - loss: 3.0663e-05 - val_loss: 9.2323e-04\n",
            "Epoch 39/100\n",
            "54/54 [==============================] - 12s 225ms/step - loss: 3.1575e-05 - val_loss: 5.8411e-04\n",
            "Epoch 40/100\n",
            "54/54 [==============================] - 12s 226ms/step - loss: 3.0199e-05 - val_loss: 0.0012\n",
            "Epoch 41/100\n",
            "54/54 [==============================] - 12s 226ms/step - loss: 2.8230e-05 - val_loss: 7.0269e-04\n",
            "Epoch 42/100\n",
            "54/54 [==============================] - 12s 225ms/step - loss: 2.9113e-05 - val_loss: 0.0013\n",
            "Epoch 43/100\n",
            "54/54 [==============================] - 12s 226ms/step - loss: 2.9509e-05 - val_loss: 8.3370e-04\n",
            "Epoch 44/100\n",
            "54/54 [==============================] - 12s 225ms/step - loss: 2.9705e-05 - val_loss: 8.5100e-04\n",
            "Epoch 45/100\n",
            "54/54 [==============================] - 12s 217ms/step - loss: 3.9202e-05 - val_loss: 6.0192e-04\n",
            "Epoch 46/100\n",
            "54/54 [==============================] - 12s 214ms/step - loss: 3.2517e-05 - val_loss: 7.5784e-04\n",
            "Epoch 47/100\n",
            "54/54 [==============================] - 11s 213ms/step - loss: 3.9909e-05 - val_loss: 5.5797e-04\n",
            "Epoch 48/100\n",
            "54/54 [==============================] - 12s 216ms/step - loss: 2.7486e-05 - val_loss: 6.7267e-04\n",
            "Epoch 49/100\n",
            "54/54 [==============================] - 12s 217ms/step - loss: 2.4097e-05 - val_loss: 0.0012\n",
            "Epoch 50/100\n",
            "54/54 [==============================] - 12s 217ms/step - loss: 2.7414e-05 - val_loss: 0.0013\n",
            "Epoch 51/100\n",
            "54/54 [==============================] - 12s 219ms/step - loss: 2.7345e-05 - val_loss: 0.0012\n",
            "Epoch 52/100\n",
            "54/54 [==============================] - 12s 218ms/step - loss: 2.4742e-05 - val_loss: 6.8297e-04\n",
            "Epoch 53/100\n",
            "54/54 [==============================] - 12s 220ms/step - loss: 3.1127e-05 - val_loss: 7.6583e-04\n",
            "Epoch 54/100\n",
            "54/54 [==============================] - 12s 218ms/step - loss: 2.3204e-05 - val_loss: 7.1781e-04\n",
            "Epoch 55/100\n",
            "54/54 [==============================] - 12s 222ms/step - loss: 2.3282e-05 - val_loss: 8.0505e-04\n",
            "Epoch 56/100\n",
            "54/54 [==============================] - 12s 223ms/step - loss: 2.1582e-05 - val_loss: 0.0011\n",
            "Epoch 57/100\n",
            "54/54 [==============================] - 12s 219ms/step - loss: 2.3498e-05 - val_loss: 4.8953e-04\n",
            "Epoch 58/100\n",
            "54/54 [==============================] - 12s 218ms/step - loss: 2.3745e-05 - val_loss: 4.3043e-04\n",
            "Epoch 59/100\n",
            "54/54 [==============================] - 12s 218ms/step - loss: 2.5616e-05 - val_loss: 7.1583e-04\n",
            "Epoch 60/100\n",
            "54/54 [==============================] - 12s 219ms/step - loss: 2.5019e-05 - val_loss: 3.6476e-04\n",
            "Epoch 61/100\n",
            "54/54 [==============================] - 12s 221ms/step - loss: 2.3976e-05 - val_loss: 0.0010\n",
            "Epoch 62/100\n",
            "54/54 [==============================] - 12s 218ms/step - loss: 2.0778e-05 - val_loss: 4.2837e-04\n",
            "Epoch 63/100\n",
            "54/54 [==============================] - 12s 219ms/step - loss: 2.3935e-05 - val_loss: 3.7859e-04\n",
            "Epoch 64/100\n",
            "54/54 [==============================] - 12s 220ms/step - loss: 1.8506e-05 - val_loss: 3.9262e-04\n",
            "Epoch 65/100\n",
            "54/54 [==============================] - 12s 218ms/step - loss: 2.1808e-05 - val_loss: 6.1293e-04\n",
            "Epoch 66/100\n",
            "54/54 [==============================] - 12s 217ms/step - loss: 2.1472e-05 - val_loss: 2.6898e-04\n",
            "Epoch 67/100\n",
            "54/54 [==============================] - 12s 218ms/step - loss: 2.0921e-05 - val_loss: 0.0016\n",
            "Epoch 68/100\n",
            "54/54 [==============================] - 12s 218ms/step - loss: 1.8796e-05 - val_loss: 7.5607e-04\n",
            "Epoch 69/100\n",
            "54/54 [==============================] - 12s 217ms/step - loss: 1.6856e-05 - val_loss: 8.8864e-04\n",
            "Epoch 70/100\n",
            "54/54 [==============================] - 12s 218ms/step - loss: 1.6798e-05 - val_loss: 2.7486e-04\n",
            "Epoch 71/100\n",
            "54/54 [==============================] - 12s 217ms/step - loss: 1.6712e-05 - val_loss: 3.1752e-04\n",
            "Epoch 72/100\n",
            "54/54 [==============================] - 12s 217ms/step - loss: 1.5283e-05 - val_loss: 3.5186e-04\n",
            "Epoch 73/100\n",
            "54/54 [==============================] - 12s 218ms/step - loss: 1.5448e-05 - val_loss: 8.6749e-04\n",
            "Epoch 74/100\n",
            "54/54 [==============================] - 12s 217ms/step - loss: 2.2429e-05 - val_loss: 2.4625e-04\n",
            "Epoch 75/100\n",
            "54/54 [==============================] - 12s 218ms/step - loss: 1.9731e-05 - val_loss: 7.3251e-04\n",
            "Epoch 76/100\n",
            "54/54 [==============================] - 12s 218ms/step - loss: 1.7115e-05 - val_loss: 8.5417e-04\n",
            "Epoch 77/100\n",
            "54/54 [==============================] - 12s 218ms/step - loss: 1.4224e-05 - val_loss: 3.7092e-04\n",
            "Epoch 78/100\n",
            "54/54 [==============================] - 12s 218ms/step - loss: 2.0014e-05 - val_loss: 6.7039e-04\n",
            "Epoch 79/100\n",
            "54/54 [==============================] - 12s 217ms/step - loss: 1.6854e-05 - val_loss: 3.1430e-04\n",
            "Epoch 80/100\n",
            "54/54 [==============================] - 12s 219ms/step - loss: 1.5322e-05 - val_loss: 6.8937e-04\n",
            "Epoch 81/100\n",
            "54/54 [==============================] - 12s 217ms/step - loss: 1.9526e-05 - val_loss: 8.9535e-04\n",
            "Epoch 82/100\n",
            "54/54 [==============================] - 12s 219ms/step - loss: 1.4146e-05 - val_loss: 3.6573e-04\n",
            "Epoch 83/100\n",
            "54/54 [==============================] - 12s 218ms/step - loss: 1.1964e-05 - val_loss: 4.3566e-04\n",
            "Epoch 84/100\n",
            "54/54 [==============================] - 12s 218ms/step - loss: 1.4039e-05 - val_loss: 6.6901e-04\n",
            "Epoch 85/100\n",
            "54/54 [==============================] - 12s 218ms/step - loss: 1.3765e-05 - val_loss: 2.9359e-04\n",
            "Epoch 86/100\n",
            "54/54 [==============================] - 12s 218ms/step - loss: 1.2123e-05 - val_loss: 3.8736e-04\n",
            "Epoch 87/100\n",
            "54/54 [==============================] - 12s 219ms/step - loss: 1.1817e-05 - val_loss: 7.0602e-04\n",
            "Epoch 88/100\n",
            "54/54 [==============================] - 12s 220ms/step - loss: 1.1911e-05 - val_loss: 3.6044e-04\n",
            "Epoch 89/100\n",
            "54/54 [==============================] - 12s 219ms/step - loss: 1.3738e-05 - val_loss: 4.8749e-04\n",
            "Epoch 90/100\n",
            "54/54 [==============================] - 12s 218ms/step - loss: 1.1417e-05 - val_loss: 2.8944e-04\n",
            "Epoch 91/100\n",
            "54/54 [==============================] - 12s 217ms/step - loss: 1.0933e-05 - val_loss: 3.2052e-04\n",
            "Epoch 92/100\n",
            "54/54 [==============================] - 12s 216ms/step - loss: 1.0817e-05 - val_loss: 2.9209e-04\n",
            "Epoch 93/100\n",
            "54/54 [==============================] - 12s 216ms/step - loss: 1.6029e-05 - val_loss: 4.2842e-04\n",
            "Epoch 94/100\n",
            "54/54 [==============================] - 12s 223ms/step - loss: 1.5584e-05 - val_loss: 4.2323e-04\n",
            "Epoch 95/100\n",
            "54/54 [==============================] - 12s 226ms/step - loss: 1.1866e-05 - val_loss: 4.0337e-04\n",
            "Epoch 96/100\n",
            "54/54 [==============================] - 12s 226ms/step - loss: 1.0867e-05 - val_loss: 4.2868e-04\n",
            "Epoch 97/100\n",
            "54/54 [==============================] - 12s 227ms/step - loss: 1.1214e-05 - val_loss: 5.4453e-04\n",
            "Epoch 98/100\n",
            "54/54 [==============================] - 12s 227ms/step - loss: 1.2253e-05 - val_loss: 5.5145e-04\n",
            "Epoch 99/100\n",
            "54/54 [==============================] - 12s 230ms/step - loss: 1.0519e-05 - val_loss: 2.5189e-04\n",
            "Epoch 100/100\n",
            "54/54 [==============================] - 12s 228ms/step - loss: 1.2687e-05 - val_loss: 6.3792e-04\n"
          ]
        },
        {
          "output_type": "execute_result",
          "data": {
            "text/plain": [
              "<keras.callbacks.History at 0x7f57a40a8b50>"
            ]
          },
          "metadata": {},
          "execution_count": 83
        }
      ]
    },
    {
      "cell_type": "code",
      "metadata": {
        "id": "u82EsQ4a0c-2"
      },
      "source": [
        "import tensorflow as tf"
      ],
      "execution_count": null,
      "outputs": []
    },
    {
      "cell_type": "code",
      "metadata": {
        "colab": {
          "base_uri": "https://localhost:8080/",
          "height": 37
        },
        "id": "xZH6Ysln0llD",
        "outputId": "4a0a756f-a79b-4846-d6dd-75ef99340f31"
      },
      "source": [
        "tf.__version__"
      ],
      "execution_count": null,
      "outputs": [
        {
          "output_type": "execute_result",
          "data": {
            "application/vnd.google.colaboratory.intrinsic+json": {
              "type": "string"
            },
            "text/plain": [
              "'2.6.0'"
            ]
          },
          "metadata": {},
          "execution_count": 85
        }
      ]
    },
    {
      "cell_type": "code",
      "metadata": {
        "id": "fjDIwcMH0ngp"
      },
      "source": [
        "### Lets Do the prediction and check performance metrics\n",
        "train_predict=model.predict(X_train)\n",
        "test_predict=model.predict(X_test)"
      ],
      "execution_count": null,
      "outputs": []
    },
    {
      "cell_type": "code",
      "metadata": {
        "id": "pnW1sUZW0pbC"
      },
      "source": [
        "##Transformback to original form\n",
        "train_predict=scaler.inverse_transform(train_predict)\n",
        "test_predict=scaler.inverse_transform(test_predict)"
      ],
      "execution_count": null,
      "outputs": []
    },
    {
      "cell_type": "code",
      "metadata": {
        "colab": {
          "base_uri": "https://localhost:8080/"
        },
        "id": "oewqwI3j0rJj",
        "outputId": "1a6a2886-a7b5-4dc9-cd17-4bf09055d66e"
      },
      "source": [
        "### Calculate RMSE performance metrics\n",
        "import math\n",
        "from sklearn.metrics import mean_squared_error\n",
        "math.sqrt(mean_squared_error(y_train,train_predict))"
      ],
      "execution_count": null,
      "outputs": [
        {
          "output_type": "execute_result",
          "data": {
            "text/plain": [
              "656.8161488272174"
            ]
          },
          "metadata": {},
          "execution_count": 88
        }
      ]
    },
    {
      "cell_type": "code",
      "metadata": {
        "colab": {
          "base_uri": "https://localhost:8080/"
        },
        "id": "yV7wtOxU0thE",
        "outputId": "12a4e928-073e-4394-f3f5-e7dd679c3a5e"
      },
      "source": [
        "### Test Data RMSE\n",
        "math.sqrt(mean_squared_error(y_test,test_predict))"
      ],
      "execution_count": null,
      "outputs": [
        {
          "output_type": "execute_result",
          "data": {
            "text/plain": [
              "2093.816431435155"
            ]
          },
          "metadata": {},
          "execution_count": 89
        }
      ]
    },
    {
      "cell_type": "code",
      "metadata": {
        "colab": {
          "base_uri": "https://localhost:8080/",
          "height": 452
        },
        "id": "b2O9FdYN03ec",
        "outputId": "ca7ce094-3b16-4e3d-cec4-57097b75d76b"
      },
      "source": [
        "### Plotting \n",
        "# shift train predictions for plotting\n",
        "look_back=100\n",
        "trainPredictPlot = numpy.empty_like(df1)\n",
        "trainPredictPlot[:, :] = np.nan\n",
        "trainPredictPlot[look_back:len(train_predict)+look_back, :] = train_predict\n",
        "# shift test predictions for plotting\n",
        "testPredictPlot = numpy.empty_like(df1)\n",
        "testPredictPlot[:, :] = numpy.nan\n",
        "testPredictPlot[len(train_predict)+(look_back*2)+1:len(df1)-1, :] = test_predict\n",
        "# plot baseline and predictions\n",
        "plt.plot(scaler.inverse_transform(df1))\n",
        "plt.plot(trainPredictPlot)\n",
        "plt.plot(testPredictPlot)\n",
        "plt.title('TCS Train Test Split')\n",
        "plt.show()"
      ],
      "execution_count": null,
      "outputs": [
        {
          "output_type": "display_data",
          "data": {
            "image/png": "[encoded data removed]",
            "text/plain": [
              "<Figure size 640x480 with 1 Axes>"
            ]
          },
          "metadata": {}
        }
      ]
    },
    {
      "cell_type": "code",
      "metadata": {
        "colab": {
          "base_uri": "https://localhost:8080/"
        },
        "id": "XJDVfIMk05WN",
        "outputId": "17764df5-e397-44ab-e0da-9f7705308efc"
      },
      "source": [
        "len(test_data)"
      ],
      "execution_count": null,
      "outputs": [
        {
          "output_type": "execute_result",
          "data": {
            "text/plain": [
              "1182"
            ]
          },
          "metadata": {},
          "execution_count": 91
        }
      ]
    },
    {
      "cell_type": "code",
      "metadata": {
        "colab": {
          "base_uri": "https://localhost:8080/"
        },
        "id": "faLcUIDr08mi",
        "outputId": "0ccc5922-e977-44ee-be74-65c78e3e1e1f"
      },
      "source": [
        "x_input=test_data[1082:].reshape(1,-1)\n",
        "x_input.shape"
      ],
      "execution_count": null,
      "outputs": [
        {
          "output_type": "execute_result",
          "data": {
            "text/plain": [
              "(1, 100)"
            ]
          },
          "metadata": {},
          "execution_count": 92
        }
      ]
    },
    {
      "cell_type": "code",
      "metadata": {
        "id": "7oKtWwxZ09IM"
      },
      "source": [
        "temp_input=list(x_input)\n",
        "temp_input=temp_input[0].tolist()"
      ],
      "execution_count": null,
      "outputs": []
    },
    {
      "cell_type": "code",
      "metadata": {
        "colab": {
          "base_uri": "https://localhost:8080/"
        },
        "id": "Nm8nnIo809lO",
        "outputId": "fe04a902-1ec0-461e-a107-ac614c3d047e"
      },
      "source": [
        "# demonstrate prediction for next 30 days\n",
        "from numpy import array\n",
        "\n",
        "lst_output=[]\n",
        "n_steps=100\n",
        "i=0\n",
        "while(i<30):\n",
        "    \n",
        "    if(len(temp_input)>100):\n",
        "        #print(temp_input)\n",
        "        x_input=np.array(temp_input[1:])\n",
        "        print(\"{} day input {}\".format(i,x_input))\n",
        "        x_input=x_input.reshape(1,-1)\n",
        "        x_input = x_input.reshape((1, n_steps, 1))\n",
        "        #print(x_input)\n",
        "        yhat = model.predict(x_input, verbose=0)\n",
        "        print(\"{} day output {}\".format(i,yhat))\n",
        "        temp_input.extend(yhat[0].tolist())\n",
        "        temp_input=temp_input[1:]\n",
        "        #print(temp_input)\n",
        "        lst_output.extend(yhat.tolist())\n",
        "        i=i+1\n",
        "    else:\n",
        "        x_input = x_input.reshape((1, n_steps,1))\n",
        "        yhat = model.predict(x_input, verbose=0)\n",
        "        print(yhat[0])\n",
        "        temp_input.extend(yhat[0].tolist())\n",
        "        print(len(temp_input))\n",
        "        lst_output.extend(yhat.tolist())\n",
        "        i=i+1\n",
        "    \n",
        "\n",
        "print(lst_output)"
      ],
      "execution_count": null,
      "outputs": [
        {
          "output_type": "stream",
          "name": "stdout",
          "text": [
            "[0.93656087]\n",
            "101\n",
            "1 day input [0.87639345 0.87821178 0.8906824  0.89201221 0.87146767 0.83279397\n",
            " 0.86397716 0.85751796 0.848467   0.84378544 0.83679704 0.83427306\n",
            " 0.83191194 0.84037943 0.83823544 0.83583358 0.81423056 0.81459697\n",
            " 0.81805725 0.8305278  0.83480226 0.84062366 0.84404326 0.83782835\n",
            " 0.82832955 0.81853219 0.82348513 0.82865521 0.82680971 0.82083904\n",
            " 0.82640262 0.82667402 0.83549433 0.84757138 0.85340636 0.84352763\n",
            " 0.84774776 0.84607871 0.83968736 0.84288983 0.84356832 0.85427481\n",
            " 0.85887493 0.8589021  0.86339369 0.87886317 0.87955523 0.87586424\n",
            " 0.87901245 0.89079093 0.88524093 0.8786732  0.88629934 0.87549784\n",
            " 0.90594834 0.90790236 0.89594743 0.89706017 0.89838998 0.89723655\n",
            " 0.89288066 0.89167297 0.87574213 0.87917524 0.87471082 0.86104609\n",
            " 0.85696165 0.8554554  0.86278305 0.85963485 0.85742301 0.8546548\n",
            " 0.86040835 0.86327157 0.86232169 0.85816935 0.85420696 0.85823719\n",
            " 0.85769441 0.85000035 0.86409927 0.8818756  0.87890385 0.88161779\n",
            " 0.88863336 0.89213432 0.89517393 0.8979693  0.90001834 0.9303195\n",
            " 0.93291133 0.95465004 0.9566855  0.95640052 0.97754212 0.97097439\n",
            " 0.98340426 0.98689171 1.         0.93656087]\n",
            "1 day output [[0.8261036]]\n",
            "2 day input [0.87821178 0.8906824  0.89201221 0.87146767 0.83279397 0.86397716\n",
            " 0.85751796 0.848467   0.84378544 0.83679704 0.83427306 0.83191194\n",
            " 0.84037943 0.83823544 0.83583358 0.81423056 0.81459697 0.81805725\n",
            " 0.8305278  0.83480226 0.84062366 0.84404326 0.83782835 0.82832955\n",
            " 0.81853219 0.82348513 0.82865521 0.82680971 0.82083904 0.82640262\n",
            " 0.82667402 0.83549433 0.84757138 0.85340636 0.84352763 0.84774776\n",
            " 0.84607871 0.83968736 0.84288983 0.84356832 0.85427481 0.85887493\n",
            " 0.8589021  0.86339369 0.87886317 0.87955523 0.87586424 0.87901245\n",
            " 0.89079093 0.88524093 0.8786732  0.88629934 0.87549784 0.90594834\n",
            " 0.90790236 0.89594743 0.89706017 0.89838998 0.89723655 0.89288066\n",
            " 0.89167297 0.87574213 0.87917524 0.87471082 0.86104609 0.85696165\n",
            " 0.8554554  0.86278305 0.85963485 0.85742301 0.8546548  0.86040835\n",
            " 0.86327157 0.86232169 0.85816935 0.85420696 0.85823719 0.85769441\n",
            " 0.85000035 0.86409927 0.8818756  0.87890385 0.88161779 0.88863336\n",
            " 0.89213432 0.89517393 0.8979693  0.90001834 0.9303195  0.93291133\n",
            " 0.95465004 0.9566855  0.95640052 0.97754212 0.97097439 0.98340426\n",
            " 0.98689171 1.         0.93656087 0.82610363]\n",
            "2 day output [[0.7072556]]\n",
            "3 day input [0.8906824  0.89201221 0.87146767 0.83279397 0.86397716 0.85751796\n",
            " 0.848467   0.84378544 0.83679704 0.83427306 0.83191194 0.84037943\n",
            " 0.83823544 0.83583358 0.81423056 0.81459697 0.81805725 0.8305278\n",
            " 0.83480226 0.84062366 0.84404326 0.83782835 0.82832955 0.81853219\n",
            " 0.82348513 0.82865521 0.82680971 0.82083904 0.82640262 0.82667402\n",
            " 0.83549433 0.84757138 0.85340636 0.84352763 0.84774776 0.84607871\n",
            " 0.83968736 0.84288983 0.84356832 0.85427481 0.85887493 0.8589021\n",
            " 0.86339369 0.87886317 0.87955523 0.87586424 0.87901245 0.89079093\n",
            " 0.88524093 0.8786732  0.88629934 0.87549784 0.90594834 0.90790236\n",
            " 0.89594743 0.89706017 0.89838998 0.89723655 0.89288066 0.89167297\n",
            " 0.87574213 0.87917524 0.87471082 0.86104609 0.85696165 0.8554554\n",
            " 0.86278305 0.85963485 0.85742301 0.8546548  0.86040835 0.86327157\n",
            " 0.86232169 0.85816935 0.85420696 0.85823719 0.85769441 0.85000035\n",
            " 0.86409927 0.8818756  0.87890385 0.88161779 0.88863336 0.89213432\n",
            " 0.89517393 0.8979693  0.90001834 0.9303195  0.93291133 0.95465004\n",
            " 0.9566855  0.95640052 0.97754212 0.97097439 0.98340426 0.98689171\n",
            " 1.         0.93656087 0.82610363 0.7072556 ]\n",
            "3 day output [[0.6101466]]\n",
            "4 day input [0.89201221 0.87146767 0.83279397 0.86397716 0.85751796 0.848467\n",
            " 0.84378544 0.83679704 0.83427306 0.83191194 0.84037943 0.83823544\n",
            " 0.83583358 0.81423056 0.81459697 0.81805725 0.8305278  0.83480226\n",
            " 0.84062366 0.84404326 0.83782835 0.82832955 0.81853219 0.82348513\n",
            " 0.82865521 0.82680971 0.82083904 0.82640262 0.82667402 0.83549433\n",
            " 0.84757138 0.85340636 0.84352763 0.84774776 0.84607871 0.83968736\n",
            " 0.84288983 0.84356832 0.85427481 0.85887493 0.8589021  0.86339369\n",
            " 0.87886317 0.87955523 0.87586424 0.87901245 0.89079093 0.88524093\n",
            " 0.8786732  0.88629934 0.87549784 0.90594834 0.90790236 0.89594743\n",
            " 0.89706017 0.89838998 0.89723655 0.89288066 0.89167297 0.87574213\n",
            " 0.87917524 0.87471082 0.86104609 0.85696165 0.8554554  0.86278305\n",
            " 0.85963485 0.85742301 0.8546548  0.86040835 0.86327157 0.86232169\n",
            " 0.85816935 0.85420696 0.85823719 0.85769441 0.85000035 0.86409927\n",
            " 0.8818756  0.87890385 0.88161779 0.88863336 0.89213432 0.89517393\n",
            " 0.8979693  0.90001834 0.9303195  0.93291133 0.95465004 0.9566855\n",
            " 0.95640052 0.97754212 0.97097439 0.98340426 0.98689171 1.\n",
            " 0.93656087 0.82610363 0.7072556  0.61014658]\n",
            "4 day output [[0.5455014]]\n",
            "5 day input [0.87146767 0.83279397 0.86397716 0.85751796 0.848467   0.84378544\n",
            " 0.83679704 0.83427306 0.83191194 0.84037943 0.83823544 0.83583358\n",
            " 0.81423056 0.81459697 0.81805725 0.8305278  0.83480226 0.84062366\n",
            " 0.84404326 0.83782835 0.82832955 0.81853219 0.82348513 0.82865521\n",
            " 0.82680971 0.82083904 0.82640262 0.82667402 0.83549433 0.84757138\n",
            " 0.85340636 0.84352763 0.84774776 0.84607871 0.83968736 0.84288983\n",
            " 0.84356832 0.85427481 0.85887493 0.8589021  0.86339369 0.87886317\n",
            " 0.87955523 0.87586424 0.87901245 0.89079093 0.88524093 0.8786732\n",
            " 0.88629934 0.87549784 0.90594834 0.90790236 0.89594743 0.89706017\n",
            " 0.89838998 0.89723655 0.89288066 0.89167297 0.87574213 0.87917524\n",
            " 0.87471082 0.86104609 0.85696165 0.8554554  0.86278305 0.85963485\n",
            " 0.85742301 0.8546548  0.86040835 0.86327157 0.86232169 0.85816935\n",
            " 0.85420696 0.85823719 0.85769441 0.85000035 0.86409927 0.8818756\n",
            " 0.87890385 0.88161779 0.88863336 0.89213432 0.89517393 0.8979693\n",
            " 0.90001834 0.9303195  0.93291133 0.95465004 0.9566855  0.95640052\n",
            " 0.97754212 0.97097439 0.98340426 0.98689171 1.         0.93656087\n",
            " 0.82610363 0.7072556  0.61014658 0.54550141]\n",
            "5 day output [[0.5085206]]\n",
            "6 day input [0.83279397 0.86397716 0.85751796 0.848467   0.84378544 0.83679704\n",
            " 0.83427306 0.83191194 0.84037943 0.83823544 0.83583358 0.81423056\n",
            " 0.81459697 0.81805725 0.8305278  0.83480226 0.84062366 0.84404326\n",
            " 0.83782835 0.82832955 0.81853219 0.82348513 0.82865521 0.82680971\n",
            " 0.82083904 0.82640262 0.82667402 0.83549433 0.84757138 0.85340636\n",
            " 0.84352763 0.84774776 0.84607871 0.83968736 0.84288983 0.84356832\n",
            " 0.85427481 0.85887493 0.8589021  0.86339369 0.87886317 0.87955523\n",
            " 0.87586424 0.87901245 0.89079093 0.88524093 0.8786732  0.88629934\n",
            " 0.87549784 0.90594834 0.90790236 0.89594743 0.89706017 0.89838998\n",
            " 0.89723655 0.89288066 0.89167297 0.87574213 0.87917524 0.87471082\n",
            " 0.86104609 0.85696165 0.8554554  0.86278305 0.85963485 0.85742301\n",
            " 0.8546548  0.86040835 0.86327157 0.86232169 0.85816935 0.85420696\n",
            " 0.85823719 0.85769441 0.85000035 0.86409927 0.8818756  0.87890385\n",
            " 0.88161779 0.88863336 0.89213432 0.89517393 0.8979693  0.90001834\n",
            " 0.9303195  0.93291133 0.95465004 0.9566855  0.95640052 0.97754212\n",
            " 0.97097439 0.98340426 0.98689171 1.         0.93656087 0.82610363\n",
            " 0.7072556  0.61014658 0.54550141 0.5085206 ]\n",
            "6 day output [[0.4875635]]\n",
            "7 day input [0.86397716 0.85751796 0.848467   0.84378544 0.83679704 0.83427306\n",
            " 0.83191194 0.84037943 0.83823544 0.83583358 0.81423056 0.81459697\n",
            " 0.81805725 0.8305278  0.83480226 0.84062366 0.84404326 0.83782835\n",
            " 0.82832955 0.81853219 0.82348513 0.82865521 0.82680971 0.82083904\n",
            " 0.82640262 0.82667402 0.83549433 0.84757138 0.85340636 0.84352763\n",
            " 0.84774776 0.84607871 0.83968736 0.84288983 0.84356832 0.85427481\n",
            " 0.85887493 0.8589021  0.86339369 0.87886317 0.87955523 0.87586424\n",
            " 0.87901245 0.89079093 0.88524093 0.8786732  0.88629934 0.87549784\n",
            " 0.90594834 0.90790236 0.89594743 0.89706017 0.89838998 0.89723655\n",
            " 0.89288066 0.89167297 0.87574213 0.87917524 0.87471082 0.86104609\n",
            " 0.85696165 0.8554554  0.86278305 0.85963485 0.85742301 0.8546548\n",
            " 0.86040835 0.86327157 0.86232169 0.85816935 0.85420696 0.85823719\n",
            " 0.85769441 0.85000035 0.86409927 0.8818756  0.87890385 0.88161779\n",
            " 0.88863336 0.89213432 0.89517393 0.8979693  0.90001834 0.9303195\n",
            " 0.93291133 0.95465004 0.9566855  0.95640052 0.97754212 0.97097439\n",
            " 0.98340426 0.98689171 1.         0.93656087 0.82610363 0.7072556\n",
            " 0.61014658 0.54550141 0.5085206  0.48756349]\n",
            "7 day output [[0.4729767]]\n",
            "8 day input [0.85751796 0.848467   0.84378544 0.83679704 0.83427306 0.83191194\n",
            " 0.84037943 0.83823544 0.83583358 0.81423056 0.81459697 0.81805725\n",
            " 0.8305278  0.83480226 0.84062366 0.84404326 0.83782835 0.82832955\n",
            " 0.81853219 0.82348513 0.82865521 0.82680971 0.82083904 0.82640262\n",
            " 0.82667402 0.83549433 0.84757138 0.85340636 0.84352763 0.84774776\n",
            " 0.84607871 0.83968736 0.84288983 0.84356832 0.85427481 0.85887493\n",
            " 0.8589021  0.86339369 0.87886317 0.87955523 0.87586424 0.87901245\n",
            " 0.89079093 0.88524093 0.8786732  0.88629934 0.87549784 0.90594834\n",
            " 0.90790236 0.89594743 0.89706017 0.89838998 0.89723655 0.89288066\n",
            " 0.89167297 0.87574213 0.87917524 0.87471082 0.86104609 0.85696165\n",
            " 0.8554554  0.86278305 0.85963485 0.85742301 0.8546548  0.86040835\n",
            " 0.86327157 0.86232169 0.85816935 0.85420696 0.85823719 0.85769441\n",
            " 0.85000035 0.86409927 0.8818756  0.87890385 0.88161779 0.88863336\n",
            " 0.89213432 0.89517393 0.8979693  0.90001834 0.9303195  0.93291133\n",
            " 0.95465004 0.9566855  0.95640052 0.97754212 0.97097439 0.98340426\n",
            " 0.98689171 1.         0.93656087 0.82610363 0.7072556  0.61014658\n",
            " 0.54550141 0.5085206  0.48756349 0.47297671]\n",
            "8 day output [[0.46024525]]\n",
            "9 day input [0.848467   0.84378544 0.83679704 0.83427306 0.83191194 0.84037943\n",
            " 0.83823544 0.83583358 0.81423056 0.81459697 0.81805725 0.8305278\n",
            " 0.83480226 0.84062366 0.84404326 0.83782835 0.82832955 0.81853219\n",
            " 0.82348513 0.82865521 0.82680971 0.82083904 0.82640262 0.82667402\n",
            " 0.83549433 0.84757138 0.85340636 0.84352763 0.84774776 0.84607871\n",
            " 0.83968736 0.84288983 0.84356832 0.85427481 0.85887493 0.8589021\n",
            " 0.86339369 0.87886317 0.87955523 0.87586424 0.87901245 0.89079093\n",
            " 0.88524093 0.8786732  0.88629934 0.87549784 0.90594834 0.90790236\n",
            " 0.89594743 0.89706017 0.89838998 0.89723655 0.89288066 0.89167297\n",
            " 0.87574213 0.87917524 0.87471082 0.86104609 0.85696165 0.8554554\n",
            " 0.86278305 0.85963485 0.85742301 0.8546548  0.86040835 0.86327157\n",
            " 0.86232169 0.85816935 0.85420696 0.85823719 0.85769441 0.85000035\n",
            " 0.86409927 0.8818756  0.87890385 0.88161779 0.88863336 0.89213432\n",
            " 0.89517393 0.8979693  0.90001834 0.9303195  0.93291133 0.95465004\n",
            " 0.9566855  0.95640052 0.97754212 0.97097439 0.98340426 0.98689171\n",
            " 1.         0.93656087 0.82610363 0.7072556  0.61014658 0.54550141\n",
            " 0.5085206  0.48756349 0.47297671 0.46024525]\n",
            "9 day output [[0.4487299]]\n",
            "10 day input [0.84378544 0.83679704 0.83427306 0.83191194 0.84037943 0.83823544\n",
            " 0.83583358 0.81423056 0.81459697 0.81805725 0.8305278  0.83480226\n",
            " 0.84062366 0.84404326 0.83782835 0.82832955 0.81853219 0.82348513\n",
            " 0.82865521 0.82680971 0.82083904 0.82640262 0.82667402 0.83549433\n",
            " 0.84757138 0.85340636 0.84352763 0.84774776 0.84607871 0.83968736\n",
            " 0.84288983 0.84356832 0.85427481 0.85887493 0.8589021  0.86339369\n",
            " 0.87886317 0.87955523 0.87586424 0.87901245 0.89079093 0.88524093\n",
            " 0.8786732  0.88629934 0.87549784 0.90594834 0.90790236 0.89594743\n",
            " 0.89706017 0.89838998 0.89723655 0.89288066 0.89167297 0.87574213\n",
            " 0.87917524 0.87471082 0.86104609 0.85696165 0.8554554  0.86278305\n",
            " 0.85963485 0.85742301 0.8546548  0.86040835 0.86327157 0.86232169\n",
            " 0.85816935 0.85420696 0.85823719 0.85769441 0.85000035 0.86409927\n",
            " 0.8818756  0.87890385 0.88161779 0.88863336 0.89213432 0.89517393\n",
            " 0.8979693  0.90001834 0.9303195  0.93291133 0.95465004 0.9566855\n",
            " 0.95640052 0.97754212 0.97097439 0.98340426 0.98689171 1.\n",
            " 0.93656087 0.82610363 0.7072556  0.61014658 0.54550141 0.5085206\n",
            " 0.48756349 0.47297671 0.46024525 0.4487299 ]\n",
            "10 day output [[0.4395138]]\n",
            "11 day input [0.83679704 0.83427306 0.83191194 0.84037943 0.83823544 0.83583358\n",
            " 0.81423056 0.81459697 0.81805725 0.8305278  0.83480226 0.84062366\n",
            " 0.84404326 0.83782835 0.82832955 0.81853219 0.82348513 0.82865521\n",
            " 0.82680971 0.82083904 0.82640262 0.82667402 0.83549433 0.84757138\n",
            " 0.85340636 0.84352763 0.84774776 0.84607871 0.83968736 0.84288983\n",
            " 0.84356832 0.85427481 0.85887493 0.8589021  0.86339369 0.87886317\n",
            " 0.87955523 0.87586424 0.87901245 0.89079093 0.88524093 0.8786732\n",
            " 0.88629934 0.87549784 0.90594834 0.90790236 0.89594743 0.89706017\n",
            " 0.89838998 0.89723655 0.89288066 0.89167297 0.87574213 0.87917524\n",
            " 0.87471082 0.86104609 0.85696165 0.8554554  0.86278305 0.85963485\n",
            " 0.85742301 0.8546548  0.86040835 0.86327157 0.86232169 0.85816935\n",
            " 0.85420696 0.85823719 0.85769441 0.85000035 0.86409927 0.8818756\n",
            " 0.87890385 0.88161779 0.88863336 0.89213432 0.89517393 0.8979693\n",
            " 0.90001834 0.9303195  0.93291133 0.95465004 0.9566855  0.95640052\n",
            " 0.97754212 0.97097439 0.98340426 0.98689171 1.         0.93656087\n",
            " 0.82610363 0.7072556  0.61014658 0.54550141 0.5085206  0.48756349\n",
            " 0.47297671 0.46024525 0.4487299  0.4395138 ]\n",
            "11 day output [[0.43384755]]\n",
            "12 day input [0.83427306 0.83191194 0.84037943 0.83823544 0.83583358 0.81423056\n",
            " 0.81459697 0.81805725 0.8305278  0.83480226 0.84062366 0.84404326\n",
            " 0.83782835 0.82832955 0.81853219 0.82348513 0.82865521 0.82680971\n",
            " 0.82083904 0.82640262 0.82667402 0.83549433 0.84757138 0.85340636\n",
            " 0.84352763 0.84774776 0.84607871 0.83968736 0.84288983 0.84356832\n",
            " 0.85427481 0.85887493 0.8589021  0.86339369 0.87886317 0.87955523\n",
            " 0.87586424 0.87901245 0.89079093 0.88524093 0.8786732  0.88629934\n",
            " 0.87549784 0.90594834 0.90790236 0.89594743 0.89706017 0.89838998\n",
            " 0.89723655 0.89288066 0.89167297 0.87574213 0.87917524 0.87471082\n",
            " 0.86104609 0.85696165 0.8554554  0.86278305 0.85963485 0.85742301\n",
            " 0.8546548  0.86040835 0.86327157 0.86232169 0.85816935 0.85420696\n",
            " 0.85823719 0.85769441 0.85000035 0.86409927 0.8818756  0.87890385\n",
            " 0.88161779 0.88863336 0.89213432 0.89517393 0.8979693  0.90001834\n",
            " 0.9303195  0.93291133 0.95465004 0.9566855  0.95640052 0.97754212\n",
            " 0.97097439 0.98340426 0.98689171 1.         0.93656087 0.82610363\n",
            " 0.7072556  0.61014658 0.54550141 0.5085206  0.48756349 0.47297671\n",
            " 0.46024525 0.4487299  0.4395138  0.43384755]\n",
            "12 day output [[0.43238688]]\n",
            "13 day input [0.83191194 0.84037943 0.83823544 0.83583358 0.81423056 0.81459697\n",
            " 0.81805725 0.8305278  0.83480226 0.84062366 0.84404326 0.83782835\n",
            " 0.82832955 0.81853219 0.82348513 0.82865521 0.82680971 0.82083904\n",
            " 0.82640262 0.82667402 0.83549433 0.84757138 0.85340636 0.84352763\n",
            " 0.84774776 0.84607871 0.83968736 0.84288983 0.84356832 0.85427481\n",
            " 0.85887493 0.8589021  0.86339369 0.87886317 0.87955523 0.87586424\n",
            " 0.87901245 0.89079093 0.88524093 0.8786732  0.88629934 0.87549784\n",
            " 0.90594834 0.90790236 0.89594743 0.89706017 0.89838998 0.89723655\n",
            " 0.89288066 0.89167297 0.87574213 0.87917524 0.87471082 0.86104609\n",
            " 0.85696165 0.8554554  0.86278305 0.85963485 0.85742301 0.8546548\n",
            " 0.86040835 0.86327157 0.86232169 0.85816935 0.85420696 0.85823719\n",
            " 0.85769441 0.85000035 0.86409927 0.8818756  0.87890385 0.88161779\n",
            " 0.88863336 0.89213432 0.89517393 0.8979693  0.90001834 0.9303195\n",
            " 0.93291133 0.95465004 0.9566855  0.95640052 0.97754212 0.97097439\n",
            " 0.98340426 0.98689171 1.         0.93656087 0.82610363 0.7072556\n",
            " 0.61014658 0.54550141 0.5085206  0.48756349 0.47297671 0.46024525\n",
            " 0.4487299  0.4395138  0.43384755 0.43238688]\n",
            "13 day output [[0.43505782]]\n",
            "14 day input [0.84037943 0.83823544 0.83583358 0.81423056 0.81459697 0.81805725\n",
            " 0.8305278  0.83480226 0.84062366 0.84404326 0.83782835 0.82832955\n",
            " 0.81853219 0.82348513 0.82865521 0.82680971 0.82083904 0.82640262\n",
            " 0.82667402 0.83549433 0.84757138 0.85340636 0.84352763 0.84774776\n",
            " 0.84607871 0.83968736 0.84288983 0.84356832 0.85427481 0.85887493\n",
            " 0.8589021  0.86339369 0.87886317 0.87955523 0.87586424 0.87901245\n",
            " 0.89079093 0.88524093 0.8786732  0.88629934 0.87549784 0.90594834\n",
            " 0.90790236 0.89594743 0.89706017 0.89838998 0.89723655 0.89288066\n",
            " 0.89167297 0.87574213 0.87917524 0.87471082 0.86104609 0.85696165\n",
            " 0.8554554  0.86278305 0.85963485 0.85742301 0.8546548  0.86040835\n",
            " 0.86327157 0.86232169 0.85816935 0.85420696 0.85823719 0.85769441\n",
            " 0.85000035 0.86409927 0.8818756  0.87890385 0.88161779 0.88863336\n",
            " 0.89213432 0.89517393 0.8979693  0.90001834 0.9303195  0.93291133\n",
            " 0.95465004 0.9566855  0.95640052 0.97754212 0.97097439 0.98340426\n",
            " 0.98689171 1.         0.93656087 0.82610363 0.7072556  0.61014658\n",
            " 0.54550141 0.5085206  0.48756349 0.47297671 0.46024525 0.4487299\n",
            " 0.4395138  0.43384755 0.43238688 0.43505782]\n",
            "14 day output [[0.44125843]]\n",
            "15 day input [0.83823544 0.83583358 0.81423056 0.81459697 0.81805725 0.8305278\n",
            " 0.83480226 0.84062366 0.84404326 0.83782835 0.82832955 0.81853219\n",
            " 0.82348513 0.82865521 0.82680971 0.82083904 0.82640262 0.82667402\n",
            " 0.83549433 0.84757138 0.85340636 0.84352763 0.84774776 0.84607871\n",
            " 0.83968736 0.84288983 0.84356832 0.85427481 0.85887493 0.8589021\n",
            " 0.86339369 0.87886317 0.87955523 0.87586424 0.87901245 0.89079093\n",
            " 0.88524093 0.8786732  0.88629934 0.87549784 0.90594834 0.90790236\n",
            " 0.89594743 0.89706017 0.89838998 0.89723655 0.89288066 0.89167297\n",
            " 0.87574213 0.87917524 0.87471082 0.86104609 0.85696165 0.8554554\n",
            " 0.86278305 0.85963485 0.85742301 0.8546548  0.86040835 0.86327157\n",
            " 0.86232169 0.85816935 0.85420696 0.85823719 0.85769441 0.85000035\n",
            " 0.86409927 0.8818756  0.87890385 0.88161779 0.88863336 0.89213432\n",
            " 0.89517393 0.8979693  0.90001834 0.9303195  0.93291133 0.95465004\n",
            " 0.9566855  0.95640052 0.97754212 0.97097439 0.98340426 0.98689171\n",
            " 1.         0.93656087 0.82610363 0.7072556  0.61014658 0.54550141\n",
            " 0.5085206  0.48756349 0.47297671 0.46024525 0.4487299  0.4395138\n",
            " 0.43384755 0.43238688 0.43505782 0.44125843]\n",
            "15 day output [[0.45013654]]\n",
            "16 day input [0.83583358 0.81423056 0.81459697 0.81805725 0.8305278  0.83480226\n",
            " 0.84062366 0.84404326 0.83782835 0.82832955 0.81853219 0.82348513\n",
            " 0.82865521 0.82680971 0.82083904 0.82640262 0.82667402 0.83549433\n",
            " 0.84757138 0.85340636 0.84352763 0.84774776 0.84607871 0.83968736\n",
            " 0.84288983 0.84356832 0.85427481 0.85887493 0.8589021  0.86339369\n",
            " 0.87886317 0.87955523 0.87586424 0.87901245 0.89079093 0.88524093\n",
            " 0.8786732  0.88629934 0.87549784 0.90594834 0.90790236 0.89594743\n",
            " 0.89706017 0.89838998 0.89723655 0.89288066 0.89167297 0.87574213\n",
            " 0.87917524 0.87471082 0.86104609 0.85696165 0.8554554  0.86278305\n",
            " 0.85963485 0.85742301 0.8546548  0.86040835 0.86327157 0.86232169\n",
            " 0.85816935 0.85420696 0.85823719 0.85769441 0.85000035 0.86409927\n",
            " 0.8818756  0.87890385 0.88161779 0.88863336 0.89213432 0.89517393\n",
            " 0.8979693  0.90001834 0.9303195  0.93291133 0.95465004 0.9566855\n",
            " 0.95640052 0.97754212 0.97097439 0.98340426 0.98689171 1.\n",
            " 0.93656087 0.82610363 0.7072556  0.61014658 0.54550141 0.5085206\n",
            " 0.48756349 0.47297671 0.46024525 0.4487299  0.4395138  0.43384755\n",
            " 0.43238688 0.43505782 0.44125843 0.45013654]\n",
            "16 day output [[0.4608029]]\n",
            "17 day input [0.81423056 0.81459697 0.81805725 0.8305278  0.83480226 0.84062366\n",
            " 0.84404326 0.83782835 0.82832955 0.81853219 0.82348513 0.82865521\n",
            " 0.82680971 0.82083904 0.82640262 0.82667402 0.83549433 0.84757138\n",
            " 0.85340636 0.84352763 0.84774776 0.84607871 0.83968736 0.84288983\n",
            " 0.84356832 0.85427481 0.85887493 0.8589021  0.86339369 0.87886317\n",
            " 0.87955523 0.87586424 0.87901245 0.89079093 0.88524093 0.8786732\n",
            " 0.88629934 0.87549784 0.90594834 0.90790236 0.89594743 0.89706017\n",
            " 0.89838998 0.89723655 0.89288066 0.89167297 0.87574213 0.87917524\n",
            " 0.87471082 0.86104609 0.85696165 0.8554554  0.86278305 0.85963485\n",
            " 0.85742301 0.8546548  0.86040835 0.86327157 0.86232169 0.85816935\n",
            " 0.85420696 0.85823719 0.85769441 0.85000035 0.86409927 0.8818756\n",
            " 0.87890385 0.88161779 0.88863336 0.89213432 0.89517393 0.8979693\n",
            " 0.90001834 0.9303195  0.93291133 0.95465004 0.9566855  0.95640052\n",
            " 0.97754212 0.97097439 0.98340426 0.98689171 1.         0.93656087\n",
            " 0.82610363 0.7072556  0.61014658 0.54550141 0.5085206  0.48756349\n",
            " 0.47297671 0.46024525 0.4487299  0.4395138  0.43384755 0.43238688\n",
            " 0.43505782 0.44125843 0.45013654 0.46080291]\n",
            "17 day output [[0.47244832]]\n",
            "18 day input [0.81459697 0.81805725 0.8305278  0.83480226 0.84062366 0.84404326\n",
            " 0.83782835 0.82832955 0.81853219 0.82348513 0.82865521 0.82680971\n",
            " 0.82083904 0.82640262 0.82667402 0.83549433 0.84757138 0.85340636\n",
            " 0.84352763 0.84774776 0.84607871 0.83968736 0.84288983 0.84356832\n",
            " 0.85427481 0.85887493 0.8589021  0.86339369 0.87886317 0.87955523\n",
            " 0.87586424 0.87901245 0.89079093 0.88524093 0.8786732  0.88629934\n",
            " 0.87549784 0.90594834 0.90790236 0.89594743 0.89706017 0.89838998\n",
            " 0.89723655 0.89288066 0.89167297 0.87574213 0.87917524 0.87471082\n",
            " 0.86104609 0.85696165 0.8554554  0.86278305 0.85963485 0.85742301\n",
            " 0.8546548  0.86040835 0.86327157 0.86232169 0.85816935 0.85420696\n",
            " 0.85823719 0.85769441 0.85000035 0.86409927 0.8818756  0.87890385\n",
            " 0.88161779 0.88863336 0.89213432 0.89517393 0.8979693  0.90001834\n",
            " 0.9303195  0.93291133 0.95465004 0.9566855  0.95640052 0.97754212\n",
            " 0.97097439 0.98340426 0.98689171 1.         0.93656087 0.82610363\n",
            " 0.7072556  0.61014658 0.54550141 0.5085206  0.48756349 0.47297671\n",
            " 0.46024525 0.4487299  0.4395138  0.43384755 0.43238688 0.43505782\n",
            " 0.44125843 0.45013654 0.46080291 0.47244832]\n",
            "18 day output [[0.48438674]]\n",
            "19 day input [0.81805725 0.8305278  0.83480226 0.84062366 0.84404326 0.83782835\n",
            " 0.82832955 0.81853219 0.82348513 0.82865521 0.82680971 0.82083904\n",
            " 0.82640262 0.82667402 0.83549433 0.84757138 0.85340636 0.84352763\n",
            " 0.84774776 0.84607871 0.83968736 0.84288983 0.84356832 0.85427481\n",
            " 0.85887493 0.8589021  0.86339369 0.87886317 0.87955523 0.87586424\n",
            " 0.87901245 0.89079093 0.88524093 0.8786732  0.88629934 0.87549784\n",
            " 0.90594834 0.90790236 0.89594743 0.89706017 0.89838998 0.89723655\n",
            " 0.89288066 0.89167297 0.87574213 0.87917524 0.87471082 0.86104609\n",
            " 0.85696165 0.8554554  0.86278305 0.85963485 0.85742301 0.8546548\n",
            " 0.86040835 0.86327157 0.86232169 0.85816935 0.85420696 0.85823719\n",
            " 0.85769441 0.85000035 0.86409927 0.8818756  0.87890385 0.88161779\n",
            " 0.88863336 0.89213432 0.89517393 0.8979693  0.90001834 0.9303195\n",
            " 0.93291133 0.95465004 0.9566855  0.95640052 0.97754212 0.97097439\n",
            " 0.98340426 0.98689171 1.         0.93656087 0.82610363 0.7072556\n",
            " 0.61014658 0.54550141 0.5085206  0.48756349 0.47297671 0.46024525\n",
            " 0.4487299  0.4395138  0.43384755 0.43238688 0.43505782 0.44125843\n",
            " 0.45013654 0.46080291 0.47244832 0.48438674]\n",
            "19 day output [[0.49605343]]\n",
            "20 day input [0.8305278  0.83480226 0.84062366 0.84404326 0.83782835 0.82832955\n",
            " 0.81853219 0.82348513 0.82865521 0.82680971 0.82083904 0.82640262\n",
            " 0.82667402 0.83549433 0.84757138 0.85340636 0.84352763 0.84774776\n",
            " 0.84607871 0.83968736 0.84288983 0.84356832 0.85427481 0.85887493\n",
            " 0.8589021  0.86339369 0.87886317 0.87955523 0.87586424 0.87901245\n",
            " 0.89079093 0.88524093 0.8786732  0.88629934 0.87549784 0.90594834\n",
            " 0.90790236 0.89594743 0.89706017 0.89838998 0.89723655 0.89288066\n",
            " 0.89167297 0.87574213 0.87917524 0.87471082 0.86104609 0.85696165\n",
            " 0.8554554  0.86278305 0.85963485 0.85742301 0.8546548  0.86040835\n",
            " 0.86327157 0.86232169 0.85816935 0.85420696 0.85823719 0.85769441\n",
            " 0.85000035 0.86409927 0.8818756  0.87890385 0.88161779 0.88863336\n",
            " 0.89213432 0.89517393 0.8979693  0.90001834 0.9303195  0.93291133\n",
            " 0.95465004 0.9566855  0.95640052 0.97754212 0.97097439 0.98340426\n",
            " 0.98689171 1.         0.93656087 0.82610363 0.7072556  0.61014658\n",
            " 0.54550141 0.5085206  0.48756349 0.47297671 0.46024525 0.4487299\n",
            " 0.4395138  0.43384755 0.43238688 0.43505782 0.44125843 0.45013654\n",
            " 0.46080291 0.47244832 0.48438674 0.49605343]\n",
            "20 day output [[0.5069854]]\n",
            "21 day input [0.83480226 0.84062366 0.84404326 0.83782835 0.82832955 0.81853219\n",
            " 0.82348513 0.82865521 0.82680971 0.82083904 0.82640262 0.82667402\n",
            " 0.83549433 0.84757138 0.85340636 0.84352763 0.84774776 0.84607871\n",
            " 0.83968736 0.84288983 0.84356832 0.85427481 0.85887493 0.8589021\n",
            " 0.86339369 0.87886317 0.87955523 0.87586424 0.87901245 0.89079093\n",
            " 0.88524093 0.8786732  0.88629934 0.87549784 0.90594834 0.90790236\n",
            " 0.89594743 0.89706017 0.89838998 0.89723655 0.89288066 0.89167297\n",
            " 0.87574213 0.87917524 0.87471082 0.86104609 0.85696165 0.8554554\n",
            " 0.86278305 0.85963485 0.85742301 0.8546548  0.86040835 0.86327157\n",
            " 0.86232169 0.85816935 0.85420696 0.85823719 0.85769441 0.85000035\n",
            " 0.86409927 0.8818756  0.87890385 0.88161779 0.88863336 0.89213432\n",
            " 0.89517393 0.8979693  0.90001834 0.9303195  0.93291133 0.95465004\n",
            " 0.9566855  0.95640052 0.97754212 0.97097439 0.98340426 0.98689171\n",
            " 1.         0.93656087 0.82610363 0.7072556  0.61014658 0.54550141\n",
            " 0.5085206  0.48756349 0.47297671 0.46024525 0.4487299  0.4395138\n",
            " 0.43384755 0.43238688 0.43505782 0.44125843 0.45013654 0.46080291\n",
            " 0.47244832 0.48438674 0.49605343 0.50698543]\n",
            "21 day output [[0.51679677]]\n",
            "22 day input [0.84062366 0.84404326 0.83782835 0.82832955 0.81853219 0.82348513\n",
            " 0.82865521 0.82680971 0.82083904 0.82640262 0.82667402 0.83549433\n",
            " 0.84757138 0.85340636 0.84352763 0.84774776 0.84607871 0.83968736\n",
            " 0.84288983 0.84356832 0.85427481 0.85887493 0.8589021  0.86339369\n",
            " 0.87886317 0.87955523 0.87586424 0.87901245 0.89079093 0.88524093\n",
            " 0.8786732  0.88629934 0.87549784 0.90594834 0.90790236 0.89594743\n",
            " 0.89706017 0.89838998 0.89723655 0.89288066 0.89167297 0.87574213\n",
            " 0.87917524 0.87471082 0.86104609 0.85696165 0.8554554  0.86278305\n",
            " 0.85963485 0.85742301 0.8546548  0.86040835 0.86327157 0.86232169\n",
            " 0.85816935 0.85420696 0.85823719 0.85769441 0.85000035 0.86409927\n",
            " 0.8818756  0.87890385 0.88161779 0.88863336 0.89213432 0.89517393\n",
            " 0.8979693  0.90001834 0.9303195  0.93291133 0.95465004 0.9566855\n",
            " 0.95640052 0.97754212 0.97097439 0.98340426 0.98689171 1.\n",
            " 0.93656087 0.82610363 0.7072556  0.61014658 0.54550141 0.5085206\n",
            " 0.48756349 0.47297671 0.46024525 0.4487299  0.4395138  0.43384755\n",
            " 0.43238688 0.43505782 0.44125843 0.45013654 0.46080291 0.47244832\n",
            " 0.48438674 0.49605343 0.50698543 0.51679677]\n",
            "22 day output [[0.52516407]]\n",
            "23 day input [0.84404326 0.83782835 0.82832955 0.81853219 0.82348513 0.82865521\n",
            " 0.82680971 0.82083904 0.82640262 0.82667402 0.83549433 0.84757138\n",
            " 0.85340636 0.84352763 0.84774776 0.84607871 0.83968736 0.84288983\n",
            " 0.84356832 0.85427481 0.85887493 0.8589021  0.86339369 0.87886317\n",
            " 0.87955523 0.87586424 0.87901245 0.89079093 0.88524093 0.8786732\n",
            " 0.88629934 0.87549784 0.90594834 0.90790236 0.89594743 0.89706017\n",
            " 0.89838998 0.89723655 0.89288066 0.89167297 0.87574213 0.87917524\n",
            " 0.87471082 0.86104609 0.85696165 0.8554554  0.86278305 0.85963485\n",
            " 0.85742301 0.8546548  0.86040835 0.86327157 0.86232169 0.85816935\n",
            " 0.85420696 0.85823719 0.85769441 0.85000035 0.86409927 0.8818756\n",
            " 0.87890385 0.88161779 0.88863336 0.89213432 0.89517393 0.8979693\n",
            " 0.90001834 0.9303195  0.93291133 0.95465004 0.9566855  0.95640052\n",
            " 0.97754212 0.97097439 0.98340426 0.98689171 1.         0.93656087\n",
            " 0.82610363 0.7072556  0.61014658 0.54550141 0.5085206  0.48756349\n",
            " 0.47297671 0.46024525 0.4487299  0.4395138  0.43384755 0.43238688\n",
            " 0.43505782 0.44125843 0.45013654 0.46080291 0.47244832 0.48438674\n",
            " 0.49605343 0.50698543 0.51679677 0.52516407]\n",
            "23 day output [[0.5318205]]\n",
            "24 day input [0.83782835 0.82832955 0.81853219 0.82348513 0.82865521 0.82680971\n",
            " 0.82083904 0.82640262 0.82667402 0.83549433 0.84757138 0.85340636\n",
            " 0.84352763 0.84774776 0.84607871 0.83968736 0.84288983 0.84356832\n",
            " 0.85427481 0.85887493 0.8589021  0.86339369 0.87886317 0.87955523\n",
            " 0.87586424 0.87901245 0.89079093 0.88524093 0.8786732  0.88629934\n",
            " 0.87549784 0.90594834 0.90790236 0.89594743 0.89706017 0.89838998\n",
            " 0.89723655 0.89288066 0.89167297 0.87574213 0.87917524 0.87471082\n",
            " 0.86104609 0.85696165 0.8554554  0.86278305 0.85963485 0.85742301\n",
            " 0.8546548  0.86040835 0.86327157 0.86232169 0.85816935 0.85420696\n",
            " 0.85823719 0.85769441 0.85000035 0.86409927 0.8818756  0.87890385\n",
            " 0.88161779 0.88863336 0.89213432 0.89517393 0.8979693  0.90001834\n",
            " 0.9303195  0.93291133 0.95465004 0.9566855  0.95640052 0.97754212\n",
            " 0.97097439 0.98340426 0.98689171 1.         0.93656087 0.82610363\n",
            " 0.7072556  0.61014658 0.54550141 0.5085206  0.48756349 0.47297671\n",
            " 0.46024525 0.4487299  0.4395138  0.43384755 0.43238688 0.43505782\n",
            " 0.44125843 0.45013654 0.46080291 0.47244832 0.48438674 0.49605343\n",
            " 0.50698543 0.51679677 0.52516407 0.53182048]\n",
            "24 day output [[0.5365592]]\n",
            "25 day input [0.82832955 0.81853219 0.82348513 0.82865521 0.82680971 0.82083904\n",
            " 0.82640262 0.82667402 0.83549433 0.84757138 0.85340636 0.84352763\n",
            " 0.84774776 0.84607871 0.83968736 0.84288983 0.84356832 0.85427481\n",
            " 0.85887493 0.8589021  0.86339369 0.87886317 0.87955523 0.87586424\n",
            " 0.87901245 0.89079093 0.88524093 0.8786732  0.88629934 0.87549784\n",
            " 0.90594834 0.90790236 0.89594743 0.89706017 0.89838998 0.89723655\n",
            " 0.89288066 0.89167297 0.87574213 0.87917524 0.87471082 0.86104609\n",
            " 0.85696165 0.8554554  0.86278305 0.85963485 0.85742301 0.8546548\n",
            " 0.86040835 0.86327157 0.86232169 0.85816935 0.85420696 0.85823719\n",
            " 0.85769441 0.85000035 0.86409927 0.8818756  0.87890385 0.88161779\n",
            " 0.88863336 0.89213432 0.89517393 0.8979693  0.90001834 0.9303195\n",
            " 0.93291133 0.95465004 0.9566855  0.95640052 0.97754212 0.97097439\n",
            " 0.98340426 0.98689171 1.         0.93656087 0.82610363 0.7072556\n",
            " 0.61014658 0.54550141 0.5085206  0.48756349 0.47297671 0.46024525\n",
            " 0.4487299  0.4395138  0.43384755 0.43238688 0.43505782 0.44125843\n",
            " 0.45013654 0.46080291 0.47244832 0.48438674 0.49605343 0.50698543\n",
            " 0.51679677 0.52516407 0.53182048 0.53655922]\n",
            "25 day output [[0.5392438]]\n",
            "26 day input [0.81853219 0.82348513 0.82865521 0.82680971 0.82083904 0.82640262\n",
            " 0.82667402 0.83549433 0.84757138 0.85340636 0.84352763 0.84774776\n",
            " 0.84607871 0.83968736 0.84288983 0.84356832 0.85427481 0.85887493\n",
            " 0.8589021  0.86339369 0.87886317 0.87955523 0.87586424 0.87901245\n",
            " 0.89079093 0.88524093 0.8786732  0.88629934 0.87549784 0.90594834\n",
            " 0.90790236 0.89594743 0.89706017 0.89838998 0.89723655 0.89288066\n",
            " 0.89167297 0.87574213 0.87917524 0.87471082 0.86104609 0.85696165\n",
            " 0.8554554  0.86278305 0.85963485 0.85742301 0.8546548  0.86040835\n",
            " 0.86327157 0.86232169 0.85816935 0.85420696 0.85823719 0.85769441\n",
            " 0.85000035 0.86409927 0.8818756  0.87890385 0.88161779 0.88863336\n",
            " 0.89213432 0.89517393 0.8979693  0.90001834 0.9303195  0.93291133\n",
            " 0.95465004 0.9566855  0.95640052 0.97754212 0.97097439 0.98340426\n",
            " 0.98689171 1.         0.93656087 0.82610363 0.7072556  0.61014658\n",
            " 0.54550141 0.5085206  0.48756349 0.47297671 0.46024525 0.4487299\n",
            " 0.4395138  0.43384755 0.43238688 0.43505782 0.44125843 0.45013654\n",
            " 0.46080291 0.47244832 0.48438674 0.49605343 0.50698543 0.51679677\n",
            " 0.52516407 0.53182048 0.53655922 0.53924382]\n",
            "26 day output [[0.53981704]]\n",
            "27 day input [0.82348513 0.82865521 0.82680971 0.82083904 0.82640262 0.82667402\n",
            " 0.83549433 0.84757138 0.85340636 0.84352763 0.84774776 0.84607871\n",
            " 0.83968736 0.84288983 0.84356832 0.85427481 0.85887493 0.8589021\n",
            " 0.86339369 0.87886317 0.87955523 0.87586424 0.87901245 0.89079093\n",
            " 0.88524093 0.8786732  0.88629934 0.87549784 0.90594834 0.90790236\n",
            " 0.89594743 0.89706017 0.89838998 0.89723655 0.89288066 0.89167297\n",
            " 0.87574213 0.87917524 0.87471082 0.86104609 0.85696165 0.8554554\n",
            " 0.86278305 0.85963485 0.85742301 0.8546548  0.86040835 0.86327157\n",
            " 0.86232169 0.85816935 0.85420696 0.85823719 0.85769441 0.85000035\n",
            " 0.86409927 0.8818756  0.87890385 0.88161779 0.88863336 0.89213432\n",
            " 0.89517393 0.8979693  0.90001834 0.9303195  0.93291133 0.95465004\n",
            " 0.9566855  0.95640052 0.97754212 0.97097439 0.98340426 0.98689171\n",
            " 1.         0.93656087 0.82610363 0.7072556  0.61014658 0.54550141\n",
            " 0.5085206  0.48756349 0.47297671 0.46024525 0.4487299  0.4395138\n",
            " 0.43384755 0.43238688 0.43505782 0.44125843 0.45013654 0.46080291\n",
            " 0.47244832 0.48438674 0.49605343 0.50698543 0.51679677 0.52516407\n",
            " 0.53182048 0.53655922 0.53924382 0.53981704]\n",
            "27 day output [[0.5383056]]\n",
            "28 day input [0.82865521 0.82680971 0.82083904 0.82640262 0.82667402 0.83549433\n",
            " 0.84757138 0.85340636 0.84352763 0.84774776 0.84607871 0.83968736\n",
            " 0.84288983 0.84356832 0.85427481 0.85887493 0.8589021  0.86339369\n",
            " 0.87886317 0.87955523 0.87586424 0.87901245 0.89079093 0.88524093\n",
            " 0.8786732  0.88629934 0.87549784 0.90594834 0.90790236 0.89594743\n",
            " 0.89706017 0.89838998 0.89723655 0.89288066 0.89167297 0.87574213\n",
            " 0.87917524 0.87471082 0.86104609 0.85696165 0.8554554  0.86278305\n",
            " 0.85963485 0.85742301 0.8546548  0.86040835 0.86327157 0.86232169\n",
            " 0.85816935 0.85420696 0.85823719 0.85769441 0.85000035 0.86409927\n",
            " 0.8818756  0.87890385 0.88161779 0.88863336 0.89213432 0.89517393\n",
            " 0.8979693  0.90001834 0.9303195  0.93291133 0.95465004 0.9566855\n",
            " 0.95640052 0.97754212 0.97097439 0.98340426 0.98689171 1.\n",
            " 0.93656087 0.82610363 0.7072556  0.61014658 0.54550141 0.5085206\n",
            " 0.48756349 0.47297671 0.46024525 0.4487299  0.4395138  0.43384755\n",
            " 0.43238688 0.43505782 0.44125843 0.45013654 0.46080291 0.47244832\n",
            " 0.48438674 0.49605343 0.50698543 0.51679677 0.52516407 0.53182048\n",
            " 0.53655922 0.53924382 0.53981704 0.53830558]\n",
            "28 day output [[0.53481805]]\n",
            "29 day input [0.82680971 0.82083904 0.82640262 0.82667402 0.83549433 0.84757138\n",
            " 0.85340636 0.84352763 0.84774776 0.84607871 0.83968736 0.84288983\n",
            " 0.84356832 0.85427481 0.85887493 0.8589021  0.86339369 0.87886317\n",
            " 0.87955523 0.87586424 0.87901245 0.89079093 0.88524093 0.8786732\n",
            " 0.88629934 0.87549784 0.90594834 0.90790236 0.89594743 0.89706017\n",
            " 0.89838998 0.89723655 0.89288066 0.89167297 0.87574213 0.87917524\n",
            " 0.87471082 0.86104609 0.85696165 0.8554554  0.86278305 0.85963485\n",
            " 0.85742301 0.8546548  0.86040835 0.86327157 0.86232169 0.85816935\n",
            " 0.85420696 0.85823719 0.85769441 0.85000035 0.86409927 0.8818756\n",
            " 0.87890385 0.88161779 0.88863336 0.89213432 0.89517393 0.8979693\n",
            " 0.90001834 0.9303195  0.93291133 0.95465004 0.9566855  0.95640052\n",
            " 0.97754212 0.97097439 0.98340426 0.98689171 1.         0.93656087\n",
            " 0.82610363 0.7072556  0.61014658 0.54550141 0.5085206  0.48756349\n",
            " 0.47297671 0.46024525 0.4487299  0.4395138  0.43384755 0.43238688\n",
            " 0.43505782 0.44125843 0.45013654 0.46080291 0.47244832 0.48438674\n",
            " 0.49605343 0.50698543 0.51679677 0.52516407 0.53182048 0.53655922\n",
            " 0.53924382 0.53981704 0.53830558 0.53481805]\n",
            "29 day output [[0.52953523]]\n",
            "[[0.936560869216919], [0.8261036276817322], [0.7072556018829346], [0.6101465821266174], [0.5455014109611511], [0.5085206031799316], [0.48756349086761475], [0.4729767143726349], [0.4602452516555786], [0.44872990250587463], [0.43951380252838135], [0.4338475465774536], [0.4323868751525879], [0.4350578188896179], [0.44125843048095703], [0.45013654232025146], [0.46080291271209717], [0.47244831919670105], [0.48438674211502075], [0.49605342745780945], [0.5069854259490967], [0.5167967677116394], [0.5251640677452087], [0.5318204760551453], [0.5365592241287231], [0.5392438173294067], [0.5398170351982117], [0.5383055806159973], [0.5348180532455444], [0.5295352339744568]]\n"
          ]
        }
      ]
    },
    {
      "cell_type": "code",
      "metadata": {
        "id": "IlnftgYC09yG"
      },
      "source": [
        "day_new=np.arange(1,101)\n",
        "day_pred=np.arange(101,131)"
      ],
      "execution_count": null,
      "outputs": []
    },
    {
      "cell_type": "code",
      "metadata": {
        "id": "bze8nU5i097V"
      },
      "source": [
        "import matplotlib.pyplot as plt"
      ],
      "execution_count": null,
      "outputs": []
    },
    {
      "cell_type": "code",
      "metadata": {
        "colab": {
          "base_uri": "https://localhost:8080/"
        },
        "id": "VRcB21k71G4L",
        "outputId": "88d52eaa-f234-49c8-fc15-95bf17abe149"
      },
      "source": [
        "len(df1)"
      ],
      "execution_count": null,
      "outputs": [
        {
          "output_type": "execute_result",
          "data": {
            "text/plain": [
              "4726"
            ]
          },
          "metadata": {},
          "execution_count": 97
        }
      ]
    },
    {
      "cell_type": "code",
      "metadata": {
        "colab": {
          "base_uri": "https://localhost:8080/",
          "height": 469
        },
        "id": "TEVjz_Qy1Jec",
        "outputId": "3bf0b5c1-8e1f-47ca-a47a-0b581fc3c5ee"
      },
      "source": [
        "plt.plot(day_new,scaler.inverse_transform(df1[4626:]))\n",
        "plt.plot(day_pred,scaler.inverse_transform(lst_output))\n",
        "plt.title('TCS Prediction of Next 30 Days')"
      ],
      "execution_count": null,
      "outputs": [
        {
          "output_type": "execute_result",
          "data": {
            "text/plain": [
              "Text(0.5, 1.0, 'TCS Prediction of Next 30 Days')"
            ]
          },
          "metadata": {},
          "execution_count": 103
        },
        {
          "output_type": "display_data",
          "data": {
            "image/png": "[encoded data removed]",
            "text/plain": [
              "<Figure size 640x480 with 1 Axes>"
            ]
          },
          "metadata": {}
        }
      ]
    },
    {
      "cell_type": "code",
      "metadata": {
        "colab": {
          "base_uri": "https://localhost:8080/",
          "height": 447
        },
        "id": "ESp1lp3R1LfH",
        "outputId": "b30757af-8b90-4fc2-9910-446a34a7b036"
      },
      "source": [
        "df3=df1.tolist()\n",
        "df3.extend(lst_output)\n",
        "plt.plot(df3[4230:])"
      ],
      "execution_count": null,
      "outputs": [
        {
          "output_type": "execute_result",
          "data": {
            "text/plain": [
              "[<matplotlib.lines.Line2D at 0x7f57a25c5bd0>]"
            ]
          },
          "metadata": {},
          "execution_count": 99
        },
        {
          "output_type": "display_data",
          "data": {
            "image/png": "[encoded data removed]",
            "text/plain": [
              "<Figure size 640x480 with 1 Axes>"
            ]
          },
          "metadata": {}
        }
      ]
    },
    {
      "cell_type": "code",
      "metadata": {
        "id": "OQK_oXwD1Lxv"
      },
      "source": [
        "df3=scaler.inverse_transform(df3).tolist()"
      ],
      "execution_count": null,
      "outputs": []
    },
    {
      "cell_type": "code",
      "metadata": {
        "colab": {
          "base_uri": "https://localhost:8080/",
          "height": 447
        },
        "id": "X3DpOmIs1MCQ",
        "outputId": "7325f356-6422-4806-eb16-ff4e65d1261d"
      },
      "source": [
        "plt.plot(df3)"
      ],
      "execution_count": null,
      "outputs": [
        {
          "output_type": "execute_result",
          "data": {
            "text/plain": [
              "[<matplotlib.lines.Line2D at 0x7f57a25c53d0>]"
            ]
          },
          "metadata": {},
          "execution_count": 101
        },
        {
          "output_type": "display_data",
          "data": {
            "image/png": "[encoded data removed]",
            "text/plain": [
              "<Figure size 640x480 with 1 Axes>"
            ]
          },
          "metadata": {}
        }
      ]
    }
  ]
}