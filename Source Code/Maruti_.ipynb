{
  "nbformat": 4,
  "nbformat_minor": 0,
  "metadata": {
    "colab": {
      "name": "Maruti:.ipynb",
      "provenance": [],
      "collapsed_sections": []
    },
    "kernelspec": {
      "name": "python3",
      "display_name": "Python 3"
    },
    "language_info": {
      "name": "python"
    }
  },
  "cells": [
    {
      "cell_type": "code",
      "metadata": {
        "colab": {
          "base_uri": "https://localhost:8080/"
        },
        "id": "nR34pB3lsVC8",
        "outputId": "530be138-6192-44ec-cc35-4dccfee0d7ac"
      },
      "source": [
        "import os\n",
        "os.getcwd()\n",
        "from google.colab import drive\n",
        "drive.mount('/content/gdrive')\n",
        "os.chdir('/content/gdrive/My Drive')"
      ],
      "execution_count": null,
      "outputs": [
        {
          "output_type": "stream",
          "name": "stdout",
          "text": [
            "Mounted at /content/gdrive\n"
          ]
        }
      ]
    },
    {
      "cell_type": "code",
      "metadata": {
        "id": "j7NsICtPsY25"
      },
      "source": [
        "import pandas as pd\n",
        "import numpy as np\n",
        "import matplotlib.pyplot as plt\n",
        "import seaborn as sns\n",
        "import warnings\n",
        "warnings.filterwarnings(\"ignore\")\n",
        "\n",
        "FileName = 'MARUTI.NS.csv'\n",
        "Maruti=pd.read_csv(FileName)"
      ],
      "execution_count": null,
      "outputs": []
    },
    {
      "cell_type": "code",
      "metadata": {
        "colab": {
          "base_uri": "https://localhost:8080/",
          "height": 204
        },
        "id": "VHqN5qxmsdtL",
        "outputId": "d98815aa-3457-4124-9f11-1ef27870268a"
      },
      "source": [
        "Maruti.head()"
      ],
      "execution_count": null,
      "outputs": [
        {
          "output_type": "execute_result",
          "data": {
            "text/html": [
              "<div>\n",
              "<style scoped>\n",
              "    .dataframe tbody tr th:only-of-type {\n",
              "        vertical-align: middle;\n",
              "    }\n",
              "\n",
              "    .dataframe tbody tr th {\n",
              "        vertical-align: top;\n",
              "    }\n",
              "\n",
              "    .dataframe thead th {\n",
              "        text-align: right;\n",
              "    }\n",
              "</style>\n",
              "<table border=\"1\" class=\"dataframe\">\n",
              "  <thead>\n",
              "    <tr style=\"text-align: right;\">\n",
              "      <th></th>\n",
              "      <th>Date</th>\n",
              "      <th>Open</th>\n",
              "      <th>High</th>\n",
              "      <th>Low</th>\n",
              "      <th>Close</th>\n",
              "      <th>Adj Close</th>\n",
              "      <th>Volume</th>\n",
              "    </tr>\n",
              "  </thead>\n",
              "  <tbody>\n",
              "    <tr>\n",
              "      <th>0</th>\n",
              "      <td>09/07/2003</td>\n",
              "      <td>164.899994</td>\n",
              "      <td>170.399994</td>\n",
              "      <td>155.00</td>\n",
              "      <td>164.300003</td>\n",
              "      <td>144.897522</td>\n",
              "      <td>35164284</td>\n",
              "    </tr>\n",
              "    <tr>\n",
              "      <th>1</th>\n",
              "      <td>10/07/2003</td>\n",
              "      <td>167.000000</td>\n",
              "      <td>168.699997</td>\n",
              "      <td>164.50</td>\n",
              "      <td>167.000000</td>\n",
              "      <td>147.278656</td>\n",
              "      <td>10464179</td>\n",
              "    </tr>\n",
              "    <tr>\n",
              "      <th>2</th>\n",
              "      <td>11/07/2003</td>\n",
              "      <td>167.750000</td>\n",
              "      <td>174.850006</td>\n",
              "      <td>166.25</td>\n",
              "      <td>173.350006</td>\n",
              "      <td>152.878784</td>\n",
              "      <td>11740117</td>\n",
              "    </tr>\n",
              "    <tr>\n",
              "      <th>3</th>\n",
              "      <td>14/07/2003</td>\n",
              "      <td>174.250000</td>\n",
              "      <td>179.250000</td>\n",
              "      <td>174.25</td>\n",
              "      <td>177.949997</td>\n",
              "      <td>156.935547</td>\n",
              "      <td>5982324</td>\n",
              "    </tr>\n",
              "    <tr>\n",
              "      <th>4</th>\n",
              "      <td>15/07/2003</td>\n",
              "      <td>200.000000</td>\n",
              "      <td>200.000000</td>\n",
              "      <td>173.00</td>\n",
              "      <td>176.199997</td>\n",
              "      <td>155.392227</td>\n",
              "      <td>6173689</td>\n",
              "    </tr>\n",
              "  </tbody>\n",
              "</table>\n",
              "</div>"
            ],
            "text/plain": [
              "         Date        Open        High     Low       Close   Adj Close    Volume\n",
              "0  09/07/2003  164.899994  170.399994  155.00  164.300003  144.897522  35164284\n",
              "1  10/07/2003  167.000000  168.699997  164.50  167.000000  147.278656  10464179\n",
              "2  11/07/2003  167.750000  174.850006  166.25  173.350006  152.878784  11740117\n",
              "3  14/07/2003  174.250000  179.250000  174.25  177.949997  156.935547   5982324\n",
              "4  15/07/2003  200.000000  200.000000  173.00  176.199997  155.392227   6173689"
            ]
          },
          "metadata": {},
          "execution_count": 3
        }
      ]
    },
    {
      "cell_type": "code",
      "metadata": {
        "colab": {
          "base_uri": "https://localhost:8080/",
          "height": 204
        },
        "id": "8RFQUgbQsliu",
        "outputId": "b20c4d31-2c26-4397-f1be-53b2d7843f31"
      },
      "source": [
        "Maruti.tail()"
      ],
      "execution_count": null,
      "outputs": [
        {
          "output_type": "execute_result",
          "data": {
            "text/html": [
              "<div>\n",
              "<style scoped>\n",
              "    .dataframe tbody tr th:only-of-type {\n",
              "        vertical-align: middle;\n",
              "    }\n",
              "\n",
              "    .dataframe tbody tr th {\n",
              "        vertical-align: top;\n",
              "    }\n",
              "\n",
              "    .dataframe thead th {\n",
              "        text-align: right;\n",
              "    }\n",
              "</style>\n",
              "<table border=\"1\" class=\"dataframe\">\n",
              "  <thead>\n",
              "    <tr style=\"text-align: right;\">\n",
              "      <th></th>\n",
              "      <th>Date</th>\n",
              "      <th>Open</th>\n",
              "      <th>High</th>\n",
              "      <th>Low</th>\n",
              "      <th>Close</th>\n",
              "      <th>Adj Close</th>\n",
              "      <th>Volume</th>\n",
              "    </tr>\n",
              "  </thead>\n",
              "  <tbody>\n",
              "    <tr>\n",
              "      <th>4485</th>\n",
              "      <td>23/08/2021</td>\n",
              "      <td>6905.00</td>\n",
              "      <td>6918.000000</td>\n",
              "      <td>6801.000000</td>\n",
              "      <td>6825.899902</td>\n",
              "      <td>6825.899902</td>\n",
              "      <td>537302</td>\n",
              "    </tr>\n",
              "    <tr>\n",
              "      <th>4486</th>\n",
              "      <td>24/08/2021</td>\n",
              "      <td>6789.50</td>\n",
              "      <td>6852.000000</td>\n",
              "      <td>6740.600098</td>\n",
              "      <td>6803.200195</td>\n",
              "      <td>6803.200195</td>\n",
              "      <td>646993</td>\n",
              "    </tr>\n",
              "    <tr>\n",
              "      <th>4487</th>\n",
              "      <td>25/08/2021</td>\n",
              "      <td>6838.00</td>\n",
              "      <td>6838.000000</td>\n",
              "      <td>6700.000000</td>\n",
              "      <td>6711.450195</td>\n",
              "      <td>6711.450195</td>\n",
              "      <td>722194</td>\n",
              "    </tr>\n",
              "    <tr>\n",
              "      <th>4488</th>\n",
              "      <td>26/08/2021</td>\n",
              "      <td>6700.00</td>\n",
              "      <td>6701.350098</td>\n",
              "      <td>6591.000000</td>\n",
              "      <td>6608.600098</td>\n",
              "      <td>6608.600098</td>\n",
              "      <td>1199429</td>\n",
              "    </tr>\n",
              "    <tr>\n",
              "      <th>4489</th>\n",
              "      <td>27/08/2021</td>\n",
              "      <td>6629.75</td>\n",
              "      <td>6694.600098</td>\n",
              "      <td>6600.000000</td>\n",
              "      <td>6624.850098</td>\n",
              "      <td>6624.850098</td>\n",
              "      <td>1428388</td>\n",
              "    </tr>\n",
              "  </tbody>\n",
              "</table>\n",
              "</div>"
            ],
            "text/plain": [
              "            Date     Open         High  ...        Close    Adj Close   Volume\n",
              "4485  23/08/2021  6905.00  6918.000000  ...  6825.899902  6825.899902   537302\n",
              "4486  24/08/2021  6789.50  6852.000000  ...  6803.200195  6803.200195   646993\n",
              "4487  25/08/2021  6838.00  6838.000000  ...  6711.450195  6711.450195   722194\n",
              "4488  26/08/2021  6700.00  6701.350098  ...  6608.600098  6608.600098  1199429\n",
              "4489  27/08/2021  6629.75  6694.600098  ...  6624.850098  6624.850098  1428388\n",
              "\n",
              "[5 rows x 7 columns]"
            ]
          },
          "metadata": {},
          "execution_count": 4
        }
      ]
    },
    {
      "cell_type": "code",
      "metadata": {
        "id": "rEZ7LUoQstCX"
      },
      "source": [
        "df1=Maruti.reset_index()['Close']"
      ],
      "execution_count": null,
      "outputs": []
    },
    {
      "cell_type": "code",
      "metadata": {
        "colab": {
          "base_uri": "https://localhost:8080/"
        },
        "id": "6QiqnOOIs_9e",
        "outputId": "ec8b0a68-28a1-490a-8648-b3d93d342667"
      },
      "source": [
        "df1.shape"
      ],
      "execution_count": null,
      "outputs": [
        {
          "output_type": "execute_result",
          "data": {
            "text/plain": [
              "(4490,)"
            ]
          },
          "metadata": {},
          "execution_count": 6
        }
      ]
    },
    {
      "cell_type": "code",
      "metadata": {
        "colab": {
          "base_uri": "https://localhost:8080/"
        },
        "id": "bGBroGQVtHM8",
        "outputId": "3cd02799-df10-4e85-ebd3-bcf09bd06ed4"
      },
      "source": [
        "df1"
      ],
      "execution_count": null,
      "outputs": [
        {
          "output_type": "execute_result",
          "data": {
            "text/plain": [
              "0        164.300003\n",
              "1        167.000000\n",
              "2        173.350006\n",
              "3        177.949997\n",
              "4        176.199997\n",
              "           ...     \n",
              "4485    6825.899902\n",
              "4486    6803.200195\n",
              "4487    6711.450195\n",
              "4488    6608.600098\n",
              "4489    6624.850098\n",
              "Name: Close, Length: 4490, dtype: float64"
            ]
          },
          "metadata": {},
          "execution_count": 7
        }
      ]
    },
    {
      "cell_type": "code",
      "metadata": {
        "colab": {
          "base_uri": "https://localhost:8080/",
          "height": 407
        },
        "id": "86bXNskKtJcq",
        "outputId": "8e83e79c-8f22-4633-8e3c-42b2009fda0a"
      },
      "source": [
        "import matplotlib.pyplot as plt\n",
        "plt.figure(figsize=(20,6))\n",
        "plt.title('Maruti Share Price of 2002 - 2021')\n",
        "plt.plot(df1)"
      ],
      "execution_count": null,
      "outputs": [
        {
          "output_type": "execute_result",
          "data": {
            "text/plain": [
              "[<matplotlib.lines.Line2D at 0x7fd115c3b8d0>]"
            ]
          },
          "metadata": {},
          "execution_count": 8
        },
        {
          "output_type": "display_data",
          "data": {
            "image/png": "[encoded data removed]",
            "text/plain": [
              "<Figure size 1440x432 with 1 Axes>"
            ]
          },
          "metadata": {
            "needs_background": "light"
          }
        }
      ]
    },
    {
      "cell_type": "code",
      "metadata": {
        "colab": {
          "base_uri": "https://localhost:8080/"
        },
        "id": "4KsINGqkuufq",
        "outputId": "fc51685c-d7c1-4d22-efee-3911f2dffcca"
      },
      "source": [
        "Maruti.Date = pd.to_datetime(Maruti.Date)\n",
        "Maruti.info()"
      ],
      "execution_count": null,
      "outputs": [
        {
          "output_type": "stream",
          "name": "stdout",
          "text": [
            "<class 'pandas.core.frame.DataFrame'>\n",
            "RangeIndex: 4490 entries, 0 to 4489\n",
            "Data columns (total 7 columns):\n",
            " #   Column     Non-Null Count  Dtype         \n",
            "---  ------     --------------  -----         \n",
            " 0   Date       4490 non-null   datetime64[ns]\n",
            " 1   Open       4490 non-null   float64       \n",
            " 2   High       4490 non-null   float64       \n",
            " 3   Low        4490 non-null   float64       \n",
            " 4   Close      4490 non-null   float64       \n",
            " 5   Adj Close  4490 non-null   float64       \n",
            " 6   Volume     4490 non-null   int64         \n",
            "dtypes: datetime64[ns](1), float64(5), int64(1)\n",
            "memory usage: 245.7 KB\n"
          ]
        }
      ]
    },
    {
      "cell_type": "code",
      "metadata": {
        "id": "zdcSoZEOuupP"
      },
      "source": [
        "Maruti = Maruti.set_index('Date')"
      ],
      "execution_count": null,
      "outputs": []
    },
    {
      "cell_type": "code",
      "metadata": {
        "colab": {
          "base_uri": "https://localhost:8080/"
        },
        "id": "_kOfV94Huuwb",
        "outputId": "81f55918-f32e-41f3-c66a-f41fc0561985"
      },
      "source": [
        "pip install https://github.com/matplotlib/mpl_finance/archive/master.zip"
      ],
      "execution_count": null,
      "outputs": [
        {
          "output_type": "stream",
          "name": "stdout",
          "text": [
            "Collecting https://github.com/matplotlib/mpl_finance/archive/master.zip\n",
            "  Downloading https://github.com/matplotlib/mpl_finance/archive/master.zip (306 kB)\n",
            "\u001b[K     |████████████████████████████████| 306 kB 5.8 MB/s \n",
            "\u001b[?25hRequirement already satisfied: matplotlib in /usr/local/lib/python3.7/dist-packages (from mpl-finance==0.10.1) (3.2.2)\n",
            "Requirement already satisfied: kiwisolver>=1.0.1 in /usr/local/lib/python3.7/dist-packages (from matplotlib->mpl-finance==0.10.1) (1.3.1)\n",
            "Requirement already satisfied: cycler>=0.10 in /usr/local/lib/python3.7/dist-packages (from matplotlib->mpl-finance==0.10.1) (0.10.0)\n",
            "Requirement already satisfied: pyparsing!=2.0.4,!=2.1.2,!=2.1.6,>=2.0.1 in /usr/local/lib/python3.7/dist-packages (from matplotlib->mpl-finance==0.10.1) (2.4.7)\n",
            "Requirement already satisfied: python-dateutil>=2.1 in /usr/local/lib/python3.7/dist-packages (from matplotlib->mpl-finance==0.10.1) (2.8.2)\n",
            "Requirement already satisfied: numpy>=1.11 in /usr/local/lib/python3.7/dist-packages (from matplotlib->mpl-finance==0.10.1) (1.19.5)\n",
            "Requirement already satisfied: six in /usr/local/lib/python3.7/dist-packages (from cycler>=0.10->matplotlib->mpl-finance==0.10.1) (1.15.0)\n",
            "Building wheels for collected packages: mpl-finance\n",
            "  Building wheel for mpl-finance (setup.py) ... \u001b[?25l\u001b[?25hdone\n",
            "  Created wheel for mpl-finance: filename=mpl_finance-0.10.1-py3-none-any.whl size=8435 sha256=3b10a9f4f8bfaf126b94255a0b98a6eca935a9f2527817da11ae9ae0299a8b8e\n",
            "  Stored in directory: /tmp/pip-ephem-wheel-cache-yfoml4cx/wheels/eb/17/99/0f3929e635912eb25fc346aaf43b4ee3da4a80dee8ce3d2e4f\n",
            "Successfully built mpl-finance\n",
            "Installing collected packages: mpl-finance\n",
            "Successfully installed mpl-finance-0.10.1\n"
          ]
        }
      ]
    },
    {
      "cell_type": "code",
      "metadata": {
        "colab": {
          "base_uri": "https://localhost:8080/"
        },
        "id": "HDKyd6seuu4_",
        "outputId": "4ed6fad8-ddfb-4810-fe0d-ff056e74cb0c"
      },
      "source": [
        "pip install --upgrade mplfinance"
      ],
      "execution_count": null,
      "outputs": [
        {
          "output_type": "stream",
          "name": "stdout",
          "text": [
            "Collecting mplfinance\n",
            "  Downloading mplfinance-0.12.7a17-py3-none-any.whl (62 kB)\n",
            "\u001b[?25l\r\u001b[K     |█████▎                          | 10 kB 24.2 MB/s eta 0:00:01\r\u001b[K     |██████████▌                     | 20 kB 28.2 MB/s eta 0:00:01\r\u001b[K     |███████████████▊                | 30 kB 23.9 MB/s eta 0:00:01\r\u001b[K     |█████████████████████           | 40 kB 18.1 MB/s eta 0:00:01\r\u001b[K     |██████████████████████████▎     | 51 kB 10.3 MB/s eta 0:00:01\r\u001b[K     |███████████████████████████████▌| 61 kB 8.6 MB/s eta 0:00:01\r\u001b[K     |████████████████████████████████| 62 kB 846 kB/s \n",
            "\u001b[?25hRequirement already satisfied: matplotlib in /usr/local/lib/python3.7/dist-packages (from mplfinance) (3.2.2)\n",
            "Requirement already satisfied: pandas in /usr/local/lib/python3.7/dist-packages (from mplfinance) (1.1.5)\n",
            "Requirement already satisfied: pyparsing!=2.0.4,!=2.1.2,!=2.1.6,>=2.0.1 in /usr/local/lib/python3.7/dist-packages (from matplotlib->mplfinance) (2.4.7)\n",
            "Requirement already satisfied: kiwisolver>=1.0.1 in /usr/local/lib/python3.7/dist-packages (from matplotlib->mplfinance) (1.3.1)\n",
            "Requirement already satisfied: python-dateutil>=2.1 in /usr/local/lib/python3.7/dist-packages (from matplotlib->mplfinance) (2.8.2)\n",
            "Requirement already satisfied: cycler>=0.10 in /usr/local/lib/python3.7/dist-packages (from matplotlib->mplfinance) (0.10.0)\n",
            "Requirement already satisfied: numpy>=1.11 in /usr/local/lib/python3.7/dist-packages (from matplotlib->mplfinance) (1.19.5)\n",
            "Requirement already satisfied: six in /usr/local/lib/python3.7/dist-packages (from cycler>=0.10->matplotlib->mplfinance) (1.15.0)\n",
            "Requirement already satisfied: pytz>=2017.2 in /usr/local/lib/python3.7/dist-packages (from pandas->mplfinance) (2018.9)\n",
            "Installing collected packages: mplfinance\n",
            "Successfully installed mplfinance-0.12.7a17\n"
          ]
        }
      ]
    },
    {
      "cell_type": "code",
      "metadata": {
        "colab": {
          "base_uri": "https://localhost:8080/",
          "height": 425
        },
        "id": "kAUgoU8HuvDX",
        "outputId": "6ea9e982-0b27-413d-b4ba-07b8b1a63254"
      },
      "source": [
        "import mplfinance as mpf\n",
        "mpf.plot(Maruti['2020'], \n",
        "         type='candle', mav=(20), \n",
        "         volume=True, \n",
        "         title = 'Maruti Share Price of 2020', \n",
        "         figratio=(20,6), tight_layout = True, \n",
        "         style = 'yahoo')"
      ],
      "execution_count": null,
      "outputs": [
        {
          "output_type": "display_data",
          "data": {
            "image/png": "[encoded data removed]",
            "text/plain": [
              "<Figure size 1916.67x575 with 4 Axes>"
            ]
          },
          "metadata": {}
        }
      ]
    },
    {
      "cell_type": "code",
      "metadata": {
        "id": "KhmzK0wQtjLc"
      },
      "source": [
        "import numpy as np"
      ],
      "execution_count": null,
      "outputs": []
    },
    {
      "cell_type": "code",
      "metadata": {
        "id": "11F8IoZWtpSq"
      },
      "source": [
        "from sklearn.preprocessing import MinMaxScaler\n",
        "scaler = MinMaxScaler(feature_range=(0,1))\n",
        "df1=scaler.fit_transform(np.array(df1).reshape(-1,1))"
      ],
      "execution_count": null,
      "outputs": []
    },
    {
      "cell_type": "code",
      "metadata": {
        "colab": {
          "base_uri": "https://localhost:8080/"
        },
        "id": "yZaN017SuDfy",
        "outputId": "45d70c9b-1b7b-422f-a5cc-6d6270ed52dd"
      },
      "source": [
        "df1"
      ],
      "execution_count": null,
      "outputs": [
        {
          "output_type": "execute_result",
          "data": {
            "text/plain": [
              "array([[0.00000000e+00],\n",
              "       [2.79267176e-04],\n",
              "       [9.36063551e-04],\n",
              "       ...,\n",
              "       [6.77187472e-01],\n",
              "       [6.66549440e-01],\n",
              "       [6.68230216e-01]])"
            ]
          },
          "metadata": {},
          "execution_count": 16
        }
      ]
    },
    {
      "cell_type": "code",
      "metadata": {
        "id": "v8nlDnRtuIUJ"
      },
      "source": [
        "training_size=int(len(df1)*0.75)\n",
        "test_size=len(df1)-training_size\n",
        "train_data,test_data=df1[0:training_size,:],df1[training_size:len(df1),:1]"
      ],
      "execution_count": null,
      "outputs": []
    },
    {
      "cell_type": "code",
      "metadata": {
        "colab": {
          "base_uri": "https://localhost:8080/"
        },
        "id": "7BE7WAuPuhZB",
        "outputId": "1cd82e09-c1d3-433b-fee8-2e13f1dd7d3f"
      },
      "source": [
        "training_size, test_size"
      ],
      "execution_count": null,
      "outputs": [
        {
          "output_type": "execute_result",
          "data": {
            "text/plain": [
              "(3367, 1123)"
            ]
          },
          "metadata": {},
          "execution_count": 18
        }
      ]
    },
    {
      "cell_type": "code",
      "metadata": {
        "colab": {
          "base_uri": "https://localhost:8080/"
        },
        "id": "l22HaDOrvDlY",
        "outputId": "bbec793a-d1ce-4c4e-9a0b-04315538ade3"
      },
      "source": [
        "len(train_data), len(test_data)"
      ],
      "execution_count": null,
      "outputs": [
        {
          "output_type": "execute_result",
          "data": {
            "text/plain": [
              "(3367, 1123)"
            ]
          },
          "metadata": {},
          "execution_count": 19
        }
      ]
    },
    {
      "cell_type": "code",
      "metadata": {
        "id": "Wfb3iGg8vNYX"
      },
      "source": [
        "import numpy \n",
        "def create_dataset(dataset, time_step=1):\n",
        "  dataX, dataY = [], []\n",
        "  for i in range (len(dataset)-time_step-1):\n",
        "    a = dataset[i:(i+time_step), 0]\n",
        "    dataX.append(a)\n",
        "    dataY.append(dataset[i + time_step, 0])\n",
        "  return numpy.array(dataX), numpy.array(dataY)"
      ],
      "execution_count": null,
      "outputs": []
    },
    {
      "cell_type": "code",
      "metadata": {
        "id": "HbGS_OF4wMHh"
      },
      "source": [
        "time_step = 100\n",
        "X_train, y_train = create_dataset(train_data, time_step)\n",
        "X_test, y_test = create_dataset(test_data, time_step)"
      ],
      "execution_count": null,
      "outputs": []
    },
    {
      "cell_type": "code",
      "metadata": {
        "colab": {
          "base_uri": "https://localhost:8080/"
        },
        "id": "iKr4-5H0we3U",
        "outputId": "1f104eed-20cd-4cd8-ca74-5d4630ea0a9f"
      },
      "source": [
        "print(X_train)"
      ],
      "execution_count": null,
      "outputs": [
        {
          "output_type": "stream",
          "name": "stdout",
          "text": [
            "[[0.00000000e+00 2.79267176e-04 9.36063551e-04 ... 1.65233247e-02\n",
            "  1.68543096e-02 1.78938040e-02]\n",
            " [2.79267176e-04 9.36063551e-04 1.41185167e-03 ... 1.68543096e-02\n",
            "  1.78938040e-02 1.78938040e-02]\n",
            " [9.36063551e-04 1.41185167e-03 1.23084497e-03 ... 1.78938040e-02\n",
            "  1.78938040e-02 1.82454767e-02]\n",
            " ...\n",
            " [5.33235427e-01 5.34926506e-01 5.50787875e-01 ... 5.94901795e-01\n",
            "  5.92734916e-01 5.92662493e-01]\n",
            " [5.34926506e-01 5.50787875e-01 5.41851326e-01 ... 5.92734916e-01\n",
            "  5.92662493e-01 6.22135576e-01]\n",
            " [5.50787875e-01 5.41851326e-01 5.34197328e-01 ... 5.92662493e-01\n",
            "  6.22135576e-01 6.18530947e-01]]\n"
          ]
        }
      ]
    },
    {
      "cell_type": "code",
      "metadata": {
        "colab": {
          "base_uri": "https://localhost:8080/"
        },
        "id": "BKBYRqekw6pj",
        "outputId": "8bcc7d35-ae5a-4164-f126-4bceda7a0353"
      },
      "source": [
        "print(X_train.shape), print(y_train.shape)"
      ],
      "execution_count": null,
      "outputs": [
        {
          "output_type": "stream",
          "name": "stdout",
          "text": [
            "(3266, 100)\n",
            "(3266,)\n"
          ]
        },
        {
          "output_type": "execute_result",
          "data": {
            "text/plain": [
              "(None, None)"
            ]
          },
          "metadata": {},
          "execution_count": 23
        }
      ]
    },
    {
      "cell_type": "code",
      "metadata": {
        "colab": {
          "base_uri": "https://localhost:8080/"
        },
        "id": "_sIswsCTwiMV",
        "outputId": "fb0abcd9-0b51-4be3-bdbd-4593f7e9d6d9"
      },
      "source": [
        "print(X_test.shape), print(y_test.shape)"
      ],
      "execution_count": null,
      "outputs": [
        {
          "output_type": "stream",
          "name": "stdout",
          "text": [
            "(1022, 100)\n",
            "(1022,)\n"
          ]
        },
        {
          "output_type": "execute_result",
          "data": {
            "text/plain": [
              "(None, None)"
            ]
          },
          "metadata": {},
          "execution_count": 24
        }
      ]
    },
    {
      "cell_type": "code",
      "metadata": {
        "id": "2QsJz9xPw92t"
      },
      "source": [
        "X_train =X_train.reshape(X_train.shape[0],X_train.shape[1] , 1)\n",
        "X_test = X_test.reshape(X_test.shape[0],X_test.shape[1] , 1)"
      ],
      "execution_count": null,
      "outputs": []
    },
    {
      "cell_type": "code",
      "metadata": {
        "id": "YY-0K12vytcx"
      },
      "source": [
        "from tensorflow.keras.models import Sequential\n",
        "from tensorflow.keras.layers import Dense\n",
        "from tensorflow.keras.layers import LSTM"
      ],
      "execution_count": null,
      "outputs": []
    },
    {
      "cell_type": "code",
      "metadata": {
        "id": "_V5wKTh7yzKN"
      },
      "source": [
        "model=Sequential()\n",
        "model.add(LSTM(50,return_sequences=True,input_shape=(100,1)))\n",
        "model.add(LSTM(50,return_sequences=True))\n",
        "model.add(LSTM(50))\n",
        "model.add(Dense(1))\n",
        "model.compile(loss='mean_squared_error', optimizer='adam')"
      ],
      "execution_count": null,
      "outputs": []
    },
    {
      "cell_type": "code",
      "metadata": {
        "colab": {
          "base_uri": "https://localhost:8080/"
        },
        "id": "qBPJ3FOXy_H_",
        "outputId": "45a3b20b-888b-45e6-d7e8-8978a88bf3a6"
      },
      "source": [
        "model.summary()"
      ],
      "execution_count": null,
      "outputs": [
        {
          "output_type": "stream",
          "name": "stdout",
          "text": [
            "Model: \"sequential\"\n",
            "_________________________________________________________________\n",
            "Layer (type)                 Output Shape              Param #   \n",
            "=================================================================\n",
            "lstm (LSTM)                  (None, 100, 50)           10400     \n",
            "_________________________________________________________________\n",
            "lstm_1 (LSTM)                (None, 100, 50)           20200     \n",
            "_________________________________________________________________\n",
            "lstm_2 (LSTM)                (None, 50)                20200     \n",
            "_________________________________________________________________\n",
            "dense (Dense)                (None, 1)                 51        \n",
            "=================================================================\n",
            "Total params: 50,851\n",
            "Trainable params: 50,851\n",
            "Non-trainable params: 0\n",
            "_________________________________________________________________\n"
          ]
        }
      ]
    },
    {
      "cell_type": "code",
      "metadata": {
        "colab": {
          "base_uri": "https://localhost:8080/"
        },
        "id": "nVPrvBSvziFh",
        "outputId": "1da1fd51-5789-4ef5-8433-d533cd1863d6"
      },
      "source": [
        "model.fit(X_train, y_train, validation_data=(X_test, y_test), epochs=100, batch_size=64, verbose=1)"
      ],
      "execution_count": null,
      "outputs": [
        {
          "output_type": "stream",
          "name": "stdout",
          "text": [
            "Epoch 1/100\n",
            "52/52 [==============================] - 16s 215ms/step - loss: 0.0037 - val_loss: 0.0016\n",
            "Epoch 2/100\n",
            "52/52 [==============================] - 10s 196ms/step - loss: 1.4084e-04 - val_loss: 0.0016\n",
            "Epoch 3/100\n",
            "52/52 [==============================] - 10s 195ms/step - loss: 1.2800e-04 - val_loss: 0.0016\n",
            "Epoch 4/100\n",
            "52/52 [==============================] - 10s 196ms/step - loss: 1.2505e-04 - val_loss: 0.0019\n",
            "Epoch 5/100\n",
            "52/52 [==============================] - 10s 193ms/step - loss: 1.2179e-04 - val_loss: 0.0017\n",
            "Epoch 6/100\n",
            "52/52 [==============================] - 10s 195ms/step - loss: 1.3518e-04 - val_loss: 0.0015\n",
            "Epoch 7/100\n",
            "52/52 [==============================] - 10s 194ms/step - loss: 1.4620e-04 - val_loss: 0.0030\n",
            "Epoch 8/100\n",
            "52/52 [==============================] - 10s 193ms/step - loss: 1.2179e-04 - val_loss: 0.0013\n",
            "Epoch 9/100\n",
            "52/52 [==============================] - 10s 190ms/step - loss: 1.3448e-04 - val_loss: 0.0014\n",
            "Epoch 10/100\n",
            "52/52 [==============================] - 10s 189ms/step - loss: 1.8482e-04 - val_loss: 0.0012\n",
            "Epoch 11/100\n",
            "52/52 [==============================] - 10s 189ms/step - loss: 1.1006e-04 - val_loss: 0.0012\n",
            "Epoch 12/100\n",
            "52/52 [==============================] - 10s 193ms/step - loss: 1.1389e-04 - val_loss: 0.0015\n",
            "Epoch 13/100\n",
            "52/52 [==============================] - 10s 190ms/step - loss: 9.4704e-05 - val_loss: 0.0015\n",
            "Epoch 14/100\n",
            "52/52 [==============================] - 10s 191ms/step - loss: 9.3864e-05 - val_loss: 0.0013\n",
            "Epoch 15/100\n",
            "52/52 [==============================] - 10s 192ms/step - loss: 1.0149e-04 - val_loss: 0.0015\n",
            "Epoch 16/100\n",
            "52/52 [==============================] - 10s 192ms/step - loss: 8.4500e-05 - val_loss: 9.3611e-04\n",
            "Epoch 17/100\n",
            "52/52 [==============================] - 10s 191ms/step - loss: 9.1613e-05 - val_loss: 0.0010\n",
            "Epoch 18/100\n",
            "52/52 [==============================] - 10s 195ms/step - loss: 8.8883e-05 - val_loss: 9.6779e-04\n",
            "Epoch 19/100\n",
            "52/52 [==============================] - 10s 193ms/step - loss: 7.9384e-05 - val_loss: 8.1231e-04\n",
            "Epoch 20/100\n",
            "52/52 [==============================] - 10s 194ms/step - loss: 9.4548e-05 - val_loss: 0.0012\n",
            "Epoch 21/100\n",
            "52/52 [==============================] - 10s 192ms/step - loss: 9.7440e-05 - val_loss: 9.1280e-04\n",
            "Epoch 22/100\n",
            "52/52 [==============================] - 10s 194ms/step - loss: 8.0195e-05 - val_loss: 7.9530e-04\n",
            "Epoch 23/100\n",
            "52/52 [==============================] - 10s 193ms/step - loss: 8.9199e-05 - val_loss: 8.5877e-04\n",
            "Epoch 24/100\n",
            "52/52 [==============================] - 10s 196ms/step - loss: 7.9173e-05 - val_loss: 0.0032\n",
            "Epoch 25/100\n",
            "52/52 [==============================] - 10s 197ms/step - loss: 8.8596e-05 - val_loss: 0.0012\n",
            "Epoch 26/100\n",
            "52/52 [==============================] - 10s 197ms/step - loss: 7.8089e-05 - val_loss: 0.0012\n",
            "Epoch 27/100\n",
            "52/52 [==============================] - 10s 197ms/step - loss: 6.7108e-05 - val_loss: 6.6420e-04\n",
            "Epoch 28/100\n",
            "52/52 [==============================] - 10s 194ms/step - loss: 6.6314e-05 - val_loss: 8.9166e-04\n",
            "Epoch 29/100\n",
            "52/52 [==============================] - 10s 195ms/step - loss: 6.9158e-05 - val_loss: 9.0346e-04\n",
            "Epoch 30/100\n",
            "52/52 [==============================] - 10s 201ms/step - loss: 8.1461e-05 - val_loss: 9.3366e-04\n",
            "Epoch 31/100\n",
            "52/52 [==============================] - 10s 196ms/step - loss: 6.2880e-05 - val_loss: 5.8610e-04\n",
            "Epoch 32/100\n",
            "52/52 [==============================] - 10s 195ms/step - loss: 6.8808e-05 - val_loss: 6.4668e-04\n",
            "Epoch 33/100\n",
            "52/52 [==============================] - 10s 198ms/step - loss: 6.3607e-05 - val_loss: 6.4226e-04\n",
            "Epoch 34/100\n",
            "52/52 [==============================] - 10s 198ms/step - loss: 5.4988e-05 - val_loss: 7.2054e-04\n",
            "Epoch 35/100\n",
            "52/52 [==============================] - 10s 197ms/step - loss: 5.3691e-05 - val_loss: 5.5134e-04\n",
            "Epoch 36/100\n",
            "52/52 [==============================] - 10s 199ms/step - loss: 4.8664e-05 - val_loss: 5.6482e-04\n",
            "Epoch 37/100\n",
            "52/52 [==============================] - 10s 195ms/step - loss: 4.9454e-05 - val_loss: 5.1278e-04\n",
            "Epoch 38/100\n",
            "52/52 [==============================] - 10s 197ms/step - loss: 5.1947e-05 - val_loss: 5.2686e-04\n",
            "Epoch 39/100\n",
            "52/52 [==============================] - 10s 196ms/step - loss: 4.5086e-05 - val_loss: 4.8268e-04\n",
            "Epoch 40/100\n",
            "52/52 [==============================] - 10s 193ms/step - loss: 4.7446e-05 - val_loss: 5.1142e-04\n",
            "Epoch 41/100\n",
            "52/52 [==============================] - 10s 195ms/step - loss: 4.6326e-05 - val_loss: 0.0017\n",
            "Epoch 42/100\n",
            "52/52 [==============================] - 10s 198ms/step - loss: 4.4395e-05 - val_loss: 6.8203e-04\n",
            "Epoch 43/100\n",
            "52/52 [==============================] - 10s 199ms/step - loss: 4.5428e-05 - val_loss: 8.1194e-04\n",
            "Epoch 44/100\n",
            "52/52 [==============================] - 10s 195ms/step - loss: 4.7308e-05 - val_loss: 5.3749e-04\n",
            "Epoch 45/100\n",
            "52/52 [==============================] - 10s 197ms/step - loss: 5.2052e-05 - val_loss: 4.0853e-04\n",
            "Epoch 46/100\n",
            "52/52 [==============================] - 10s 194ms/step - loss: 3.9557e-05 - val_loss: 6.9519e-04\n",
            "Epoch 47/100\n",
            "52/52 [==============================] - 10s 196ms/step - loss: 4.5708e-05 - val_loss: 5.6122e-04\n",
            "Epoch 48/100\n",
            "52/52 [==============================] - 10s 201ms/step - loss: 3.6702e-05 - val_loss: 4.6950e-04\n",
            "Epoch 49/100\n",
            "52/52 [==============================] - 10s 198ms/step - loss: 4.5531e-05 - val_loss: 4.2901e-04\n",
            "Epoch 50/100\n",
            "52/52 [==============================] - 10s 196ms/step - loss: 3.7418e-05 - val_loss: 3.7349e-04\n",
            "Epoch 51/100\n",
            "52/52 [==============================] - 10s 200ms/step - loss: 3.7310e-05 - val_loss: 8.2241e-04\n",
            "Epoch 52/100\n",
            "52/52 [==============================] - 10s 198ms/step - loss: 3.6133e-05 - val_loss: 5.9077e-04\n",
            "Epoch 53/100\n",
            "52/52 [==============================] - 11s 204ms/step - loss: 5.1291e-05 - val_loss: 3.9494e-04\n",
            "Epoch 54/100\n",
            "52/52 [==============================] - 11s 209ms/step - loss: 3.4085e-05 - val_loss: 4.8856e-04\n",
            "Epoch 55/100\n",
            "52/52 [==============================] - 11s 203ms/step - loss: 3.1748e-05 - val_loss: 3.7030e-04\n",
            "Epoch 56/100\n",
            "52/52 [==============================] - 10s 199ms/step - loss: 4.5537e-05 - val_loss: 4.2718e-04\n",
            "Epoch 57/100\n",
            "52/52 [==============================] - 10s 197ms/step - loss: 3.5941e-05 - val_loss: 0.0017\n",
            "Epoch 58/100\n",
            "52/52 [==============================] - 10s 198ms/step - loss: 5.9079e-05 - val_loss: 3.0323e-04\n",
            "Epoch 59/100\n",
            "52/52 [==============================] - 10s 198ms/step - loss: 3.3419e-05 - val_loss: 6.4405e-04\n",
            "Epoch 60/100\n",
            "52/52 [==============================] - 10s 197ms/step - loss: 3.2060e-05 - val_loss: 0.0017\n",
            "Epoch 61/100\n",
            "52/52 [==============================] - 10s 198ms/step - loss: 4.3418e-05 - val_loss: 0.0013\n",
            "Epoch 62/100\n",
            "52/52 [==============================] - 10s 198ms/step - loss: 4.1176e-05 - val_loss: 2.9777e-04\n",
            "Epoch 63/100\n",
            "52/52 [==============================] - 10s 197ms/step - loss: 3.5779e-05 - val_loss: 3.0872e-04\n",
            "Epoch 64/100\n",
            "52/52 [==============================] - 10s 199ms/step - loss: 3.6912e-05 - val_loss: 3.0054e-04\n",
            "Epoch 65/100\n",
            "52/52 [==============================] - 11s 204ms/step - loss: 3.5011e-05 - val_loss: 8.3143e-04\n",
            "Epoch 66/100\n",
            "52/52 [==============================] - 11s 203ms/step - loss: 3.0769e-05 - val_loss: 4.4822e-04\n",
            "Epoch 67/100\n",
            "52/52 [==============================] - 11s 203ms/step - loss: 2.6395e-05 - val_loss: 4.0470e-04\n",
            "Epoch 68/100\n",
            "52/52 [==============================] - 10s 198ms/step - loss: 3.0012e-05 - val_loss: 2.4884e-04\n",
            "Epoch 69/100\n",
            "52/52 [==============================] - 10s 195ms/step - loss: 2.9002e-05 - val_loss: 2.3425e-04\n",
            "Epoch 70/100\n",
            "52/52 [==============================] - 10s 196ms/step - loss: 2.7452e-05 - val_loss: 3.7249e-04\n",
            "Epoch 71/100\n",
            "52/52 [==============================] - 10s 201ms/step - loss: 2.4302e-05 - val_loss: 2.4141e-04\n",
            "Epoch 72/100\n",
            "52/52 [==============================] - 10s 197ms/step - loss: 2.5511e-05 - val_loss: 8.6303e-04\n",
            "Epoch 73/100\n",
            "52/52 [==============================] - 10s 201ms/step - loss: 4.4800e-05 - val_loss: 2.1862e-04\n",
            "Epoch 74/100\n",
            "52/52 [==============================] - 10s 201ms/step - loss: 3.4872e-05 - val_loss: 2.5494e-04\n",
            "Epoch 75/100\n",
            "52/52 [==============================] - 10s 202ms/step - loss: 3.3511e-05 - val_loss: 0.0022\n",
            "Epoch 76/100\n",
            "52/52 [==============================] - 11s 206ms/step - loss: 3.8497e-05 - val_loss: 2.0442e-04\n",
            "Epoch 77/100\n",
            "52/52 [==============================] - 11s 211ms/step - loss: 2.1499e-05 - val_loss: 2.0483e-04\n",
            "Epoch 78/100\n",
            "52/52 [==============================] - 11s 209ms/step - loss: 3.0439e-05 - val_loss: 2.0993e-04\n",
            "Epoch 79/100\n",
            "52/52 [==============================] - 11s 205ms/step - loss: 2.1666e-05 - val_loss: 2.9419e-04\n",
            "Epoch 80/100\n",
            "52/52 [==============================] - 11s 204ms/step - loss: 2.4541e-05 - val_loss: 1.9714e-04\n",
            "Epoch 81/100\n",
            "52/52 [==============================] - 11s 204ms/step - loss: 2.0244e-05 - val_loss: 2.0626e-04\n",
            "Epoch 82/100\n",
            "52/52 [==============================] - 11s 207ms/step - loss: 2.0647e-05 - val_loss: 1.9506e-04\n",
            "Epoch 83/100\n",
            "52/52 [==============================] - 11s 205ms/step - loss: 2.2680e-05 - val_loss: 0.0074\n",
            "Epoch 84/100\n",
            "52/52 [==============================] - 11s 203ms/step - loss: 8.0692e-05 - val_loss: 7.8168e-04\n",
            "Epoch 85/100\n",
            "52/52 [==============================] - 11s 203ms/step - loss: 2.3877e-05 - val_loss: 0.0038\n",
            "Epoch 86/100\n",
            "52/52 [==============================] - 11s 204ms/step - loss: 6.4634e-05 - val_loss: 2.1125e-04\n",
            "Epoch 87/100\n",
            "52/52 [==============================] - 11s 210ms/step - loss: 2.3673e-05 - val_loss: 0.0010\n",
            "Epoch 88/100\n",
            "52/52 [==============================] - 11s 210ms/step - loss: 2.2626e-05 - val_loss: 6.8874e-04\n",
            "Epoch 89/100\n",
            "52/52 [==============================] - 10s 201ms/step - loss: 2.8340e-05 - val_loss: 2.9199e-04\n",
            "Epoch 90/100\n",
            "52/52 [==============================] - 10s 202ms/step - loss: 2.0955e-05 - val_loss: 2.1789e-04\n",
            "Epoch 91/100\n",
            "52/52 [==============================] - 10s 199ms/step - loss: 1.9484e-05 - val_loss: 1.9864e-04\n",
            "Epoch 92/100\n",
            "52/52 [==============================] - 10s 198ms/step - loss: 1.9202e-05 - val_loss: 4.0066e-04\n",
            "Epoch 93/100\n",
            "52/52 [==============================] - 10s 201ms/step - loss: 1.8909e-05 - val_loss: 2.0944e-04\n",
            "Epoch 94/100\n",
            "52/52 [==============================] - 11s 202ms/step - loss: 1.8188e-05 - val_loss: 2.4023e-04\n",
            "Epoch 95/100\n",
            "52/52 [==============================] - 10s 201ms/step - loss: 1.7587e-05 - val_loss: 2.1514e-04\n",
            "Epoch 96/100\n",
            "52/52 [==============================] - 11s 205ms/step - loss: 1.9422e-05 - val_loss: 4.3873e-04\n",
            "Epoch 97/100\n",
            "52/52 [==============================] - 10s 200ms/step - loss: 1.9821e-05 - val_loss: 4.1029e-04\n",
            "Epoch 98/100\n",
            "52/52 [==============================] - 10s 198ms/step - loss: 2.1312e-05 - val_loss: 0.0015\n",
            "Epoch 99/100\n",
            "52/52 [==============================] - 11s 204ms/step - loss: 4.9624e-05 - val_loss: 3.8911e-04\n",
            "Epoch 100/100\n",
            "52/52 [==============================] - 10s 201ms/step - loss: 1.7937e-05 - val_loss: 4.2389e-04\n"
          ]
        },
        {
          "output_type": "execute_result",
          "data": {
            "text/plain": [
              "<keras.callbacks.History at 0x7fd0c56f3ad0>"
            ]
          },
          "metadata": {},
          "execution_count": 29
        }
      ]
    },
    {
      "cell_type": "code",
      "metadata": {
        "id": "u82EsQ4a0c-2"
      },
      "source": [
        "import tensorflow as tf"
      ],
      "execution_count": null,
      "outputs": []
    },
    {
      "cell_type": "code",
      "metadata": {
        "colab": {
          "base_uri": "https://localhost:8080/",
          "height": 37
        },
        "id": "xZH6Ysln0llD",
        "outputId": "d69f5eb1-7db9-47a2-ab6f-ec9a870d7e18"
      },
      "source": [
        "tf.__version__"
      ],
      "execution_count": null,
      "outputs": [
        {
          "output_type": "execute_result",
          "data": {
            "application/vnd.google.colaboratory.intrinsic+json": {
              "type": "string"
            },
            "text/plain": [
              "'2.6.0'"
            ]
          },
          "metadata": {},
          "execution_count": 31
        }
      ]
    },
    {
      "cell_type": "code",
      "metadata": {
        "id": "fjDIwcMH0ngp"
      },
      "source": [
        "### Lets Do the prediction and check performance metrics\n",
        "train_predict=model.predict(X_train)\n",
        "test_predict=model.predict(X_test)"
      ],
      "execution_count": null,
      "outputs": []
    },
    {
      "cell_type": "code",
      "metadata": {
        "id": "pnW1sUZW0pbC"
      },
      "source": [
        "##Transformback to original form\n",
        "train_predict=scaler.inverse_transform(train_predict)\n",
        "test_predict=scaler.inverse_transform(test_predict)"
      ],
      "execution_count": null,
      "outputs": []
    },
    {
      "cell_type": "code",
      "metadata": {
        "colab": {
          "base_uri": "https://localhost:8080/"
        },
        "id": "oewqwI3j0rJj",
        "outputId": "82264b2a-063d-4bd1-a6d3-5dcc397b2911"
      },
      "source": [
        "### Calculate RMSE performance metrics\n",
        "import math\n",
        "from sklearn.metrics import mean_squared_error\n",
        "math.sqrt(mean_squared_error(y_train,train_predict))"
      ],
      "execution_count": null,
      "outputs": [
        {
          "output_type": "execute_result",
          "data": {
            "text/plain": [
              "2060.8445827725723"
            ]
          },
          "metadata": {},
          "execution_count": 34
        }
      ]
    },
    {
      "cell_type": "code",
      "metadata": {
        "colab": {
          "base_uri": "https://localhost:8080/"
        },
        "id": "yV7wtOxU0thE",
        "outputId": "b7267575-f4a3-4f99-85ab-e1430b754ffa"
      },
      "source": [
        "### Test Data RMSE\n",
        "math.sqrt(mean_squared_error(y_test,test_predict))"
      ],
      "execution_count": null,
      "outputs": [
        {
          "output_type": "execute_result",
          "data": {
            "text/plain": [
              "7273.012716156233"
            ]
          },
          "metadata": {},
          "execution_count": 35
        }
      ]
    },
    {
      "cell_type": "code",
      "metadata": {
        "colab": {
          "base_uri": "https://localhost:8080/",
          "height": 452
        },
        "id": "b2O9FdYN03ec",
        "outputId": "f79801ff-29d1-4e47-ad0a-57b736190dcf"
      },
      "source": [
        "### Plotting \n",
        "# shift train predictions for plotting\n",
        "look_back=100\n",
        "trainPredictPlot = numpy.empty_like(df1)\n",
        "trainPredictPlot[:, :] = np.nan\n",
        "trainPredictPlot[look_back:len(train_predict)+look_back, :] = train_predict\n",
        "# shift test predictions for plotting\n",
        "testPredictPlot = numpy.empty_like(df1)\n",
        "testPredictPlot[:, :] = numpy.nan\n",
        "testPredictPlot[len(train_predict)+(look_back*2)+1:len(df1)-1, :] = test_predict\n",
        "# plot baseline and predictions\n",
        "plt.plot(scaler.inverse_transform(df1))\n",
        "plt.plot(trainPredictPlot)\n",
        "plt.plot(testPredictPlot)\n",
        "plt.title('Maruti Suzuki Train Test Split')\n",
        "plt.show()"
      ],
      "execution_count": null,
      "outputs": [
        {
          "output_type": "display_data",
          "data": {
            "image/png": "[encoded data removed]",
            "text/plain": [
              "<Figure size 640x480 with 1 Axes>"
            ]
          },
          "metadata": {}
        }
      ]
    },
    {
      "cell_type": "code",
      "metadata": {
        "colab": {
          "base_uri": "https://localhost:8080/"
        },
        "id": "XJDVfIMk05WN",
        "outputId": "ae2f8f8a-15b5-4c41-dc9c-22c1ffc7f2df"
      },
      "source": [
        "len(test_data)"
      ],
      "execution_count": null,
      "outputs": [
        {
          "output_type": "execute_result",
          "data": {
            "text/plain": [
              "1123"
            ]
          },
          "metadata": {},
          "execution_count": 37
        }
      ]
    },
    {
      "cell_type": "code",
      "metadata": {
        "colab": {
          "base_uri": "https://localhost:8080/"
        },
        "id": "faLcUIDr08mi",
        "outputId": "0fb51af7-7fcd-4ab2-ee5b-325f746fc999"
      },
      "source": [
        "x_input=test_data[1023:].reshape(1,-1)\n",
        "x_input.shape"
      ],
      "execution_count": null,
      "outputs": [
        {
          "output_type": "execute_result",
          "data": {
            "text/plain": [
              "(1, 100)"
            ]
          },
          "metadata": {},
          "execution_count": 41
        }
      ]
    },
    {
      "cell_type": "code",
      "metadata": {
        "id": "7oKtWwxZ09IM"
      },
      "source": [
        "temp_input=list(x_input)\n",
        "temp_input=temp_input[0].tolist()"
      ],
      "execution_count": null,
      "outputs": []
    },
    {
      "cell_type": "code",
      "metadata": {
        "colab": {
          "base_uri": "https://localhost:8080/"
        },
        "id": "Nm8nnIo809lO",
        "outputId": "62d3c537-c493-48a8-9122-d3bccc0f31b6"
      },
      "source": [
        "# demonstrate prediction for next 30 days\n",
        "from numpy import array\n",
        "\n",
        "lst_output=[]\n",
        "n_steps=100\n",
        "i=0\n",
        "while(i<30):\n",
        "    \n",
        "    if(len(temp_input)>100):\n",
        "        #print(temp_input)\n",
        "        x_input=np.array(temp_input[1:])\n",
        "        print(\"{} day input {}\".format(i,x_input))\n",
        "        x_input=x_input.reshape(1,-1)\n",
        "        x_input = x_input.reshape((1, n_steps, 1))\n",
        "        #print(x_input)\n",
        "        yhat = model.predict(x_input, verbose=0)\n",
        "        print(\"{} day output {}\".format(i,yhat))\n",
        "        temp_input.extend(yhat[0].tolist())\n",
        "        temp_input=temp_input[1:]\n",
        "        #print(temp_input)\n",
        "        lst_output.extend(yhat.tolist())\n",
        "        i=i+1\n",
        "    else:\n",
        "        x_input = x_input.reshape((1, n_steps,1))\n",
        "        yhat = model.predict(x_input, verbose=0)\n",
        "        print(yhat[0])\n",
        "        temp_input.extend(yhat[0].tolist())\n",
        "        print(len(temp_input))\n",
        "        lst_output.extend(yhat.tolist())\n",
        "        i=i+1\n",
        "    \n",
        "\n",
        "print(lst_output)"
      ],
      "execution_count": null,
      "outputs": [
        {
          "output_type": "stream",
          "name": "stdout",
          "text": [
            "[0.6573263]\n",
            "101\n",
            "1 day input [0.68130921 0.6930695  0.68912356 0.68914942 0.65744739 0.6879806\n",
            " 0.67023679 0.67063502 0.656532   0.67048502 0.67084188 0.67353113\n",
            " 0.66968342 0.66242765 0.66294996 0.662107   0.65072943 0.66543754\n",
            " 0.65616999 0.66463594 0.67255367 0.6763186  0.68262283 0.67979394\n",
            " 0.68816161 0.67976808 0.67784943 0.6874945  0.68385366 0.67991808\n",
            " 0.68786167 0.69375216 0.69791011 0.71058058 0.70381611 0.7039299\n",
            " 0.71595907 0.71646073 0.72613686 0.72870196 0.72923983 0.735544\n",
            " 0.74186373 0.73175322 0.727709   0.73018102 0.72542833 0.72422851\n",
            " 0.71885002 0.70386268 0.70282835 0.69667928 0.73448382 0.75178809\n",
            " 0.76158831 0.7741605  0.76870444 0.75745617 0.76039364 0.76747876\n",
            " 0.76638757 0.76903545 0.76029541 0.75351538 0.74852997 0.75106407\n",
            " 0.75565645 0.75154502 0.74082941 0.73878662 0.73842976 0.72415609\n",
            " 0.73110161 0.73801603 0.73742649 0.73142221 0.73188251 0.72410437\n",
            " 0.70636056 0.70472635 0.71499202 0.72765728 0.71767606 0.70988241\n",
            " 0.71745884 0.71548847 0.70723459 0.70925667 0.70827406 0.70726044\n",
            " 0.68912356 0.69517951 0.69049404 0.69161109 0.68902528 0.6866774\n",
            " 0.67718747 0.66654944 0.66823022 0.65732628]\n",
            "1 day output [[0.6424764]]\n",
            "2 day input [0.6930695  0.68912356 0.68914942 0.65744739 0.6879806  0.67023679\n",
            " 0.67063502 0.656532   0.67048502 0.67084188 0.67353113 0.66968342\n",
            " 0.66242765 0.66294996 0.662107   0.65072943 0.66543754 0.65616999\n",
            " 0.66463594 0.67255367 0.6763186  0.68262283 0.67979394 0.68816161\n",
            " 0.67976808 0.67784943 0.6874945  0.68385366 0.67991808 0.68786167\n",
            " 0.69375216 0.69791011 0.71058058 0.70381611 0.7039299  0.71595907\n",
            " 0.71646073 0.72613686 0.72870196 0.72923983 0.735544   0.74186373\n",
            " 0.73175322 0.727709   0.73018102 0.72542833 0.72422851 0.71885002\n",
            " 0.70386268 0.70282835 0.69667928 0.73448382 0.75178809 0.76158831\n",
            " 0.7741605  0.76870444 0.75745617 0.76039364 0.76747876 0.76638757\n",
            " 0.76903545 0.76029541 0.75351538 0.74852997 0.75106407 0.75565645\n",
            " 0.75154502 0.74082941 0.73878662 0.73842976 0.72415609 0.73110161\n",
            " 0.73801603 0.73742649 0.73142221 0.73188251 0.72410437 0.70636056\n",
            " 0.70472635 0.71499202 0.72765728 0.71767606 0.70988241 0.71745884\n",
            " 0.71548847 0.70723459 0.70925667 0.70827406 0.70726044 0.68912356\n",
            " 0.69517951 0.69049404 0.69161109 0.68902528 0.6866774  0.67718747\n",
            " 0.66654944 0.66823022 0.65732628 0.64247638]\n",
            "2 day output [[0.62836677]]\n",
            "3 day input [0.68912356 0.68914942 0.65744739 0.6879806  0.67023679 0.67063502\n",
            " 0.656532   0.67048502 0.67084188 0.67353113 0.66968342 0.66242765\n",
            " 0.66294996 0.662107   0.65072943 0.66543754 0.65616999 0.66463594\n",
            " 0.67255367 0.6763186  0.68262283 0.67979394 0.68816161 0.67976808\n",
            " 0.67784943 0.6874945  0.68385366 0.67991808 0.68786167 0.69375216\n",
            " 0.69791011 0.71058058 0.70381611 0.7039299  0.71595907 0.71646073\n",
            " 0.72613686 0.72870196 0.72923983 0.735544   0.74186373 0.73175322\n",
            " 0.727709   0.73018102 0.72542833 0.72422851 0.71885002 0.70386268\n",
            " 0.70282835 0.69667928 0.73448382 0.75178809 0.76158831 0.7741605\n",
            " 0.76870444 0.75745617 0.76039364 0.76747876 0.76638757 0.76903545\n",
            " 0.76029541 0.75351538 0.74852997 0.75106407 0.75565645 0.75154502\n",
            " 0.74082941 0.73878662 0.73842976 0.72415609 0.73110161 0.73801603\n",
            " 0.73742649 0.73142221 0.73188251 0.72410437 0.70636056 0.70472635\n",
            " 0.71499202 0.72765728 0.71767606 0.70988241 0.71745884 0.71548847\n",
            " 0.70723459 0.70925667 0.70827406 0.70726044 0.68912356 0.69517951\n",
            " 0.69049404 0.69161109 0.68902528 0.6866774  0.67718747 0.66654944\n",
            " 0.66823022 0.65732628 0.64247638 0.62836677]\n",
            "3 day output [[0.6146141]]\n",
            "4 day input [0.68914942 0.65744739 0.6879806  0.67023679 0.67063502 0.656532\n",
            " 0.67048502 0.67084188 0.67353113 0.66968342 0.66242765 0.66294996\n",
            " 0.662107   0.65072943 0.66543754 0.65616999 0.66463594 0.67255367\n",
            " 0.6763186  0.68262283 0.67979394 0.68816161 0.67976808 0.67784943\n",
            " 0.6874945  0.68385366 0.67991808 0.68786167 0.69375216 0.69791011\n",
            " 0.71058058 0.70381611 0.7039299  0.71595907 0.71646073 0.72613686\n",
            " 0.72870196 0.72923983 0.735544   0.74186373 0.73175322 0.727709\n",
            " 0.73018102 0.72542833 0.72422851 0.71885002 0.70386268 0.70282835\n",
            " 0.69667928 0.73448382 0.75178809 0.76158831 0.7741605  0.76870444\n",
            " 0.75745617 0.76039364 0.76747876 0.76638757 0.76903545 0.76029541\n",
            " 0.75351538 0.74852997 0.75106407 0.75565645 0.75154502 0.74082941\n",
            " 0.73878662 0.73842976 0.72415609 0.73110161 0.73801603 0.73742649\n",
            " 0.73142221 0.73188251 0.72410437 0.70636056 0.70472635 0.71499202\n",
            " 0.72765728 0.71767606 0.70988241 0.71745884 0.71548847 0.70723459\n",
            " 0.70925667 0.70827406 0.70726044 0.68912356 0.69517951 0.69049404\n",
            " 0.69161109 0.68902528 0.6866774  0.67718747 0.66654944 0.66823022\n",
            " 0.65732628 0.64247638 0.62836677 0.61461413]\n",
            "4 day output [[0.6008956]]\n",
            "5 day input [0.65744739 0.6879806  0.67023679 0.67063502 0.656532   0.67048502\n",
            " 0.67084188 0.67353113 0.66968342 0.66242765 0.66294996 0.662107\n",
            " 0.65072943 0.66543754 0.65616999 0.66463594 0.67255367 0.6763186\n",
            " 0.68262283 0.67979394 0.68816161 0.67976808 0.67784943 0.6874945\n",
            " 0.68385366 0.67991808 0.68786167 0.69375216 0.69791011 0.71058058\n",
            " 0.70381611 0.7039299  0.71595907 0.71646073 0.72613686 0.72870196\n",
            " 0.72923983 0.735544   0.74186373 0.73175322 0.727709   0.73018102\n",
            " 0.72542833 0.72422851 0.71885002 0.70386268 0.70282835 0.69667928\n",
            " 0.73448382 0.75178809 0.76158831 0.7741605  0.76870444 0.75745617\n",
            " 0.76039364 0.76747876 0.76638757 0.76903545 0.76029541 0.75351538\n",
            " 0.74852997 0.75106407 0.75565645 0.75154502 0.74082941 0.73878662\n",
            " 0.73842976 0.72415609 0.73110161 0.73801603 0.73742649 0.73142221\n",
            " 0.73188251 0.72410437 0.70636056 0.70472635 0.71499202 0.72765728\n",
            " 0.71767606 0.70988241 0.71745884 0.71548847 0.70723459 0.70925667\n",
            " 0.70827406 0.70726044 0.68912356 0.69517951 0.69049404 0.69161109\n",
            " 0.68902528 0.6866774  0.67718747 0.66654944 0.66823022 0.65732628\n",
            " 0.64247638 0.62836677 0.61461413 0.60089558]\n",
            "5 day output [[0.5873062]]\n",
            "6 day input [0.6879806  0.67023679 0.67063502 0.656532   0.67048502 0.67084188\n",
            " 0.67353113 0.66968342 0.66242765 0.66294996 0.662107   0.65072943\n",
            " 0.66543754 0.65616999 0.66463594 0.67255367 0.6763186  0.68262283\n",
            " 0.67979394 0.68816161 0.67976808 0.67784943 0.6874945  0.68385366\n",
            " 0.67991808 0.68786167 0.69375216 0.69791011 0.71058058 0.70381611\n",
            " 0.7039299  0.71595907 0.71646073 0.72613686 0.72870196 0.72923983\n",
            " 0.735544   0.74186373 0.73175322 0.727709   0.73018102 0.72542833\n",
            " 0.72422851 0.71885002 0.70386268 0.70282835 0.69667928 0.73448382\n",
            " 0.75178809 0.76158831 0.7741605  0.76870444 0.75745617 0.76039364\n",
            " 0.76747876 0.76638757 0.76903545 0.76029541 0.75351538 0.74852997\n",
            " 0.75106407 0.75565645 0.75154502 0.74082941 0.73878662 0.73842976\n",
            " 0.72415609 0.73110161 0.73801603 0.73742649 0.73142221 0.73188251\n",
            " 0.72410437 0.70636056 0.70472635 0.71499202 0.72765728 0.71767606\n",
            " 0.70988241 0.71745884 0.71548847 0.70723459 0.70925667 0.70827406\n",
            " 0.70726044 0.68912356 0.69517951 0.69049404 0.69161109 0.68902528\n",
            " 0.6866774  0.67718747 0.66654944 0.66823022 0.65732628 0.64247638\n",
            " 0.62836677 0.61461413 0.60089558 0.5873062 ]\n",
            "6 day output [[0.57400054]]\n",
            "7 day input [0.67023679 0.67063502 0.656532   0.67048502 0.67084188 0.67353113\n",
            " 0.66968342 0.66242765 0.66294996 0.662107   0.65072943 0.66543754\n",
            " 0.65616999 0.66463594 0.67255367 0.6763186  0.68262283 0.67979394\n",
            " 0.68816161 0.67976808 0.67784943 0.6874945  0.68385366 0.67991808\n",
            " 0.68786167 0.69375216 0.69791011 0.71058058 0.70381611 0.7039299\n",
            " 0.71595907 0.71646073 0.72613686 0.72870196 0.72923983 0.735544\n",
            " 0.74186373 0.73175322 0.727709   0.73018102 0.72542833 0.72422851\n",
            " 0.71885002 0.70386268 0.70282835 0.69667928 0.73448382 0.75178809\n",
            " 0.76158831 0.7741605  0.76870444 0.75745617 0.76039364 0.76747876\n",
            " 0.76638757 0.76903545 0.76029541 0.75351538 0.74852997 0.75106407\n",
            " 0.75565645 0.75154502 0.74082941 0.73878662 0.73842976 0.72415609\n",
            " 0.73110161 0.73801603 0.73742649 0.73142221 0.73188251 0.72410437\n",
            " 0.70636056 0.70472635 0.71499202 0.72765728 0.71767606 0.70988241\n",
            " 0.71745884 0.71548847 0.70723459 0.70925667 0.70827406 0.70726044\n",
            " 0.68912356 0.69517951 0.69049404 0.69161109 0.68902528 0.6866774\n",
            " 0.67718747 0.66654944 0.66823022 0.65732628 0.64247638 0.62836677\n",
            " 0.61461413 0.60089558 0.5873062  0.57400054]\n",
            "7 day output [[0.5611146]]\n",
            "8 day input [0.67063502 0.656532   0.67048502 0.67084188 0.67353113 0.66968342\n",
            " 0.66242765 0.66294996 0.662107   0.65072943 0.66543754 0.65616999\n",
            " 0.66463594 0.67255367 0.6763186  0.68262283 0.67979394 0.68816161\n",
            " 0.67976808 0.67784943 0.6874945  0.68385366 0.67991808 0.68786167\n",
            " 0.69375216 0.69791011 0.71058058 0.70381611 0.7039299  0.71595907\n",
            " 0.71646073 0.72613686 0.72870196 0.72923983 0.735544   0.74186373\n",
            " 0.73175322 0.727709   0.73018102 0.72542833 0.72422851 0.71885002\n",
            " 0.70386268 0.70282835 0.69667928 0.73448382 0.75178809 0.76158831\n",
            " 0.7741605  0.76870444 0.75745617 0.76039364 0.76747876 0.76638757\n",
            " 0.76903545 0.76029541 0.75351538 0.74852997 0.75106407 0.75565645\n",
            " 0.75154502 0.74082941 0.73878662 0.73842976 0.72415609 0.73110161\n",
            " 0.73801603 0.73742649 0.73142221 0.73188251 0.72410437 0.70636056\n",
            " 0.70472635 0.71499202 0.72765728 0.71767606 0.70988241 0.71745884\n",
            " 0.71548847 0.70723459 0.70925667 0.70827406 0.70726044 0.68912356\n",
            " 0.69517951 0.69049404 0.69161109 0.68902528 0.6866774  0.67718747\n",
            " 0.66654944 0.66823022 0.65732628 0.64247638 0.62836677 0.61461413\n",
            " 0.60089558 0.5873062  0.57400054 0.56111461]\n",
            "8 day output [[0.54876286]]\n",
            "9 day input [0.656532   0.67048502 0.67084188 0.67353113 0.66968342 0.66242765\n",
            " 0.66294996 0.662107   0.65072943 0.66543754 0.65616999 0.66463594\n",
            " 0.67255367 0.6763186  0.68262283 0.67979394 0.68816161 0.67976808\n",
            " 0.67784943 0.6874945  0.68385366 0.67991808 0.68786167 0.69375216\n",
            " 0.69791011 0.71058058 0.70381611 0.7039299  0.71595907 0.71646073\n",
            " 0.72613686 0.72870196 0.72923983 0.735544   0.74186373 0.73175322\n",
            " 0.727709   0.73018102 0.72542833 0.72422851 0.71885002 0.70386268\n",
            " 0.70282835 0.69667928 0.73448382 0.75178809 0.76158831 0.7741605\n",
            " 0.76870444 0.75745617 0.76039364 0.76747876 0.76638757 0.76903545\n",
            " 0.76029541 0.75351538 0.74852997 0.75106407 0.75565645 0.75154502\n",
            " 0.74082941 0.73878662 0.73842976 0.72415609 0.73110161 0.73801603\n",
            " 0.73742649 0.73142221 0.73188251 0.72410437 0.70636056 0.70472635\n",
            " 0.71499202 0.72765728 0.71767606 0.70988241 0.71745884 0.71548847\n",
            " 0.70723459 0.70925667 0.70827406 0.70726044 0.68912356 0.69517951\n",
            " 0.69049404 0.69161109 0.68902528 0.6866774  0.67718747 0.66654944\n",
            " 0.66823022 0.65732628 0.64247638 0.62836677 0.61461413 0.60089558\n",
            " 0.5873062  0.57400054 0.56111461 0.54876286]\n",
            "9 day output [[0.53703326]]\n",
            "10 day input [0.67048502 0.67084188 0.67353113 0.66968342 0.66242765 0.66294996\n",
            " 0.662107   0.65072943 0.66543754 0.65616999 0.66463594 0.67255367\n",
            " 0.6763186  0.68262283 0.67979394 0.68816161 0.67976808 0.67784943\n",
            " 0.6874945  0.68385366 0.67991808 0.68786167 0.69375216 0.69791011\n",
            " 0.71058058 0.70381611 0.7039299  0.71595907 0.71646073 0.72613686\n",
            " 0.72870196 0.72923983 0.735544   0.74186373 0.73175322 0.727709\n",
            " 0.73018102 0.72542833 0.72422851 0.71885002 0.70386268 0.70282835\n",
            " 0.69667928 0.73448382 0.75178809 0.76158831 0.7741605  0.76870444\n",
            " 0.75745617 0.76039364 0.76747876 0.76638757 0.76903545 0.76029541\n",
            " 0.75351538 0.74852997 0.75106407 0.75565645 0.75154502 0.74082941\n",
            " 0.73878662 0.73842976 0.72415609 0.73110161 0.73801603 0.73742649\n",
            " 0.73142221 0.73188251 0.72410437 0.70636056 0.70472635 0.71499202\n",
            " 0.72765728 0.71767606 0.70988241 0.71745884 0.71548847 0.70723459\n",
            " 0.70925667 0.70827406 0.70726044 0.68912356 0.69517951 0.69049404\n",
            " 0.69161109 0.68902528 0.6866774  0.67718747 0.66654944 0.66823022\n",
            " 0.65732628 0.64247638 0.62836677 0.61461413 0.60089558 0.5873062\n",
            " 0.57400054 0.56111461 0.54876286 0.53703326]\n",
            "10 day output [[0.5259836]]\n",
            "11 day input [0.67084188 0.67353113 0.66968342 0.66242765 0.66294996 0.662107\n",
            " 0.65072943 0.66543754 0.65616999 0.66463594 0.67255367 0.6763186\n",
            " 0.68262283 0.67979394 0.68816161 0.67976808 0.67784943 0.6874945\n",
            " 0.68385366 0.67991808 0.68786167 0.69375216 0.69791011 0.71058058\n",
            " 0.70381611 0.7039299  0.71595907 0.71646073 0.72613686 0.72870196\n",
            " 0.72923983 0.735544   0.74186373 0.73175322 0.727709   0.73018102\n",
            " 0.72542833 0.72422851 0.71885002 0.70386268 0.70282835 0.69667928\n",
            " 0.73448382 0.75178809 0.76158831 0.7741605  0.76870444 0.75745617\n",
            " 0.76039364 0.76747876 0.76638757 0.76903545 0.76029541 0.75351538\n",
            " 0.74852997 0.75106407 0.75565645 0.75154502 0.74082941 0.73878662\n",
            " 0.73842976 0.72415609 0.73110161 0.73801603 0.73742649 0.73142221\n",
            " 0.73188251 0.72410437 0.70636056 0.70472635 0.71499202 0.72765728\n",
            " 0.71767606 0.70988241 0.71745884 0.71548847 0.70723459 0.70925667\n",
            " 0.70827406 0.70726044 0.68912356 0.69517951 0.69049404 0.69161109\n",
            " 0.68902528 0.6866774  0.67718747 0.66654944 0.66823022 0.65732628\n",
            " 0.64247638 0.62836677 0.61461413 0.60089558 0.5873062  0.57400054\n",
            " 0.56111461 0.54876286 0.53703326 0.52598357]\n",
            "11 day output [[0.51564175]]\n",
            "12 day input [0.67353113 0.66968342 0.66242765 0.66294996 0.662107   0.65072943\n",
            " 0.66543754 0.65616999 0.66463594 0.67255367 0.6763186  0.68262283\n",
            " 0.67979394 0.68816161 0.67976808 0.67784943 0.6874945  0.68385366\n",
            " 0.67991808 0.68786167 0.69375216 0.69791011 0.71058058 0.70381611\n",
            " 0.7039299  0.71595907 0.71646073 0.72613686 0.72870196 0.72923983\n",
            " 0.735544   0.74186373 0.73175322 0.727709   0.73018102 0.72542833\n",
            " 0.72422851 0.71885002 0.70386268 0.70282835 0.69667928 0.73448382\n",
            " 0.75178809 0.76158831 0.7741605  0.76870444 0.75745617 0.76039364\n",
            " 0.76747876 0.76638757 0.76903545 0.76029541 0.75351538 0.74852997\n",
            " 0.75106407 0.75565645 0.75154502 0.74082941 0.73878662 0.73842976\n",
            " 0.72415609 0.73110161 0.73801603 0.73742649 0.73142221 0.73188251\n",
            " 0.72410437 0.70636056 0.70472635 0.71499202 0.72765728 0.71767606\n",
            " 0.70988241 0.71745884 0.71548847 0.70723459 0.70925667 0.70827406\n",
            " 0.70726044 0.68912356 0.69517951 0.69049404 0.69161109 0.68902528\n",
            " 0.6866774  0.67718747 0.66654944 0.66823022 0.65732628 0.64247638\n",
            " 0.62836677 0.61461413 0.60089558 0.5873062  0.57400054 0.56111461\n",
            " 0.54876286 0.53703326 0.52598357 0.51564175]\n",
            "12 day output [[0.5060088]]\n",
            "13 day input [0.66968342 0.66242765 0.66294996 0.662107   0.65072943 0.66543754\n",
            " 0.65616999 0.66463594 0.67255367 0.6763186  0.68262283 0.67979394\n",
            " 0.68816161 0.67976808 0.67784943 0.6874945  0.68385366 0.67991808\n",
            " 0.68786167 0.69375216 0.69791011 0.71058058 0.70381611 0.7039299\n",
            " 0.71595907 0.71646073 0.72613686 0.72870196 0.72923983 0.735544\n",
            " 0.74186373 0.73175322 0.727709   0.73018102 0.72542833 0.72422851\n",
            " 0.71885002 0.70386268 0.70282835 0.69667928 0.73448382 0.75178809\n",
            " 0.76158831 0.7741605  0.76870444 0.75745617 0.76039364 0.76747876\n",
            " 0.76638757 0.76903545 0.76029541 0.75351538 0.74852997 0.75106407\n",
            " 0.75565645 0.75154502 0.74082941 0.73878662 0.73842976 0.72415609\n",
            " 0.73110161 0.73801603 0.73742649 0.73142221 0.73188251 0.72410437\n",
            " 0.70636056 0.70472635 0.71499202 0.72765728 0.71767606 0.70988241\n",
            " 0.71745884 0.71548847 0.70723459 0.70925667 0.70827406 0.70726044\n",
            " 0.68912356 0.69517951 0.69049404 0.69161109 0.68902528 0.6866774\n",
            " 0.67718747 0.66654944 0.66823022 0.65732628 0.64247638 0.62836677\n",
            " 0.61461413 0.60089558 0.5873062  0.57400054 0.56111461 0.54876286\n",
            " 0.53703326 0.52598357 0.51564175 0.5060088 ]\n",
            "13 day output [[0.49706393]]\n",
            "14 day input [0.66242765 0.66294996 0.662107   0.65072943 0.66543754 0.65616999\n",
            " 0.66463594 0.67255367 0.6763186  0.68262283 0.67979394 0.68816161\n",
            " 0.67976808 0.67784943 0.6874945  0.68385366 0.67991808 0.68786167\n",
            " 0.69375216 0.69791011 0.71058058 0.70381611 0.7039299  0.71595907\n",
            " 0.71646073 0.72613686 0.72870196 0.72923983 0.735544   0.74186373\n",
            " 0.73175322 0.727709   0.73018102 0.72542833 0.72422851 0.71885002\n",
            " 0.70386268 0.70282835 0.69667928 0.73448382 0.75178809 0.76158831\n",
            " 0.7741605  0.76870444 0.75745617 0.76039364 0.76747876 0.76638757\n",
            " 0.76903545 0.76029541 0.75351538 0.74852997 0.75106407 0.75565645\n",
            " 0.75154502 0.74082941 0.73878662 0.73842976 0.72415609 0.73110161\n",
            " 0.73801603 0.73742649 0.73142221 0.73188251 0.72410437 0.70636056\n",
            " 0.70472635 0.71499202 0.72765728 0.71767606 0.70988241 0.71745884\n",
            " 0.71548847 0.70723459 0.70925667 0.70827406 0.70726044 0.68912356\n",
            " 0.69517951 0.69049404 0.69161109 0.68902528 0.6866774  0.67718747\n",
            " 0.66654944 0.66823022 0.65732628 0.64247638 0.62836677 0.61461413\n",
            " 0.60089558 0.5873062  0.57400054 0.56111461 0.54876286 0.53703326\n",
            " 0.52598357 0.51564175 0.5060088  0.49706393]\n",
            "14 day output [[0.48876908]]\n",
            "15 day input [0.66294996 0.662107   0.65072943 0.66543754 0.65616999 0.66463594\n",
            " 0.67255367 0.6763186  0.68262283 0.67979394 0.68816161 0.67976808\n",
            " 0.67784943 0.6874945  0.68385366 0.67991808 0.68786167 0.69375216\n",
            " 0.69791011 0.71058058 0.70381611 0.7039299  0.71595907 0.71646073\n",
            " 0.72613686 0.72870196 0.72923983 0.735544   0.74186373 0.73175322\n",
            " 0.727709   0.73018102 0.72542833 0.72422851 0.71885002 0.70386268\n",
            " 0.70282835 0.69667928 0.73448382 0.75178809 0.76158831 0.7741605\n",
            " 0.76870444 0.75745617 0.76039364 0.76747876 0.76638757 0.76903545\n",
            " 0.76029541 0.75351538 0.74852997 0.75106407 0.75565645 0.75154502\n",
            " 0.74082941 0.73878662 0.73842976 0.72415609 0.73110161 0.73801603\n",
            " 0.73742649 0.73142221 0.73188251 0.72410437 0.70636056 0.70472635\n",
            " 0.71499202 0.72765728 0.71767606 0.70988241 0.71745884 0.71548847\n",
            " 0.70723459 0.70925667 0.70827406 0.70726044 0.68912356 0.69517951\n",
            " 0.69049404 0.69161109 0.68902528 0.6866774  0.67718747 0.66654944\n",
            " 0.66823022 0.65732628 0.64247638 0.62836677 0.61461413 0.60089558\n",
            " 0.5873062  0.57400054 0.56111461 0.54876286 0.53703326 0.52598357\n",
            " 0.51564175 0.5060088  0.49706393 0.48876908]\n",
            "15 day output [[0.48107427]]\n",
            "16 day input [0.662107   0.65072943 0.66543754 0.65616999 0.66463594 0.67255367\n",
            " 0.6763186  0.68262283 0.67979394 0.68816161 0.67976808 0.67784943\n",
            " 0.6874945  0.68385366 0.67991808 0.68786167 0.69375216 0.69791011\n",
            " 0.71058058 0.70381611 0.7039299  0.71595907 0.71646073 0.72613686\n",
            " 0.72870196 0.72923983 0.735544   0.74186373 0.73175322 0.727709\n",
            " 0.73018102 0.72542833 0.72422851 0.71885002 0.70386268 0.70282835\n",
            " 0.69667928 0.73448382 0.75178809 0.76158831 0.7741605  0.76870444\n",
            " 0.75745617 0.76039364 0.76747876 0.76638757 0.76903545 0.76029541\n",
            " 0.75351538 0.74852997 0.75106407 0.75565645 0.75154502 0.74082941\n",
            " 0.73878662 0.73842976 0.72415609 0.73110161 0.73801603 0.73742649\n",
            " 0.73142221 0.73188251 0.72410437 0.70636056 0.70472635 0.71499202\n",
            " 0.72765728 0.71767606 0.70988241 0.71745884 0.71548847 0.70723459\n",
            " 0.70925667 0.70827406 0.70726044 0.68912356 0.69517951 0.69049404\n",
            " 0.69161109 0.68902528 0.6866774  0.67718747 0.66654944 0.66823022\n",
            " 0.65732628 0.64247638 0.62836677 0.61461413 0.60089558 0.5873062\n",
            " 0.57400054 0.56111461 0.54876286 0.53703326 0.52598357 0.51564175\n",
            " 0.5060088  0.49706393 0.48876908 0.48107427]\n",
            "16 day output [[0.47392258]]\n",
            "17 day input [0.65072943 0.66543754 0.65616999 0.66463594 0.67255367 0.6763186\n",
            " 0.68262283 0.67979394 0.68816161 0.67976808 0.67784943 0.6874945\n",
            " 0.68385366 0.67991808 0.68786167 0.69375216 0.69791011 0.71058058\n",
            " 0.70381611 0.7039299  0.71595907 0.71646073 0.72613686 0.72870196\n",
            " 0.72923983 0.735544   0.74186373 0.73175322 0.727709   0.73018102\n",
            " 0.72542833 0.72422851 0.71885002 0.70386268 0.70282835 0.69667928\n",
            " 0.73448382 0.75178809 0.76158831 0.7741605  0.76870444 0.75745617\n",
            " 0.76039364 0.76747876 0.76638757 0.76903545 0.76029541 0.75351538\n",
            " 0.74852997 0.75106407 0.75565645 0.75154502 0.74082941 0.73878662\n",
            " 0.73842976 0.72415609 0.73110161 0.73801603 0.73742649 0.73142221\n",
            " 0.73188251 0.72410437 0.70636056 0.70472635 0.71499202 0.72765728\n",
            " 0.71767606 0.70988241 0.71745884 0.71548847 0.70723459 0.70925667\n",
            " 0.70827406 0.70726044 0.68912356 0.69517951 0.69049404 0.69161109\n",
            " 0.68902528 0.6866774  0.67718747 0.66654944 0.66823022 0.65732628\n",
            " 0.64247638 0.62836677 0.61461413 0.60089558 0.5873062  0.57400054\n",
            " 0.56111461 0.54876286 0.53703326 0.52598357 0.51564175 0.5060088\n",
            " 0.49706393 0.48876908 0.48107427 0.47392258]\n",
            "17 day output [[0.46725395]]\n",
            "18 day input [0.66543754 0.65616999 0.66463594 0.67255367 0.6763186  0.68262283\n",
            " 0.67979394 0.68816161 0.67976808 0.67784943 0.6874945  0.68385366\n",
            " 0.67991808 0.68786167 0.69375216 0.69791011 0.71058058 0.70381611\n",
            " 0.7039299  0.71595907 0.71646073 0.72613686 0.72870196 0.72923983\n",
            " 0.735544   0.74186373 0.73175322 0.727709   0.73018102 0.72542833\n",
            " 0.72422851 0.71885002 0.70386268 0.70282835 0.69667928 0.73448382\n",
            " 0.75178809 0.76158831 0.7741605  0.76870444 0.75745617 0.76039364\n",
            " 0.76747876 0.76638757 0.76903545 0.76029541 0.75351538 0.74852997\n",
            " 0.75106407 0.75565645 0.75154502 0.74082941 0.73878662 0.73842976\n",
            " 0.72415609 0.73110161 0.73801603 0.73742649 0.73142221 0.73188251\n",
            " 0.72410437 0.70636056 0.70472635 0.71499202 0.72765728 0.71767606\n",
            " 0.70988241 0.71745884 0.71548847 0.70723459 0.70925667 0.70827406\n",
            " 0.70726044 0.68912356 0.69517951 0.69049404 0.69161109 0.68902528\n",
            " 0.6866774  0.67718747 0.66654944 0.66823022 0.65732628 0.64247638\n",
            " 0.62836677 0.61461413 0.60089558 0.5873062  0.57400054 0.56111461\n",
            " 0.54876286 0.53703326 0.52598357 0.51564175 0.5060088  0.49706393\n",
            " 0.48876908 0.48107427 0.47392258 0.46725395]\n",
            "18 day output [[0.46100903]]\n",
            "19 day input [0.65616999 0.66463594 0.67255367 0.6763186  0.68262283 0.67979394\n",
            " 0.68816161 0.67976808 0.67784943 0.6874945  0.68385366 0.67991808\n",
            " 0.68786167 0.69375216 0.69791011 0.71058058 0.70381611 0.7039299\n",
            " 0.71595907 0.71646073 0.72613686 0.72870196 0.72923983 0.735544\n",
            " 0.74186373 0.73175322 0.727709   0.73018102 0.72542833 0.72422851\n",
            " 0.71885002 0.70386268 0.70282835 0.69667928 0.73448382 0.75178809\n",
            " 0.76158831 0.7741605  0.76870444 0.75745617 0.76039364 0.76747876\n",
            " 0.76638757 0.76903545 0.76029541 0.75351538 0.74852997 0.75106407\n",
            " 0.75565645 0.75154502 0.74082941 0.73878662 0.73842976 0.72415609\n",
            " 0.73110161 0.73801603 0.73742649 0.73142221 0.73188251 0.72410437\n",
            " 0.70636056 0.70472635 0.71499202 0.72765728 0.71767606 0.70988241\n",
            " 0.71745884 0.71548847 0.70723459 0.70925667 0.70827406 0.70726044\n",
            " 0.68912356 0.69517951 0.69049404 0.69161109 0.68902528 0.6866774\n",
            " 0.67718747 0.66654944 0.66823022 0.65732628 0.64247638 0.62836677\n",
            " 0.61461413 0.60089558 0.5873062  0.57400054 0.56111461 0.54876286\n",
            " 0.53703326 0.52598357 0.51564175 0.5060088  0.49706393 0.48876908\n",
            " 0.48107427 0.47392258 0.46725395 0.46100903]\n",
            "19 day output [[0.45513126]]\n",
            "20 day input [0.66463594 0.67255367 0.6763186  0.68262283 0.67979394 0.68816161\n",
            " 0.67976808 0.67784943 0.6874945  0.68385366 0.67991808 0.68786167\n",
            " 0.69375216 0.69791011 0.71058058 0.70381611 0.7039299  0.71595907\n",
            " 0.71646073 0.72613686 0.72870196 0.72923983 0.735544   0.74186373\n",
            " 0.73175322 0.727709   0.73018102 0.72542833 0.72422851 0.71885002\n",
            " 0.70386268 0.70282835 0.69667928 0.73448382 0.75178809 0.76158831\n",
            " 0.7741605  0.76870444 0.75745617 0.76039364 0.76747876 0.76638757\n",
            " 0.76903545 0.76029541 0.75351538 0.74852997 0.75106407 0.75565645\n",
            " 0.75154502 0.74082941 0.73878662 0.73842976 0.72415609 0.73110161\n",
            " 0.73801603 0.73742649 0.73142221 0.73188251 0.72410437 0.70636056\n",
            " 0.70472635 0.71499202 0.72765728 0.71767606 0.70988241 0.71745884\n",
            " 0.71548847 0.70723459 0.70925667 0.70827406 0.70726044 0.68912356\n",
            " 0.69517951 0.69049404 0.69161109 0.68902528 0.6866774  0.67718747\n",
            " 0.66654944 0.66823022 0.65732628 0.64247638 0.62836677 0.61461413\n",
            " 0.60089558 0.5873062  0.57400054 0.56111461 0.54876286 0.53703326\n",
            " 0.52598357 0.51564175 0.5060088  0.49706393 0.48876908 0.48107427\n",
            " 0.47392258 0.46725395 0.46100903 0.45513126]\n",
            "20 day output [[0.44956878]]\n",
            "21 day input [0.67255367 0.6763186  0.68262283 0.67979394 0.68816161 0.67976808\n",
            " 0.67784943 0.6874945  0.68385366 0.67991808 0.68786167 0.69375216\n",
            " 0.69791011 0.71058058 0.70381611 0.7039299  0.71595907 0.71646073\n",
            " 0.72613686 0.72870196 0.72923983 0.735544   0.74186373 0.73175322\n",
            " 0.727709   0.73018102 0.72542833 0.72422851 0.71885002 0.70386268\n",
            " 0.70282835 0.69667928 0.73448382 0.75178809 0.76158831 0.7741605\n",
            " 0.76870444 0.75745617 0.76039364 0.76747876 0.76638757 0.76903545\n",
            " 0.76029541 0.75351538 0.74852997 0.75106407 0.75565645 0.75154502\n",
            " 0.74082941 0.73878662 0.73842976 0.72415609 0.73110161 0.73801603\n",
            " 0.73742649 0.73142221 0.73188251 0.72410437 0.70636056 0.70472635\n",
            " 0.71499202 0.72765728 0.71767606 0.70988241 0.71745884 0.71548847\n",
            " 0.70723459 0.70925667 0.70827406 0.70726044 0.68912356 0.69517951\n",
            " 0.69049404 0.69161109 0.68902528 0.6866774  0.67718747 0.66654944\n",
            " 0.66823022 0.65732628 0.64247638 0.62836677 0.61461413 0.60089558\n",
            " 0.5873062  0.57400054 0.56111461 0.54876286 0.53703326 0.52598357\n",
            " 0.51564175 0.5060088  0.49706393 0.48876908 0.48107427 0.47392258\n",
            " 0.46725395 0.46100903 0.45513126 0.44956878]\n",
            "21 day output [[0.4442752]]\n",
            "22 day input [0.6763186  0.68262283 0.67979394 0.68816161 0.67976808 0.67784943\n",
            " 0.6874945  0.68385366 0.67991808 0.68786167 0.69375216 0.69791011\n",
            " 0.71058058 0.70381611 0.7039299  0.71595907 0.71646073 0.72613686\n",
            " 0.72870196 0.72923983 0.735544   0.74186373 0.73175322 0.727709\n",
            " 0.73018102 0.72542833 0.72422851 0.71885002 0.70386268 0.70282835\n",
            " 0.69667928 0.73448382 0.75178809 0.76158831 0.7741605  0.76870444\n",
            " 0.75745617 0.76039364 0.76747876 0.76638757 0.76903545 0.76029541\n",
            " 0.75351538 0.74852997 0.75106407 0.75565645 0.75154502 0.74082941\n",
            " 0.73878662 0.73842976 0.72415609 0.73110161 0.73801603 0.73742649\n",
            " 0.73142221 0.73188251 0.72410437 0.70636056 0.70472635 0.71499202\n",
            " 0.72765728 0.71767606 0.70988241 0.71745884 0.71548847 0.70723459\n",
            " 0.70925667 0.70827406 0.70726044 0.68912356 0.69517951 0.69049404\n",
            " 0.69161109 0.68902528 0.6866774  0.67718747 0.66654944 0.66823022\n",
            " 0.65732628 0.64247638 0.62836677 0.61461413 0.60089558 0.5873062\n",
            " 0.57400054 0.56111461 0.54876286 0.53703326 0.52598357 0.51564175\n",
            " 0.5060088  0.49706393 0.48876908 0.48107427 0.47392258 0.46725395\n",
            " 0.46100903 0.45513126 0.44956878 0.4442752 ]\n",
            "22 day output [[0.43921027]]\n",
            "23 day input [0.68262283 0.67979394 0.68816161 0.67976808 0.67784943 0.6874945\n",
            " 0.68385366 0.67991808 0.68786167 0.69375216 0.69791011 0.71058058\n",
            " 0.70381611 0.7039299  0.71595907 0.71646073 0.72613686 0.72870196\n",
            " 0.72923983 0.735544   0.74186373 0.73175322 0.727709   0.73018102\n",
            " 0.72542833 0.72422851 0.71885002 0.70386268 0.70282835 0.69667928\n",
            " 0.73448382 0.75178809 0.76158831 0.7741605  0.76870444 0.75745617\n",
            " 0.76039364 0.76747876 0.76638757 0.76903545 0.76029541 0.75351538\n",
            " 0.74852997 0.75106407 0.75565645 0.75154502 0.74082941 0.73878662\n",
            " 0.73842976 0.72415609 0.73110161 0.73801603 0.73742649 0.73142221\n",
            " 0.73188251 0.72410437 0.70636056 0.70472635 0.71499202 0.72765728\n",
            " 0.71767606 0.70988241 0.71745884 0.71548847 0.70723459 0.70925667\n",
            " 0.70827406 0.70726044 0.68912356 0.69517951 0.69049404 0.69161109\n",
            " 0.68902528 0.6866774  0.67718747 0.66654944 0.66823022 0.65732628\n",
            " 0.64247638 0.62836677 0.61461413 0.60089558 0.5873062  0.57400054\n",
            " 0.56111461 0.54876286 0.53703326 0.52598357 0.51564175 0.5060088\n",
            " 0.49706393 0.48876908 0.48107427 0.47392258 0.46725395 0.46100903\n",
            " 0.45513126 0.44956878 0.4442752  0.43921027]\n",
            "23 day output [[0.43434018]]\n",
            "24 day input [0.67979394 0.68816161 0.67976808 0.67784943 0.6874945  0.68385366\n",
            " 0.67991808 0.68786167 0.69375216 0.69791011 0.71058058 0.70381611\n",
            " 0.7039299  0.71595907 0.71646073 0.72613686 0.72870196 0.72923983\n",
            " 0.735544   0.74186373 0.73175322 0.727709   0.73018102 0.72542833\n",
            " 0.72422851 0.71885002 0.70386268 0.70282835 0.69667928 0.73448382\n",
            " 0.75178809 0.76158831 0.7741605  0.76870444 0.75745617 0.76039364\n",
            " 0.76747876 0.76638757 0.76903545 0.76029541 0.75351538 0.74852997\n",
            " 0.75106407 0.75565645 0.75154502 0.74082941 0.73878662 0.73842976\n",
            " 0.72415609 0.73110161 0.73801603 0.73742649 0.73142221 0.73188251\n",
            " 0.72410437 0.70636056 0.70472635 0.71499202 0.72765728 0.71767606\n",
            " 0.70988241 0.71745884 0.71548847 0.70723459 0.70925667 0.70827406\n",
            " 0.70726044 0.68912356 0.69517951 0.69049404 0.69161109 0.68902528\n",
            " 0.6866774  0.67718747 0.66654944 0.66823022 0.65732628 0.64247638\n",
            " 0.62836677 0.61461413 0.60089558 0.5873062  0.57400054 0.56111461\n",
            " 0.54876286 0.53703326 0.52598357 0.51564175 0.5060088  0.49706393\n",
            " 0.48876908 0.48107427 0.47392258 0.46725395 0.46100903 0.45513126\n",
            " 0.44956878 0.4442752  0.43921027 0.43434018]\n",
            "24 day output [[0.42963663]]\n",
            "25 day input [0.68816161 0.67976808 0.67784943 0.6874945  0.68385366 0.67991808\n",
            " 0.68786167 0.69375216 0.69791011 0.71058058 0.70381611 0.7039299\n",
            " 0.71595907 0.71646073 0.72613686 0.72870196 0.72923983 0.735544\n",
            " 0.74186373 0.73175322 0.727709   0.73018102 0.72542833 0.72422851\n",
            " 0.71885002 0.70386268 0.70282835 0.69667928 0.73448382 0.75178809\n",
            " 0.76158831 0.7741605  0.76870444 0.75745617 0.76039364 0.76747876\n",
            " 0.76638757 0.76903545 0.76029541 0.75351538 0.74852997 0.75106407\n",
            " 0.75565645 0.75154502 0.74082941 0.73878662 0.73842976 0.72415609\n",
            " 0.73110161 0.73801603 0.73742649 0.73142221 0.73188251 0.72410437\n",
            " 0.70636056 0.70472635 0.71499202 0.72765728 0.71767606 0.70988241\n",
            " 0.71745884 0.71548847 0.70723459 0.70925667 0.70827406 0.70726044\n",
            " 0.68912356 0.69517951 0.69049404 0.69161109 0.68902528 0.6866774\n",
            " 0.67718747 0.66654944 0.66823022 0.65732628 0.64247638 0.62836677\n",
            " 0.61461413 0.60089558 0.5873062  0.57400054 0.56111461 0.54876286\n",
            " 0.53703326 0.52598357 0.51564175 0.5060088  0.49706393 0.48876908\n",
            " 0.48107427 0.47392258 0.46725395 0.46100903 0.45513126 0.44956878\n",
            " 0.4442752  0.43921027 0.43434018 0.42963663]\n",
            "25 day output [[0.42507654]]\n",
            "26 day input [0.67976808 0.67784943 0.6874945  0.68385366 0.67991808 0.68786167\n",
            " 0.69375216 0.69791011 0.71058058 0.70381611 0.7039299  0.71595907\n",
            " 0.71646073 0.72613686 0.72870196 0.72923983 0.735544   0.74186373\n",
            " 0.73175322 0.727709   0.73018102 0.72542833 0.72422851 0.71885002\n",
            " 0.70386268 0.70282835 0.69667928 0.73448382 0.75178809 0.76158831\n",
            " 0.7741605  0.76870444 0.75745617 0.76039364 0.76747876 0.76638757\n",
            " 0.76903545 0.76029541 0.75351538 0.74852997 0.75106407 0.75565645\n",
            " 0.75154502 0.74082941 0.73878662 0.73842976 0.72415609 0.73110161\n",
            " 0.73801603 0.73742649 0.73142221 0.73188251 0.72410437 0.70636056\n",
            " 0.70472635 0.71499202 0.72765728 0.71767606 0.70988241 0.71745884\n",
            " 0.71548847 0.70723459 0.70925667 0.70827406 0.70726044 0.68912356\n",
            " 0.69517951 0.69049404 0.69161109 0.68902528 0.6866774  0.67718747\n",
            " 0.66654944 0.66823022 0.65732628 0.64247638 0.62836677 0.61461413\n",
            " 0.60089558 0.5873062  0.57400054 0.56111461 0.54876286 0.53703326\n",
            " 0.52598357 0.51564175 0.5060088  0.49706393 0.48876908 0.48107427\n",
            " 0.47392258 0.46725395 0.46100903 0.45513126 0.44956878 0.4442752\n",
            " 0.43921027 0.43434018 0.42963663 0.42507654]\n",
            "26 day output [[0.4206417]]\n",
            "27 day input [0.67784943 0.6874945  0.68385366 0.67991808 0.68786167 0.69375216\n",
            " 0.69791011 0.71058058 0.70381611 0.7039299  0.71595907 0.71646073\n",
            " 0.72613686 0.72870196 0.72923983 0.735544   0.74186373 0.73175322\n",
            " 0.727709   0.73018102 0.72542833 0.72422851 0.71885002 0.70386268\n",
            " 0.70282835 0.69667928 0.73448382 0.75178809 0.76158831 0.7741605\n",
            " 0.76870444 0.75745617 0.76039364 0.76747876 0.76638757 0.76903545\n",
            " 0.76029541 0.75351538 0.74852997 0.75106407 0.75565645 0.75154502\n",
            " 0.74082941 0.73878662 0.73842976 0.72415609 0.73110161 0.73801603\n",
            " 0.73742649 0.73142221 0.73188251 0.72410437 0.70636056 0.70472635\n",
            " 0.71499202 0.72765728 0.71767606 0.70988241 0.71745884 0.71548847\n",
            " 0.70723459 0.70925667 0.70827406 0.70726044 0.68912356 0.69517951\n",
            " 0.69049404 0.69161109 0.68902528 0.6866774  0.67718747 0.66654944\n",
            " 0.66823022 0.65732628 0.64247638 0.62836677 0.61461413 0.60089558\n",
            " 0.5873062  0.57400054 0.56111461 0.54876286 0.53703326 0.52598357\n",
            " 0.51564175 0.5060088  0.49706393 0.48876908 0.48107427 0.47392258\n",
            " 0.46725395 0.46100903 0.45513126 0.44956878 0.4442752  0.43921027\n",
            " 0.43434018 0.42963663 0.42507654 0.42064169]\n",
            "27 day output [[0.41631782]]\n",
            "28 day input [0.6874945  0.68385366 0.67991808 0.68786167 0.69375216 0.69791011\n",
            " 0.71058058 0.70381611 0.7039299  0.71595907 0.71646073 0.72613686\n",
            " 0.72870196 0.72923983 0.735544   0.74186373 0.73175322 0.727709\n",
            " 0.73018102 0.72542833 0.72422851 0.71885002 0.70386268 0.70282835\n",
            " 0.69667928 0.73448382 0.75178809 0.76158831 0.7741605  0.76870444\n",
            " 0.75745617 0.76039364 0.76747876 0.76638757 0.76903545 0.76029541\n",
            " 0.75351538 0.74852997 0.75106407 0.75565645 0.75154502 0.74082941\n",
            " 0.73878662 0.73842976 0.72415609 0.73110161 0.73801603 0.73742649\n",
            " 0.73142221 0.73188251 0.72410437 0.70636056 0.70472635 0.71499202\n",
            " 0.72765728 0.71767606 0.70988241 0.71745884 0.71548847 0.70723459\n",
            " 0.70925667 0.70827406 0.70726044 0.68912356 0.69517951 0.69049404\n",
            " 0.69161109 0.68902528 0.6866774  0.67718747 0.66654944 0.66823022\n",
            " 0.65732628 0.64247638 0.62836677 0.61461413 0.60089558 0.5873062\n",
            " 0.57400054 0.56111461 0.54876286 0.53703326 0.52598357 0.51564175\n",
            " 0.5060088  0.49706393 0.48876908 0.48107427 0.47392258 0.46725395\n",
            " 0.46100903 0.45513126 0.44956878 0.4442752  0.43921027 0.43434018\n",
            " 0.42963663 0.42507654 0.42064169 0.41631782]\n",
            "28 day output [[0.41209382]]\n",
            "29 day input [0.68385366 0.67991808 0.68786167 0.69375216 0.69791011 0.71058058\n",
            " 0.70381611 0.7039299  0.71595907 0.71646073 0.72613686 0.72870196\n",
            " 0.72923983 0.735544   0.74186373 0.73175322 0.727709   0.73018102\n",
            " 0.72542833 0.72422851 0.71885002 0.70386268 0.70282835 0.69667928\n",
            " 0.73448382 0.75178809 0.76158831 0.7741605  0.76870444 0.75745617\n",
            " 0.76039364 0.76747876 0.76638757 0.76903545 0.76029541 0.75351538\n",
            " 0.74852997 0.75106407 0.75565645 0.75154502 0.74082941 0.73878662\n",
            " 0.73842976 0.72415609 0.73110161 0.73801603 0.73742649 0.73142221\n",
            " 0.73188251 0.72410437 0.70636056 0.70472635 0.71499202 0.72765728\n",
            " 0.71767606 0.70988241 0.71745884 0.71548847 0.70723459 0.70925667\n",
            " 0.70827406 0.70726044 0.68912356 0.69517951 0.69049404 0.69161109\n",
            " 0.68902528 0.6866774  0.67718747 0.66654944 0.66823022 0.65732628\n",
            " 0.64247638 0.62836677 0.61461413 0.60089558 0.5873062  0.57400054\n",
            " 0.56111461 0.54876286 0.53703326 0.52598357 0.51564175 0.5060088\n",
            " 0.49706393 0.48876908 0.48107427 0.47392258 0.46725395 0.46100903\n",
            " 0.45513126 0.44956878 0.4442752  0.43921027 0.43434018 0.42963663\n",
            " 0.42507654 0.42064169 0.41631782 0.41209382]\n",
            "29 day output [[0.40796113]]\n",
            "[[0.6573262810707092], [0.6424763798713684], [0.6283667683601379], [0.6146141290664673], [0.6008955836296082], [0.5873062014579773], [0.5740005373954773], [0.5611146092414856], [0.548762857913971], [0.5370332598686218], [0.5259835720062256], [0.5156417489051819], [0.5060088038444519], [0.49706393480300903], [0.4887690842151642], [0.4810742735862732], [0.47392258048057556], [0.4672539532184601], [0.46100902557373047], [0.45513126254081726], [0.4495687782764435], [0.4442752003669739], [0.43921026587486267], [0.4343401789665222], [0.4296366274356842], [0.42507654428482056], [0.42064169049263], [0.41631782054901123], [0.4120938181877136], [0.4079611301422119]]\n"
          ]
        }
      ]
    },
    {
      "cell_type": "code",
      "metadata": {
        "id": "IlnftgYC09yG"
      },
      "source": [
        "day_new=np.arange(1,101)\n",
        "day_pred=np.arange(101,131)"
      ],
      "execution_count": null,
      "outputs": []
    },
    {
      "cell_type": "code",
      "metadata": {
        "id": "bze8nU5i097V"
      },
      "source": [
        "import matplotlib.pyplot as plt"
      ],
      "execution_count": null,
      "outputs": []
    },
    {
      "cell_type": "code",
      "metadata": {
        "colab": {
          "base_uri": "https://localhost:8080/"
        },
        "id": "VRcB21k71G4L",
        "outputId": "2df60ba4-1bf6-496e-a464-1b32d2b52961"
      },
      "source": [
        "len(df1)"
      ],
      "execution_count": null,
      "outputs": [
        {
          "output_type": "execute_result",
          "data": {
            "text/plain": [
              "4490"
            ]
          },
          "metadata": {},
          "execution_count": 46
        }
      ]
    },
    {
      "cell_type": "code",
      "metadata": {
        "colab": {
          "base_uri": "https://localhost:8080/",
          "height": 469
        },
        "id": "TEVjz_Qy1Jec",
        "outputId": "06f57d67-9bb3-41c3-e16c-bfb59acc7d5e"
      },
      "source": [
        "plt.plot(day_new,scaler.inverse_transform(df1[4390:]))\n",
        "plt.plot(day_pred,scaler.inverse_transform(lst_output))\n",
        "plt.title('Maruti Prediction of Next 30 Days')"
      ],
      "execution_count": null,
      "outputs": [
        {
          "output_type": "execute_result",
          "data": {
            "text/plain": [
              "Text(0.5, 1.0, 'Maruti Prediction of Next 30 Days')"
            ]
          },
          "metadata": {},
          "execution_count": 47
        },
        {
          "output_type": "display_data",
          "data": {
            "image/png": "[encoded data removed]",
            "text/plain": [
              "<Figure size 640x480 with 1 Axes>"
            ]
          },
          "metadata": {}
        }
      ]
    },
    {
      "cell_type": "code",
      "metadata": {
        "colab": {
          "base_uri": "https://localhost:8080/",
          "height": 447
        },
        "id": "ESp1lp3R1LfH",
        "outputId": "b67f1f09-5e29-41ba-b54f-0ab3dfeeca24"
      },
      "source": [
        "df3=df1.tolist()\n",
        "df3.extend(lst_output)\n",
        "plt.plot(df3[4230:])"
      ],
      "execution_count": null,
      "outputs": [
        {
          "output_type": "execute_result",
          "data": {
            "text/plain": [
              "[<matplotlib.lines.Line2D at 0x7fd0c234d450>]"
            ]
          },
          "metadata": {},
          "execution_count": 48
        },
        {
          "output_type": "display_data",
          "data": {
            "image/png": "[encoded data removed]",
            "text/plain": [
              "<Figure size 640x480 with 1 Axes>"
            ]
          },
          "metadata": {}
        }
      ]
    },
    {
      "cell_type": "code",
      "metadata": {
        "id": "OQK_oXwD1Lxv"
      },
      "source": [
        "df3=scaler.inverse_transform(df3).tolist()"
      ],
      "execution_count": null,
      "outputs": []
    },
    {
      "cell_type": "code",
      "metadata": {
        "colab": {
          "base_uri": "https://localhost:8080/",
          "height": 447
        },
        "id": "X3DpOmIs1MCQ",
        "outputId": "f1bf3aea-97f5-4dff-d3ee-03c38310b077"
      },
      "source": [
        "plt.plot(df3)"
      ],
      "execution_count": null,
      "outputs": [
        {
          "output_type": "execute_result",
          "data": {
            "text/plain": [
              "[<matplotlib.lines.Line2D at 0x7fd0c06b8850>]"
            ]
          },
          "metadata": {},
          "execution_count": 50
        },
        {
          "output_type": "display_data",
          "data": {
            "image/png": "[encoded data removed]",
            "text/plain": [
              "<Figure size 640x480 with 1 Axes>"
            ]
          },
          "metadata": {}
        }
      ]
    }
  ]
}